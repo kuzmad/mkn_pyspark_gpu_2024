{
 "cells": [
  {
   "cell_type": "code",
   "execution_count": null,
   "metadata": {
    "colab": {
     "base_uri": "https://localhost:8080/"
    },
    "id": "YQvwElqGWoF1",
    "outputId": "b6538d7b-2559-4c42-e5f3-56e810a09165"
   },
   "outputs": [],
   "source": [
    "!pip install pyspark findspark nltk"
   ]
  },
  {
   "cell_type": "code",
   "execution_count": null,
   "metadata": {
    "colab": {
     "base_uri": "https://localhost:8080/"
    },
    "id": "vQJQt0g6e_Cj",
    "outputId": "43d6935e-767d-4576-fcc1-ede94d9cb3a2"
   },
   "outputs": [],
   "source": [
    "import nltk\n",
    "nltk.download('punkt')\n",
    "nltk.download('stopwords')\n",
    "from nltk.corpus import stopwords\n",
    "import re \n",
    "import string"
   ]
  },
  {
   "cell_type": "code",
   "execution_count": null,
   "metadata": {
    "id": "hvkEEKu5e-Th"
   },
   "outputs": [],
   "source": [
    "from pyspark.sql import SparkSession\n",
    "from pyspark import SparkContext, SparkConf\n",
    "\n",
    "conf = SparkConf().set('spark.ui.port', '4050').set('spark.serializer', 'org.apache.spark.serializer.KryoSerializer')\\\n",
    "                  .set('spark.dynamicAllocation.enabled', 'true')\\\n",
    "                  .set('spark.shuffle.service.enabled', 'true') #трекер, чтобы возвращать ресурсы\n",
    "sc = SparkContext(conf=conf)\n",
    "spark = SparkSession.builder.master('local[*]').getOrCreate()"
   ]
  },
  {
   "cell_type": "markdown",
   "metadata": {
    "id": "ysb-yADyseDE"
   },
   "source": [
    "Как проще всего создать RDD? Вызвать метод и передать ему нужный объект"
   ]
  },
  {
   "cell_type": "code",
   "execution_count": null,
   "metadata": {
    "id": "459H4QvujHKR"
   },
   "outputs": [],
   "source": [
    "first_rdd  = sc.parallelize(range(1000000))"
   ]
  },
  {
   "cell_type": "code",
   "execution_count": null,
   "metadata": {
    "colab": {
     "base_uri": "https://localhost:8080/"
    },
    "id": "CRhiwucq51Sl",
    "outputId": "596c7a7c-f394-4f63-d632-19f003d73e7a"
   },
   "outputs": [],
   "source": [
    "first_rdd.getNumPartitions()"
   ]
  },
  {
   "cell_type": "markdown",
   "metadata": {
    "id": "cmi41EwXy1gI"
   },
   "source": [
    "А можно ли менять количество партиций? Да, для этого есть два метода: repartition() и coalesce(). Первый используется для увеличения и уменьшения количества партиций, второй только для снижения, прчем coalesce будет работать эффективнее. Много партиций - дольше будет считаться, но если данных много, то обязательно нужно"
   ]
  },
  {
   "cell_type": "markdown",
   "metadata": {
    "id": "ajdioFzEsgZB"
   },
   "source": [
    "repartition()` всегда приводит к равномерному перераспределению данных, что ведет к shuffle. Если Вы уменьшаете число партиций, то стоит использовать `coalesce()`, который может избежать shuffle"
   ]
  },
  {
   "cell_type": "code",
   "execution_count": null,
   "metadata": {
    "colab": {
     "base_uri": "https://localhost:8080/"
    },
    "id": "rTL0MygY593s",
    "outputId": "5ee2d63f-c1e1-4410-c82e-1951e06d4c92"
   },
   "outputs": [],
   "source": [
    "first_rdd = first_rdd.repartition(5)\n",
    "print(first_rdd.getNumPartitions())"
   ]
  },
  {
   "cell_type": "code",
   "execution_count": null,
   "metadata": {
    "colab": {
     "base_uri": "https://localhost:8080/"
    },
    "id": "S72uRYdGtz6i",
    "outputId": "b6c307e8-6818-4191-8007-54d4b77117b9"
   },
   "outputs": [],
   "source": [
    "first_rdd = first_rdd.repartition(2)\n",
    "print(first_rdd.getNumPartitions())"
   ]
  },
  {
   "cell_type": "code",
   "execution_count": null,
   "metadata": {
    "colab": {
     "base_uri": "https://localhost:8080/"
    },
    "id": "6k45ZdHFt1uU",
    "outputId": "71bcbc56-32e2-491f-fee5-4b2cc81cad91"
   },
   "outputs": [],
   "source": [
    "first_rdd = first_rdd.coalesce(1)\n",
    "print(first_rdd.getNumPartitions())"
   ]
  },
  {
   "cell_type": "code",
   "execution_count": null,
   "metadata": {
    "colab": {
     "base_uri": "https://localhost:8080/"
    },
    "id": "VOjksB0guT4k",
    "outputId": "49186c1e-2e33-48fc-ef27-14c247632485"
   },
   "outputs": [],
   "source": [
    "a = %time first_rdd.sum()"
   ]
  },
  {
   "cell_type": "markdown",
   "metadata": {
    "id": "i63A8-0uuDJ2"
   },
   "source": [
    "Посмотрим на время выполнения для разного числа партиций"
   ]
  },
  {
   "cell_type": "code",
   "execution_count": null,
   "metadata": {
    "colab": {
     "base_uri": "https://localhost:8080/"
    },
    "id": "Os4QBpNTuBvk",
    "outputId": "04597f53-cebc-44d4-9213-214584fb7ef4"
   },
   "outputs": [],
   "source": [
    "result = []\n",
    "first_rdd  = sc.parallelize(range(500000))\n",
    "for partition in range(1, 12):\n",
    "    first_rdd = first_rdd.repartition(partition)\n",
    "    time = %timeit -o  -n 1 -r 5 first_rdd.sum()\n",
    "    time = time.best\n",
    "    result.append((partition, time))"
   ]
  },
  {
   "cell_type": "code",
   "execution_count": null,
   "metadata": {
    "id": "tICS1hZBxAYT"
   },
   "outputs": [],
   "source": [
    "import matplotlib.pyplot as plt\n",
    "import os\n",
    "%matplotlib inline"
   ]
  },
  {
   "cell_type": "code",
   "execution_count": null,
   "metadata": {
    "colab": {
     "base_uri": "https://localhost:8080/",
     "height": 282
    },
    "id": "aMfCB5CLxFWP",
    "outputId": "516bd630-5e3f-42c9-d600-adc2728ab2b8"
   },
   "outputs": [],
   "source": [
    "plt.plot([res[1] for res in result])"
   ]
  },
  {
   "cell_type": "markdown",
   "metadata": {
    "id": "KKB8WZZ3z1if"
   },
   "source": [
    "А почему лучший результат при небольшом количестве партиций?"
   ]
  },
  {
   "cell_type": "code",
   "execution_count": null,
   "metadata": {
    "colab": {
     "base_uri": "https://localhost:8080/"
    },
    "id": "kuiJd2Oqz0yY",
    "outputId": "0a6ac64a-5525-4c2a-86c2-153309754da6"
   },
   "outputs": [],
   "source": [
    "import multiprocessing\n",
    "\n",
    "multiprocessing.cpu_count()"
   ]
  },
  {
   "cell_type": "markdown",
   "metadata": {
    "id": "2s8tP7e-y_ib"
   },
   "source": [
    "Из list также можно создавать RDD"
   ]
  },
  {
   "cell_type": "code",
   "execution_count": null,
   "metadata": {
    "id": "Xo5auCMsy7aH"
   },
   "outputs": [],
   "source": [
    "bad_list = [1, 2, 3, 'a', 10, 'b']"
   ]
  },
  {
   "cell_type": "code",
   "execution_count": null,
   "metadata": {
    "id": "VCpu1vIWzHYT"
   },
   "outputs": [],
   "source": [
    "bad_list_rdd = sc.parallelize(bad_list)"
   ]
  },
  {
   "cell_type": "code",
   "execution_count": null,
   "metadata": {
    "colab": {
     "base_uri": "https://localhost:8080/"
    },
    "id": "gFHIC38GzbAT",
    "outputId": "1686512f-6393-4843-aa0b-60db63b2268d"
   },
   "outputs": [],
   "source": [
    "bad_list_rdd.collect()"
   ]
  },
  {
   "cell_type": "markdown",
   "metadata": {
    "id": "6gQxsxLd0UTH"
   },
   "source": [
    "Еще можно создать RDD через textFile и wholeTextFiles"
   ]
  },
  {
   "cell_type": "code",
   "execution_count": null,
   "metadata": {
    "id": "0l5oE92a1q2z"
   },
   "outputs": [],
   "source": [
    "text_rdd = sc.textFile('spark_text.txt')"
   ]
  },
  {
   "cell_type": "code",
   "execution_count": null,
   "metadata": {
    "colab": {
     "base_uri": "https://localhost:8080/"
    },
    "id": "2FKzdhuh10Z2",
    "outputId": "58f4b5ab-9431-438d-e9b6-f5bbe96135e2"
   },
   "outputs": [],
   "source": [
    "text_rdd.take(1)"
   ]
  },
  {
   "cell_type": "markdown",
   "metadata": {
    "id": "065n4emo2Kuf"
   },
   "source": [
    "wholeTextFiles создает PairRDD в формате key-value, где ключ - имя файла, а значения - то, что находистя в файле. Имена файлов считываются из папки через wholeTextFiles"
   ]
  },
  {
   "cell_type": "code",
   "execution_count": null,
   "metadata": {
    "id": "cTGV-Tk42nNT"
   },
   "outputs": [],
   "source": [
    "dirPath = 'files'\n",
    "os.mkdir(dirPath)\n",
    "with open(os.path.join(dirPath, \"1.txt\"), \"w\") as file1:\n",
    "    _ = file1.write(\"[1 2 3]\")\n",
    "with open(os.path.join(dirPath, \"2.txt\"), \"w\") as file2:\n",
    "    _ = file2.write(\"[4 5 6]\")\n",
    "textFiles = sc.wholeTextFiles(dirPath)"
   ]
  },
  {
   "cell_type": "code",
   "execution_count": null,
   "metadata": {
    "colab": {
     "base_uri": "https://localhost:8080/"
    },
    "id": "2odeXS186wbv",
    "outputId": "526bb8df-6731-417c-d4c3-b6b2e12a0f0e"
   },
   "outputs": [],
   "source": [
    "textFiles"
   ]
  },
  {
   "cell_type": "code",
   "execution_count": null,
   "metadata": {
    "colab": {
     "base_uri": "https://localhost:8080/"
    },
    "id": "Q49V_P0M6fV-",
    "outputId": "333fa064-d46b-4bd0-b23f-8264b0eb4768"
   },
   "outputs": [],
   "source": [
    "textFiles.collect()"
   ]
  },
  {
   "cell_type": "markdown",
   "metadata": {
    "id": "AUEQ7fTh7KIg"
   },
   "source": [
    "У RDD есть стандартно 2 типа методов - actions и transformations"
   ]
  },
  {
   "cell_type": "markdown",
   "metadata": {
    "id": "S9xpZ-Ns7b-b"
   },
   "source": [
    "**Actions**\n",
    "\n",
    "Начнем с actions, то есть того, что заставит посчитать"
   ]
  },
  {
   "cell_type": "code",
   "execution_count": null,
   "metadata": {
    "id": "xn4EpCXJ7WWo"
   },
   "outputs": [],
   "source": [
    "first_rdd = first_rdd.coalesce(2)"
   ]
  },
  {
   "cell_type": "code",
   "execution_count": null,
   "metadata": {
    "colab": {
     "base_uri": "https://localhost:8080/"
    },
    "id": "TMUv2tyh7ob4",
    "outputId": "6cb2eac0-3904-4dd3-d544-2b6cd70ac38c"
   },
   "outputs": [],
   "source": [
    "first_rdd.sum()"
   ]
  },
  {
   "cell_type": "code",
   "execution_count": null,
   "metadata": {
    "colab": {
     "base_uri": "https://localhost:8080/"
    },
    "id": "DUDdK1co7qQc",
    "outputId": "40d81031-2c94-4d95-d086-693f9ee19246"
   },
   "outputs": [],
   "source": [
    "first_rdd.min(), first_rdd.max()"
   ]
  },
  {
   "cell_type": "code",
   "execution_count": null,
   "metadata": {
    "colab": {
     "base_uri": "https://localhost:8080/"
    },
    "id": "gKijZqmp8uir",
    "outputId": "b2f7a841-1d85-4627-bb41-3c81f5329f43"
   },
   "outputs": [],
   "source": [
    "first_rdd.first()"
   ]
  },
  {
   "cell_type": "code",
   "execution_count": null,
   "metadata": {
    "colab": {
     "base_uri": "https://localhost:8080/"
    },
    "id": "xUnqk-QI7wqE",
    "outputId": "6d9274f9-2c9f-4555-e170-25803aba770f"
   },
   "outputs": [],
   "source": [
    "first_rdd.take(2)"
   ]
  },
  {
   "cell_type": "code",
   "execution_count": null,
   "metadata": {
    "colab": {
     "base_uri": "https://localhost:8080/"
    },
    "id": "aUZk1eg87zky",
    "outputId": "90038325-e83a-4c82-cb39-9170a2239df4"
   },
   "outputs": [],
   "source": [
    "first_rdd.count()"
   ]
  },
  {
   "cell_type": "code",
   "execution_count": null,
   "metadata": {
    "id": "CMCFnJjG76Q-"
   },
   "outputs": [],
   "source": [
    "a = first_rdd.collect()"
   ]
  },
  {
   "cell_type": "code",
   "execution_count": null,
   "metadata": {
    "id": "oh1IT2cP8BPj"
   },
   "outputs": [],
   "source": [
    "first_rdd.saveAsTextFile, first_rdd.saveAsPickleFile"
   ]
  },
  {
   "cell_type": "code",
   "execution_count": null,
   "metadata": {
    "colab": {
     "base_uri": "https://localhost:8080/"
    },
    "id": "TFXlzHqA8T1M",
    "outputId": "dcd6c160-f40a-472e-da0e-78e17c32710b"
   },
   "outputs": [],
   "source": [
    "first_rdd.reduce(lambda x, y: x + y)"
   ]
  },
  {
   "cell_type": "markdown",
   "metadata": {
    "id": "Ev48GQfDqnrS"
   },
   "source": [
    "Если нужно получить небольшое число записей на драйвер и, при этом, сохранить распределение, то лучше сделать выборку"
   ]
  },
  {
   "cell_type": "code",
   "execution_count": null,
   "metadata": {
    "colab": {
     "base_uri": "https://localhost:8080/"
    },
    "id": "pDHNH3H19Pib",
    "outputId": "1e2d95b3-8e4b-47ed-90cf-378e388b529a"
   },
   "outputs": [],
   "source": [
    "first_rdd.takeSample(withReplacement=False, num=5, seed=5757)"
   ]
  },
  {
   "cell_type": "markdown",
   "metadata": {
    "id": "Aiad4-a8ejvL"
   },
   "source": [
    "**Transformations**\n",
    "\n",
    "Это просто трансформации, которые не будут вычисляться до вызова actions"
   ]
  },
  {
   "cell_type": "code",
   "execution_count": null,
   "metadata": {
    "id": "BMpdFk3W9P-E"
   },
   "outputs": [],
   "source": [
    "a = sc.parallelize([1, 2, 3])\n",
    "b = sc.parallelize([2, 3, 4])"
   ]
  },
  {
   "cell_type": "code",
   "execution_count": null,
   "metadata": {
    "id": "SmJMLmCO9Xi2"
   },
   "outputs": [],
   "source": [
    "c = a + b"
   ]
  },
  {
   "cell_type": "code",
   "execution_count": null,
   "metadata": {
    "colab": {
     "base_uri": "https://localhost:8080/"
    },
    "id": "X196_-ZQ9arZ",
    "outputId": "59d7e3a0-e2ae-4eae-eae5-f02e751565e8"
   },
   "outputs": [],
   "source": [
    "c.collect()"
   ]
  },
  {
   "cell_type": "markdown",
   "metadata": {
    "id": "tQNtnHNtfzEC"
   },
   "source": [
    "filter"
   ]
  },
  {
   "cell_type": "code",
   "execution_count": null,
   "metadata": {
    "colab": {
     "base_uri": "https://localhost:8080/"
    },
    "id": "M7qMFVREfxv8",
    "outputId": "fd7097ea-2e5d-444f-e8d8-2075f947a8b0"
   },
   "outputs": [],
   "source": [
    "text_rdd.count()"
   ]
  },
  {
   "cell_type": "code",
   "execution_count": null,
   "metadata": {
    "colab": {
     "base_uri": "https://localhost:8080/"
    },
    "id": "3wiJ08Frf-Jz",
    "outputId": "2ca426c3-e371-4e37-ae62-685f6d3f515d"
   },
   "outputs": [],
   "source": [
    "text_rdd.filter(lambda x: x != '').count()"
   ]
  },
  {
   "cell_type": "code",
   "execution_count": null,
   "metadata": {
    "id": "wYQT0S4ugRRp"
   },
   "outputs": [],
   "source": [
    "text_rdd = text_rdd.filter(lambda x: x != '')"
   ]
  },
  {
   "cell_type": "markdown",
   "metadata": {
    "id": "E41esva9ex2j"
   },
   "source": [
    "map"
   ]
  },
  {
   "cell_type": "code",
   "execution_count": null,
   "metadata": {
    "id": "JQ5yWa7yfUVv"
   },
   "outputs": [],
   "source": [
    "stop_words = stopwords.words(\"english\")\n",
    "stop_words = set(stop_words)"
   ]
  },
  {
   "cell_type": "code",
   "execution_count": null,
   "metadata": {
    "id": "gny7-CMYgkQQ"
   },
   "outputs": [],
   "source": [
    "def mapper_text(text):\n",
    "    clean_text = re.sub(rf\"[{string.punctuation}]\", \"\", text)\n",
    "    words = nltk.word_tokenize(clean_text)\n",
    "    words_with_value = [(word.lower(), 1) for word in words \n",
    "                        if word not in stop_words]\n",
    "    return words_with_value"
   ]
  },
  {
   "cell_type": "code",
   "execution_count": null,
   "metadata": {
    "colab": {
     "base_uri": "https://localhost:8080/"
    },
    "id": "-C7K6V3Sgw4-",
    "outputId": "66e8f456-1f9f-404f-fc9a-2399186e3329"
   },
   "outputs": [],
   "source": [
    "text_rdd.map(mapper_text).take(1)"
   ]
  },
  {
   "cell_type": "markdown",
   "metadata": {
    "id": "bw6eE6BnhC4G"
   },
   "source": [
    "flatMap"
   ]
  },
  {
   "cell_type": "markdown",
   "metadata": {
    "id": "eTUOQWrZhS89"
   },
   "source": [
    "Попробуем применить map и flatMap"
   ]
  },
  {
   "cell_type": "code",
   "execution_count": null,
   "metadata": {
    "colab": {
     "base_uri": "https://localhost:8080/"
    },
    "id": "7Zi_fYGfhEza",
    "outputId": "fabc51e4-41be-43b4-d15a-838f1bad5844"
   },
   "outputs": [],
   "source": [
    "text_rdd.map(mapper_text).count()"
   ]
  },
  {
   "cell_type": "code",
   "execution_count": null,
   "metadata": {
    "colab": {
     "base_uri": "https://localhost:8080/"
    },
    "id": "XUp5kQAnhMsW",
    "outputId": "3aa080cc-8cad-4636-d291-3ac210473b3a"
   },
   "outputs": [],
   "source": [
    "text_rdd.flatMap(mapper_text).count()"
   ]
  },
  {
   "cell_type": "markdown",
   "metadata": {
    "id": "tWVR-ueohXQ-"
   },
   "source": [
    "Как так?"
   ]
  },
  {
   "cell_type": "code",
   "execution_count": null,
   "metadata": {
    "colab": {
     "base_uri": "https://localhost:8080/"
    },
    "id": "jKf-8WfLhscS",
    "outputId": "faf3d48c-e596-48c6-c210-8b2a1a194271"
   },
   "outputs": [],
   "source": [
    "text_rdd.map(mapper_text).map(len).sum()"
   ]
  },
  {
   "cell_type": "markdown",
   "metadata": {
    "id": "tm1g9-0EiN2x"
   },
   "source": [
    "вроде понятно что случилось, но давайте на игрушечном примере"
   ]
  },
  {
   "cell_type": "code",
   "execution_count": null,
   "metadata": {
    "id": "ZwUcamJHiNJa"
   },
   "outputs": [],
   "source": [
    "simple_example = sc.parallelize([[1, 2, 3], [2, 3, 4], [4, 5, 6]])"
   ]
  },
  {
   "cell_type": "code",
   "execution_count": null,
   "metadata": {
    "id": "4e95UYZri0P1"
   },
   "outputs": [],
   "source": [
    "def pow_elements(elements):\n",
    "    return [x**2 for x in elements]"
   ]
  },
  {
   "cell_type": "code",
   "execution_count": null,
   "metadata": {
    "colab": {
     "base_uri": "https://localhost:8080/"
    },
    "id": "oRuQNwphilD7",
    "outputId": "b5b59b28-3e47-4f8c-b422-4294855b8684"
   },
   "outputs": [],
   "source": [
    "simple_example.map(pow_elements).collect()"
   ]
  },
  {
   "cell_type": "code",
   "execution_count": null,
   "metadata": {
    "colab": {
     "base_uri": "https://localhost:8080/"
    },
    "id": "9JQ0zRRmjC6Y",
    "outputId": "eefc2e9f-f7cf-451c-96df-53f9ad905b85"
   },
   "outputs": [],
   "source": [
    "simple_example.flatMap(pow_elements).collect()"
   ]
  },
  {
   "cell_type": "markdown",
   "metadata": {
    "id": "GYbF8PgtkA5U"
   },
   "source": [
    "groupByKey"
   ]
  },
  {
   "cell_type": "code",
   "execution_count": null,
   "metadata": {
    "id": "NbY1SU54j_Ln"
   },
   "outputs": [],
   "source": [
    "text_rdd = text_rdd.flatMap(mapper_text)"
   ]
  },
  {
   "cell_type": "code",
   "execution_count": null,
   "metadata": {
    "colab": {
     "base_uri": "https://localhost:8080/"
    },
    "id": "OSAVshc5jVlO",
    "outputId": "8e520a47-972d-4282-df1f-147234ed64ca"
   },
   "outputs": [],
   "source": [
    "text_rdd.groupByKey().mapValues(len).collect()"
   ]
  },
  {
   "cell_type": "markdown",
   "metadata": {
    "id": "NGHXTxQElEki"
   },
   "source": [
    "sortByKey"
   ]
  },
  {
   "cell_type": "code",
   "execution_count": null,
   "metadata": {
    "colab": {
     "base_uri": "https://localhost:8080/"
    },
    "id": "ZS4CyLFVlGWe",
    "outputId": "b10bf4ae-3682-4bd4-e059-3c6063336404"
   },
   "outputs": [],
   "source": [
    "text_rdd.groupByKey().mapValues(len).sortByKey().collect()"
   ]
  },
  {
   "cell_type": "markdown",
   "metadata": {
    "id": "XfqBo3xRlYbA"
   },
   "source": [
    "И так на самом деле много методов, но предалагаю написать подсчет частоты слов и сделаем это в стиле программ на java"
   ]
  },
  {
   "cell_type": "code",
   "execution_count": null,
   "metadata": {
    "id": "SpcSn6-hllUm"
   },
   "outputs": [],
   "source": [
    "text_rdd = sc.textFile('spark_text.txt')"
   ]
  },
  {
   "cell_type": "code",
   "execution_count": null,
   "metadata": {
    "id": "PNKk3doilxe3"
   },
   "outputs": [],
   "source": [
    "result = text_rdd.filter(lambda x: x != '')\\\n",
    "                 .flatMap(mapper_text)\\\n",
    "                 .groupByKey()\\\n",
    "                 .mapValues(len)\\\n",
    "                 .sortBy(lambda x: x[1], ascending=False)\\\n",
    "                 .collect()"
   ]
  },
  {
   "cell_type": "code",
   "execution_count": null,
   "metadata": {
    "colab": {
     "base_uri": "https://localhost:8080/"
    },
    "id": "j1tJ2dCcmh8z",
    "outputId": "099d0bbf-5fd1-40f0-de4e-bf9f8614ad82"
   },
   "outputs": [],
   "source": [
    "result[:10]"
   ]
  },
  {
   "cell_type": "markdown",
   "metadata": {
    "id": "MDSTE1oloeOq"
   },
   "source": [
    "Забыли про reduceByKey"
   ]
  },
  {
   "cell_type": "code",
   "execution_count": null,
   "metadata": {
    "colab": {
     "base_uri": "https://localhost:8080/"
    },
    "id": "gpv46Uxiobm8",
    "outputId": "286c1821-bfcf-4c39-c0cc-22005e6c8685"
   },
   "outputs": [],
   "source": [
    "text_rdd.filter(lambda x: x != '')\\\n",
    "        .flatMap(mapper_text)\\\n",
    "        .reduceByKey(lambda x, y: x + y)\\\n",
    "        .sortBy(lambda x: x[1], ascending=False)\\\n",
    "        .collect()[:10]"
   ]
  },
  {
   "cell_type": "markdown",
   "metadata": {
    "id": "-PxSwc7QrVk7"
   },
   "source": [
    "Стоит заметить, что `groupByKey()` предполагает перемещение всех записей с одним ключом на один экзекьютор. В случае очень скошенных распределений это может привести к падению экзекьютора с OOM. Поэтому всегда при группировках стоит подумать об использовании `reduceByKey()`."
   ]
  },
  {
   "cell_type": "markdown",
   "metadata": {
    "id": "hlu6iY8qGYlw"
   },
   "source": [
    "Так, на лекции было что-то про count, который не делает shuffle да и вообще можно проще написать?"
   ]
  },
  {
   "cell_type": "code",
   "execution_count": null,
   "metadata": {
    "id": "L-esll2IFI3M"
   },
   "outputs": [],
   "source": [
    "def mapper_text_simple(text):\n",
    "    clean_text = re.sub(rf\"[{string.punctuation}]\", \"\", text)\n",
    "    words = nltk.word_tokenize(clean_text)\n",
    "    words = [word.lower() for word in words \n",
    "                        if word not in stop_words]\n",
    "    return words"
   ]
  },
  {
   "cell_type": "code",
   "execution_count": null,
   "metadata": {
    "colab": {
     "base_uri": "https://localhost:8080/"
    },
    "id": "9gs_zfIJsT3f",
    "outputId": "bf26c370-d09c-4179-85c7-e3ac7aa9401c"
   },
   "outputs": [],
   "source": [
    "result = text_rdd.filter(lambda x: x != '')\\\n",
    "                 .flatMap(mapper_text_simple)\\\n",
    "                 .countByValue()\n",
    "result = sorted(result.items(), key=lambda x: x[1], reverse=True)\n",
    "print(result[:10])"
   ]
  },
  {
   "cell_type": "markdown",
   "metadata": {
    "id": "P7FoUF1mqImQ"
   },
   "source": [
    "Замеры"
   ]
  },
  {
   "cell_type": "code",
   "execution_count": null,
   "metadata": {
    "colab": {
     "base_uri": "https://localhost:8080/"
    },
    "id": "iBdtooISqQ8U",
    "outputId": "7f9bd4a7-f418-49f8-e304-dee864ba1595"
   },
   "outputs": [],
   "source": [
    "%%timeit\n",
    "\n",
    "text_rdd.filter(lambda x: x != '')\\\n",
    "        .flatMap(mapper_text)\\\n",
    "        .groupByKey()\\\n",
    "        .mapValues(len)\\\n",
    "        .sortBy(lambda x: x[1], ascending=False)\\\n",
    "        .collect()[:10]"
   ]
  },
  {
   "cell_type": "code",
   "execution_count": null,
   "metadata": {
    "colab": {
     "base_uri": "https://localhost:8080/"
    },
    "id": "BdAdFM-rqHxX",
    "outputId": "dbfda922-02e8-4787-df73-c2a38a1af194"
   },
   "outputs": [],
   "source": [
    "%%timeit\n",
    "\n",
    "text_rdd.filter(lambda x: x != '')\\\n",
    "        .flatMap(mapper_text)\\\n",
    "        .reduceByKey(lambda x, y: x + y)\\\n",
    "        .sortBy(lambda x: x[1], ascending=False)\\\n",
    "        .collect()[:10]"
   ]
  },
  {
   "cell_type": "code",
   "execution_count": null,
   "metadata": {
    "colab": {
     "base_uri": "https://localhost:8080/"
    },
    "id": "xD4ne4tmqfAI",
    "outputId": "a47eb726-ecb3-483b-d535-f9219aa78d5e"
   },
   "outputs": [],
   "source": [
    "%%timeit\n",
    "\n",
    "result = text_rdd.filter(lambda x: x != '')\\\n",
    "                 .flatMap(mapper_text_simple)\\\n",
    "                 .countByValue()\n",
    "result = sorted(result.items(), key=lambda x: x[1], reverse=True)[:10]"
   ]
  },
  {
   "cell_type": "markdown",
   "metadata": {
    "id": "iNLF_SEaG_Mr"
   },
   "source": [
    "**Join'ы**"
   ]
  },
  {
   "cell_type": "markdown",
   "metadata": {
    "id": "At9Da6ZlHIcs"
   },
   "source": [
    "Тут просто на игрушечном примере пощупаем данную операцию"
   ]
  },
  {
   "cell_type": "code",
   "execution_count": null,
   "metadata": {
    "id": "-HQ4wqICHPNK"
   },
   "outputs": [],
   "source": [
    "rdd_a = sc.parallelize([\n",
    "                        ('a', [1, 2]),\n",
    "                        ('b', [2, 4])])\n",
    "\n",
    "rdd_b = sc.parallelize([\n",
    "                        ('a', [10]),\n",
    "                        ('c', [11])])"
   ]
  },
  {
   "cell_type": "code",
   "execution_count": null,
   "metadata": {
    "colab": {
     "base_uri": "https://localhost:8080/"
    },
    "id": "FOCGK6dVHqCG",
    "outputId": "d88ee2cc-9d44-44e9-b6dc-bd6b4f989989"
   },
   "outputs": [],
   "source": [
    "rdd_a.join(rdd_b).collect()"
   ]
  },
  {
   "cell_type": "code",
   "execution_count": null,
   "metadata": {
    "colab": {
     "base_uri": "https://localhost:8080/"
    },
    "id": "EmnzobldH68k",
    "outputId": "d3ab4d79-e6f5-4923-e5b3-b78813e60a5f"
   },
   "outputs": [],
   "source": [
    "rdd_a.leftOuterJoin(rdd_b).collect()"
   ]
  },
  {
   "cell_type": "code",
   "execution_count": null,
   "metadata": {
    "colab": {
     "base_uri": "https://localhost:8080/"
    },
    "id": "nS-DcoMEH-Mq",
    "outputId": "e9ab17cc-5682-4986-a28c-eea0b207c776"
   },
   "outputs": [],
   "source": [
    "rdd_a.fullOuterJoin(rdd_b).collect()"
   ]
  },
  {
   "cell_type": "markdown",
   "metadata": {
    "id": "7_cvDn0sI6lS"
   },
   "source": [
    "**Домашнее задание 1**\n",
    "\n",
    "**Срок выполнения 30.09.2024**\n",
    "\n",
    "Посчитать количество рейтингов больше 4 для каждого фильма и вывести фильмы в порядке убывания количества этих оценок (можно вывести топ 10)\n",
    "\n",
    "Файл можете взять из прошлого домашнего задания + сохраните результат на диск"
   ]
  },
  {
   "cell_type": "markdown",
   "metadata": {
    "id": "3BpNsZDmJQm2"
   },
   "source": [
    "**Домашнее задание 2**\n",
    "\n",
    "В этом задании у вас есть файл с обученным word2vec на произведении Достоевского Преступление и наказание. Файл - list, каждый элемент которого слово и его вектор в формате ('word', [vector]). Необходимо для каждого слова собрать список его top 10 похожих слов по косинусной метрике\n",
    "Результат также сохраните на диск и выведите синонимы для слова 'топор' и 'деньга'.\n",
    "Файл в пикле, так что для считывания воспользуйтесь не spark, можете взять любимый pandas\n",
    "\n",
    "Файл не очень уж и маленький, рекомендую сначала написать код на кошках/собачках, а потом уже на всем, так как ядра 2, считаться будет очень долго.\n",
    "В качестве одного из вариантов можете рассмотреть метод cartesian"
   ]
  }
 ],
 "metadata": {
  "colab": {
   "provenance": []
  },
  "kernelspec": {
   "display_name": "Python 3",
   "language": "python",
   "name": "python3"
  },
  "language_info": {
   "codemirror_mode": {
    "name": "ipython",
    "version": 3
   },
   "file_extension": ".py",
   "mimetype": "text/x-python",
   "name": "python",
   "nbconvert_exporter": "python",
   "pygments_lexer": "ipython3",
   "version": "3.8.8"
  }
 },
 "nbformat": 4,
 "nbformat_minor": 1
}
