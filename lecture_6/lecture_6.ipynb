{
  "cells": [
    {
      "cell_type": "code",
      "execution_count": null,
      "metadata": {
        "colab": {
          "base_uri": "https://localhost:8080/"
        },
        "id": "1MEGaajfqBPU",
        "outputId": "eb6fa724-f5e0-49c3-ec8b-ca0686e39f82"
      },
      "outputs": [],
      "source": [
        "!pip install pyspark findspark catboost"
      ]
    },
    {
      "cell_type": "code",
      "execution_count": 1,
      "metadata": {
        "id": "LN0Fxi5NqaQv"
      },
      "outputs": [],
      "source": [
        "from pyspark.sql import SparkSession\n",
        "from pyspark import SparkContext, SparkConf\n",
        "import pyspark.sql.functions as F\n",
        "from pyspark.sql.types import StringType, IntegerType, FloatType, StructField, DoubleType\n",
        "\n",
        "conf = SparkConf().set('spark.ui.port', '4050').set('spark.serializer', 'org.apache.spark.serializer.KryoSerializer')\\\n",
        "                  .set('spark.dynamicAllocation.enabled', 'true')\\\n",
        "                  .set('spark.shuffle.service.enabled', 'true') #трекер, чтобы возвращать ресурсы\n",
        "\n",
        "sc = SparkContext(conf=conf)\n",
        "spark = SparkSession.builder.master('local[*]').getOrCreate()"
      ]
    },
    {
      "cell_type": "markdown",
      "metadata": {
        "id": "efoGTI47tFDE"
      },
      "source": [
        "Вспомним наши данные из преыдущего семинара"
      ]
    },
    {
      "cell_type": "code",
      "execution_count": 2,
      "metadata": {
        "id": "uVnTSF8MqsyH"
      },
      "outputs": [],
      "source": [
        "data = spark.read.csv('credit_card_data.csv', header=True, inferSchema=True)\n",
        "data = data.fillna({'Credit_Product': 'No'})"
      ]
    },
    {
      "cell_type": "code",
      "execution_count": null,
      "metadata": {
        "colab": {
          "base_uri": "https://localhost:8080/"
        },
        "id": "3qpfM3Ffs-1s",
        "outputId": "386d28fc-8e4f-4d4b-b492-39fc0fec40b7"
      },
      "outputs": [],
      "source": [
        "data.printSchema()"
      ]
    },
    {
      "cell_type": "code",
      "execution_count": null,
      "metadata": {
        "colab": {
          "base_uri": "https://localhost:8080/"
        },
        "id": "XcWq874gtB4M",
        "outputId": "b8493e68-5062-4ad7-ce74-5530c9eb3f21"
      },
      "outputs": [],
      "source": [
        "data.show()"
      ]
    },
    {
      "cell_type": "markdown",
      "metadata": {
        "id": "Xge27pDotSAf"
      },
      "source": [
        "Мы уже знакомы с классическими udf которые работают на уровне 1 строки"
      ]
    },
    {
      "cell_type": "code",
      "execution_count": 5,
      "metadata": {
        "id": "1PQimWuDtDwE"
      },
      "outputs": [],
      "source": [
        "@F.udf(returnType=IntegerType())\n",
        "def preprocess_gender(gender):\n",
        "    return 1 if gender == 'Male' else 0"
      ]
    },
    {
      "cell_type": "code",
      "execution_count": null,
      "metadata": {
        "colab": {
          "base_uri": "https://localhost:8080/"
        },
        "id": "RoCz3kQvtq-s",
        "outputId": "b523ac04-845e-4aed-e4d2-b532dd863c00"
      },
      "outputs": [],
      "source": [
        "data.withColumn('Gender_index', preprocess_gender(F.col('Gender')))\\\n",
        "    .select('Gender', 'Gender_index')\\\n",
        "    .show()"
      ]
    },
    {
      "cell_type": "markdown",
      "metadata": {
        "id": "Y0LthVOmwWLA"
      },
      "source": [
        "Можно аналогично работать с несколькими столбцами, но все также в рамках 1 строки"
      ]
    },
    {
      "cell_type": "code",
      "execution_count": 7,
      "metadata": {
        "id": "HJ0NwUcst7tv"
      },
      "outputs": [],
      "source": [
        "@F.udf(returnType=IntegerType())\n",
        "def preprocess_gender_age(gender, age):\n",
        "    if gender == 'Male' and age <= 30:\n",
        "        return 0\n",
        "    elif gender == 'Male' and age > 30:\n",
        "        return 1\n",
        "    elif gender == 'Female' and age <= 30:\n",
        "        return 2\n",
        "    else:\n",
        "        return 3"
      ]
    },
    {
      "cell_type": "code",
      "execution_count": null,
      "metadata": {
        "colab": {
          "base_uri": "https://localhost:8080/"
        },
        "id": "46HbPmGywEKt",
        "outputId": "62603807-d49d-4ca6-c7be-21368226fcf5"
      },
      "outputs": [],
      "source": [
        "data.withColumn('Gender_age_index', preprocess_gender_age(F.col('Gender'), F.col('Age')))\\\n",
        "    .select('Gender', 'Age', 'Gender_age_index')\\\n",
        "    .show()"
      ]
    },
    {
      "cell_type": "markdown",
      "metadata": {
        "id": "R7nPYYlUwh7x"
      },
      "source": [
        "Возникают ситуации, когда необходимо посчитать какие-либо величины не на уровне строки, а на уровне нескольких столбцов/строк и это не реализовано в API PySpark\n",
        "\n",
        "В таких ситуациях может помочь pandas_udf. Например, если хотим посчитать gini"
      ]
    },
    {
      "cell_type": "code",
      "execution_count": 9,
      "metadata": {
        "id": "Fz1xkS_CwSwu"
      },
      "outputs": [],
      "source": [
        "from sklearn.metrics import roc_auc_score\n",
        "import pandas as pd\n",
        "\n",
        "@F.pandas_udf('float')\n",
        "def gini(target: pd.Series, score: pd.Series) -> float:\n",
        "    score = score.fillna(0)\n",
        "    gini = 2 * roc_auc_score(target, score) - 1\n",
        "    return gini\n",
        "\n",
        "#простой скор для примера\n",
        "@F.udf(returnType=FloatType())\n",
        "def get_base_score(gender, age):\n",
        "    if gender == 'Male' and age <= 30:\n",
        "        return 0.2\n",
        "    elif gender == 'Male' and age > 30:\n",
        "        return 0.5\n",
        "    elif gender == 'Female' and age <= 30:\n",
        "        return 0.1\n",
        "    else:\n",
        "        return 0.4"
      ]
    },
    {
      "cell_type": "code",
      "execution_count": null,
      "metadata": {
        "colab": {
          "base_uri": "https://localhost:8080/"
        },
        "id": "oEgK9oAryVfn",
        "outputId": "19aff634-cc1e-47a4-b1ab-2e5c5056dbd1"
      },
      "outputs": [],
      "source": [
        "data.withColumn('base_score', get_base_score(F.col('Gender'), F.col('Age')))\\\n",
        "    .select(gini(F.col('Is_Lead'), F.col('base_score')))\\\n",
        "    .show()"
      ]
    },
    {
      "cell_type": "markdown",
      "metadata": {
        "id": "v0dF3vney0E0"
      },
      "source": [
        "Можно удобно работать с преобразованиями"
      ]
    },
    {
      "cell_type": "code",
      "execution_count": 11,
      "metadata": {
        "id": "4FklyJ93y3ei"
      },
      "outputs": [],
      "source": [
        "@F.pandas_udf('string')\n",
        "def upper_case(s: pd.Series) -> pd.Series:\n",
        "    return s.str.upper()"
      ]
    },
    {
      "cell_type": "code",
      "execution_count": null,
      "metadata": {
        "colab": {
          "base_uri": "https://localhost:8080/"
        },
        "id": "3VwyqZTNzFyW",
        "outputId": "815b968e-0293-4016-ca07-c11f5c82d3be"
      },
      "outputs": [],
      "source": [
        "data.withColumn('Occupation_upper', upper_case(F.col('Occupation')))\\\n",
        "    .select('Occupation', 'Occupation_upper')\\\n",
        "    .show()"
      ]
    },
    {
      "cell_type": "markdown",
      "metadata": {
        "id": "VAqh36XazgXo"
      },
      "source": [
        "А можно ли сделать аналог pd.DataFrame.groupby(cols).apply(f)?"
      ]
    },
    {
      "cell_type": "code",
      "execution_count": null,
      "metadata": {
        "colab": {
          "base_uri": "https://localhost:8080/"
        },
        "id": "PmStYX3hzeOb",
        "outputId": "6c7457ec-d373-4eed-8592-1e94f54b3a4d"
      },
      "outputs": [],
      "source": [
        "@F.pandas_udf(returnType=FloatType(), functionType=F.PandasUDFType.GROUPED_AGG)\n",
        "def gini(target: pd.Series, score: pd.Series):\n",
        "    score = score.fillna(0)\n",
        "    gini = 2 * roc_auc_score(target, score) - 1\n",
        "    return gini"
      ]
    },
    {
      "cell_type": "code",
      "execution_count": null,
      "metadata": {
        "colab": {
          "base_uri": "https://localhost:8080/"
        },
        "id": "Smqz2DKT0iEm",
        "outputId": "e8dc2644-17fc-4a82-b538-59f49bd783db"
      },
      "outputs": [],
      "source": [
        "data.withColumn('base_score', get_base_score(F.col('Gender'), F.col('Age')))\\\n",
        "    .groupBy('Channel_Code')\\\n",
        "    .agg(gini(F.col('Is_Lead'), F.col('base_score')))\\\n",
        "    .show()"
      ]
    },
    {
      "cell_type": "markdown",
      "metadata": {
        "id": "In-8Iz8O1GPa"
      },
      "source": [
        "А что если мы хотим сделать стандартизацию данных в группах?"
      ]
    },
    {
      "cell_type": "code",
      "execution_count": 15,
      "metadata": {
        "id": "BaLwM5b31EZL"
      },
      "outputs": [],
      "source": [
        "def normalize(df):\n",
        "    bal = df.Avg_Account_Balance\n",
        "    return df.assign(Avg_Account_Balance = ((bal - bal.mean()) / bal.std()))"
      ]
    },
    {
      "cell_type": "code",
      "execution_count": 16,
      "metadata": {
        "id": "HKluVE0Y15Xh"
      },
      "outputs": [],
      "source": [
        "data = data.withColumn(\n",
        "    'Avg_Account_Balance',\n",
        "    F.col('Avg_Account_Balance').cast(FloatType())\n",
        ")"
      ]
    },
    {
      "cell_type": "code",
      "execution_count": null,
      "metadata": {
        "colab": {
          "base_uri": "https://localhost:8080/"
        },
        "id": "i0Xgykmw1fde",
        "outputId": "8d99a8a1-8b82-4cc0-aa46-21f1694826b2"
      },
      "outputs": [],
      "source": [
        "data.groupBy('Channel_Code')\\\n",
        "    .applyInPandas(normalize, schema=data.schema)\\\n",
        "    .show()"
      ]
    },
    {
      "cell_type": "markdown",
      "metadata": {
        "id": "9xhYh8aHH3FH"
      },
      "source": [
        "Давайте обучим простую модель без использования Spark"
      ]
    },
    {
      "cell_type": "code",
      "execution_count": 18,
      "metadata": {
        "id": "l22ZPbROHydx"
      },
      "outputs": [],
      "source": [
        "data = pd.read_csv('credit_card_data.csv')\n",
        "data = data.fillna({'Credit_Product': 'No'}).drop('ID', axis=1)"
      ]
    },
    {
      "cell_type": "code",
      "execution_count": null,
      "metadata": {
        "colab": {
          "base_uri": "https://localhost:8080/",
          "height": 444
        },
        "id": "uS5y99g6IK9f",
        "outputId": "ed446219-7720-4d11-b427-915dd82942e8"
      },
      "outputs": [],
      "source": [
        "data"
      ]
    },
    {
      "cell_type": "code",
      "execution_count": 20,
      "metadata": {
        "id": "yEOQLldaIL8u"
      },
      "outputs": [],
      "source": [
        "from catboost import CatBoostClassifier\n",
        "from sklearn.model_selection import train_test_split"
      ]
    },
    {
      "cell_type": "code",
      "execution_count": null,
      "metadata": {
        "colab": {
          "base_uri": "https://localhost:8080/"
        },
        "id": "ThlKKMxrIsZY",
        "outputId": "f010aaff-7926-46cc-8146-2bebb229605a"
      },
      "outputs": [],
      "source": [
        "X_train, X_test, y_train, y_test = train_test_split(\n",
        "    data.drop(['Is_Lead', 'Gender', 'Region_Code', 'Occupation', 'Channel_Code'], axis=1), data['Is_Lead'],\n",
        "    test_size=0.3,\n",
        "    random_state=7\n",
        ")\n",
        "\n",
        "model = CatBoostClassifier(\n",
        "    task_type='CPU', eval_metric='AUC',\n",
        "    iterations=10, depth=5, min_data_in_leaf=100,\n",
        "    random_seed=7, max_ctr_complexity=1).fit(\n",
        "        X_train,\n",
        "        y_train,\n",
        "        cat_features=['Credit_Product', 'Is_Active'],\n",
        "        early_stopping_rounds=20,\n",
        "        eval_set=(X_test, y_test),\n",
        "        verbose=2\n",
        "    )"
      ]
    },
    {
      "cell_type": "code",
      "execution_count": 22,
      "metadata": {
        "id": "0IUWdVLZKcKX"
      },
      "outputs": [],
      "source": [
        "def gini(df: pd.DataFrame) -> float:\n",
        "    return 2 * roc_auc_score(df['Is_Lead'], df['score']) - 1"
      ]
    },
    {
      "cell_type": "code",
      "execution_count": null,
      "metadata": {
        "colab": {
          "base_uri": "https://localhost:8080/",
          "height": 317
        },
        "id": "fZajqXoWK62Z",
        "outputId": "26582d23-8e28-4c90-a3e5-26be6bcd5a0a"
      },
      "outputs": [],
      "source": [
        "%%time\n",
        "\n",
        "data['score'] = model.predict_proba(data[model.feature_names_])[:, 1]\n",
        "\n",
        "data.groupby('Channel_Code').apply(gini)"
      ]
    },
    {
      "cell_type": "markdown",
      "metadata": {
        "id": "4SdwqXqFLQPp"
      },
      "source": [
        "Предположим, что у нас есть модель и хотем сделать инференс модели на Spark. Как это сделать?"
      ]
    },
    {
      "cell_type": "code",
      "execution_count": 24,
      "metadata": {
        "id": "UbOCKnZYLYsy"
      },
      "outputs": [],
      "source": [
        "data = spark.read.csv('credit_card_data.csv', header=True, inferSchema=True)\n",
        "data = data.fillna({'Credit_Product': 'No'})"
      ]
    },
    {
      "cell_type": "markdown",
      "metadata": {
        "id": "K4UffNc3LpL-"
      },
      "source": [
        "Самое простое через RDD"
      ]
    },
    {
      "cell_type": "code",
      "execution_count": null,
      "metadata": {
        "colab": {
          "base_uri": "https://localhost:8080/"
        },
        "id": "AdjMTZQ6LOCQ",
        "outputId": "3dff7fd3-889c-4300-c74e-db3223547798"
      },
      "outputs": [],
      "source": [
        "data.rdd.take(1)[0].asDict()"
      ]
    },
    {
      "cell_type": "code",
      "execution_count": 26,
      "metadata": {
        "id": "pUytYcPvLwSP"
      },
      "outputs": [],
      "source": [
        "def score_by_rdd_map(row, scorer):\n",
        "    features = row.asDict()\n",
        "    idx = features['ID']\n",
        "    features = pd.DataFrame([features])\n",
        "    score = scorer.predict_proba(features[scorer.feature_names_])[:, 1]\n",
        "    return idx, score[0]"
      ]
    },
    {
      "cell_type": "code",
      "execution_count": null,
      "metadata": {
        "colab": {
          "base_uri": "https://localhost:8080/"
        },
        "id": "UD_0UOWQNlYG",
        "outputId": "483ed533-987c-4eec-b572-71327559b426"
      },
      "outputs": [],
      "source": [
        "data.rdd.map(lambda x: score_by_rdd_map(x, model)).take(5)"
      ]
    },
    {
      "cell_type": "code",
      "execution_count": null,
      "metadata": {
        "colab": {
          "base_uri": "https://localhost:8080/"
        },
        "id": "CPKWZ3H4W_93",
        "outputId": "23520d00-6f82-46ee-e3e9-2abdb73795ad"
      },
      "outputs": [],
      "source": [
        "data.count()"
      ]
    },
    {
      "cell_type": "code",
      "execution_count": null,
      "metadata": {
        "colab": {
          "base_uri": "https://localhost:8080/"
        },
        "id": "Krtn2gYtNt40",
        "outputId": "f18e6de6-7872-494e-9625-167c74d52e99"
      },
      "outputs": [],
      "source": [
        "%%time\n",
        "\n",
        "a = data.rdd.map(lambda x: score_by_rdd_map(x, model)).take(25000)"
      ]
    },
    {
      "cell_type": "markdown",
      "metadata": {
        "id": "lJi8FGHeSMGF"
      },
      "source": [
        "Давайте уберем pandas"
      ]
    },
    {
      "cell_type": "code",
      "execution_count": 29,
      "metadata": {
        "id": "rzzKTkoESJUA"
      },
      "outputs": [],
      "source": [
        "def score_by_rdd_map_no_pandas(row, scorer):\n",
        "    features = row.asDict()\n",
        "    idx = features['ID']\n",
        "    features = [features[col] for col in scorer.feature_names_]\n",
        "    score = model.predict_proba(features)\n",
        "    return idx, score[0]"
      ]
    },
    {
      "cell_type": "code",
      "execution_count": null,
      "metadata": {
        "colab": {
          "base_uri": "https://localhost:8080/"
        },
        "id": "uFeByOAxS9aU",
        "outputId": "914c790a-369e-4b05-8fd7-bcc9d4060002"
      },
      "outputs": [],
      "source": [
        "%%time\n",
        "\n",
        "a = data.rdd.map(lambda x: score_by_rdd_map_no_pandas(x, model)).take(25000)"
      ]
    },
    {
      "cell_type": "markdown",
      "metadata": {
        "id": "iJJqar2JTI36"
      },
      "source": [
        "А теперь попробуем работать с партициями"
      ]
    },
    {
      "cell_type": "code",
      "execution_count": 32,
      "metadata": {
        "id": "3t5pbl1fTHa5"
      },
      "outputs": [],
      "source": [
        "def score_by_rdd_map_no_pandas(rows, scorer):\n",
        "    x = []\n",
        "    list_idx = []\n",
        "    for row in rows:\n",
        "        features = row.asDict()\n",
        "        idx = features['ID']\n",
        "        features = [features[col] for col in scorer.feature_names_]\n",
        "        x.append(features)\n",
        "        list_idx.append(idx)\n",
        "    scores = scorer.predict_proba(x)[:, 1]\n",
        "    scores = [float(score) for score in scores]\n",
        "    return list(zip(list_idx, scores))"
      ]
    },
    {
      "cell_type": "code",
      "execution_count": null,
      "metadata": {
        "colab": {
          "base_uri": "https://localhost:8080/"
        },
        "id": "fSDI0YSxVtz9",
        "outputId": "86355673-7e81-46bd-a6cd-cf676e0d8c63"
      },
      "outputs": [],
      "source": [
        "%%time\n",
        "\n",
        "a = data.rdd.mapPartitions(lambda x: score_by_rdd_map_no_pandas(x, model)).collect()"
      ]
    },
    {
      "cell_type": "code",
      "execution_count": null,
      "metadata": {
        "colab": {
          "base_uri": "https://localhost:8080/"
        },
        "id": "ZjW9pkQJVzcn",
        "outputId": "f9bce112-0883-4ea3-c5c6-6ea0bb5443c2"
      },
      "outputs": [],
      "source": [
        "@F.pandas_udf(returnType=FloatType(), functionType=F.PandasUDFType.GROUPED_AGG)\n",
        "def gini(target: pd.Series, score: pd.Series):\n",
        "    score = score.fillna(0)\n",
        "    gini = 2 * roc_auc_score(target, score) - 1\n",
        "    return gini"
      ]
    },
    {
      "cell_type": "code",
      "execution_count": null,
      "metadata": {
        "colab": {
          "base_uri": "https://localhost:8080/"
        },
        "id": "3Uqok9ZvXn-P",
        "outputId": "0e9c28d4-8a0d-46ff-9b0a-f204f81e80b9"
      },
      "outputs": [],
      "source": [
        "%%time\n",
        "\n",
        "schema = StructType(\n",
        "    [\n",
        "        StructField('ID', StringType(), False),\n",
        "        StructField('score', DoubleType(), False),\n",
        "    ]\n",
        ")\n",
        "\n",
        "scores = data.rdd.mapPartitions(lambda x: score_by_rdd_map_no_pandas(x, model))\n",
        "scores = scores.toDF(schema)\n",
        "\n",
        "data = data.join(\n",
        "    scores,\n",
        "    how='inner',\n",
        "    on='ID'\n",
        ")\n",
        "\n",
        "data.groupBy('Channel_Code')\\\n",
        "    .agg(gini(F.col('Is_Lead'), F.col('score')))\\\n",
        "    .show()"
      ]
    },
    {
      "cell_type": "markdown",
      "metadata": {
        "id": "zQClirSMYwou"
      },
      "source": [
        "Есть альтернативный вариант через applyInPandas"
      ]
    },
    {
      "cell_type": "code",
      "execution_count": 37,
      "metadata": {
        "id": "Nge_2AvsY3ZJ"
      },
      "outputs": [],
      "source": [
        "data = spark.read.csv('credit_card_data.csv', header=True, inferSchema=True)\n",
        "data = data.fillna({'Credit_Product': 'No'})"
      ]
    },
    {
      "cell_type": "code",
      "execution_count": 38,
      "metadata": {
        "id": "OriJKmyrZpL8"
      },
      "outputs": [],
      "source": [
        "def score(df, scorer):\n",
        "    scores = scorer.predict_proba(df[scorer.feature_names_])\n",
        "    return df.assign(score=scores)"
      ]
    },
    {
      "cell_type": "code",
      "execution_count": null,
      "metadata": {
        "colab": {
          "base_uri": "https://localhost:8080/"
        },
        "id": "IQFjTe3xZ1NM",
        "outputId": "ce0a4a32-80f5-4f97-b8ef-9ebbe60af225"
      },
      "outputs": [],
      "source": [
        "%%time\n",
        "\n",
        "data = data.withColumn('score', F.lit(1).cast(DoubleType()))\n",
        "\n",
        "data = data.groupBy(F.spark_partition_id())\\\n",
        "           .applyInPandas(lambda x: score(x, model), schema=data.schema)\n",
        "\n",
        "data.groupBy('Channel_Code')\\\n",
        "    .agg(gini(F.col('Is_Lead'), F.col('score')))\\\n",
        "    .show()"
      ]
    }
  ],
  "metadata": {
    "colab": {
      "provenance": []
    },
    "kernelspec": {
      "display_name": "Python 3",
      "name": "python3"
    },
    "language_info": {
      "name": "python"
    }
  },
  "nbformat": 4,
  "nbformat_minor": 0
}
