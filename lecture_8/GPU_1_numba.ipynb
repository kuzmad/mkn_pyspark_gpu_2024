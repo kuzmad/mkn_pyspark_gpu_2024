{
 "cells": [
  {
   "cell_type": "code",
   "execution_count": null,
   "metadata": {
    "id": "o91o8E6TaR8O",
    "tags": []
   },
   "outputs": [],
   "source": [
    "from numba import jit, njit, cuda, vectorize, float64, float32, cuda, guvectorize, int32\n",
    "import numpy as np\n",
    "from numpy import testing\n",
    "import math"
   ]
  },
  {
   "cell_type": "markdown",
   "metadata": {
    "id": "vIYZhALjaR8O"
   },
   "source": [
    "Операции с 1 числом"
   ]
  },
  {
   "cell_type": "code",
   "execution_count": null,
   "metadata": {
    "id": "GpzqGoAzaR8O",
    "tags": []
   },
   "outputs": [],
   "source": [
    "def compute_logit(y):\n",
    "    logit = 1 / (1 + math.exp(-y))\n",
    "    return logit\n",
    "\n",
    "@jit\n",
    "def compute_logit_numba(y):\n",
    "    logit = 1 / (1 + math.exp(-y))\n",
    "    return logit\n",
    "\n",
    "@njit\n",
    "def compute_logit_numba_2(y):\n",
    "    logit = 1 / (1 + math.exp(-y))\n",
    "    return logit"
   ]
  },
  {
   "cell_type": "markdown",
   "metadata": {
    "id": "8fAceY2maR8O"
   },
   "source": [
    "Давайте посмотрим, есть ли какая-то оптимизация, когда у на соперация с одним числом и нет циклов"
   ]
  },
  {
   "cell_type": "code",
   "execution_count": null,
   "metadata": {
    "colab": {
     "base_uri": "https://localhost:8080/"
    },
    "id": "7999RVnyaR8O",
    "outputId": "35b26a23-256e-459c-a9b6-1fef8fa73240",
    "tags": []
   },
   "outputs": [],
   "source": [
    "%timeit compute_logit(3.5)"
   ]
  },
  {
   "cell_type": "code",
   "execution_count": null,
   "metadata": {
    "colab": {
     "base_uri": "https://localhost:8080/"
    },
    "id": "X1OQ6VXBaR8O",
    "outputId": "28af5c22-2ff0-445e-f90f-f9fbfcf5d29b",
    "tags": []
   },
   "outputs": [],
   "source": [
    "%timeit compute_logit_numba(3.5)"
   ]
  },
  {
   "cell_type": "code",
   "execution_count": null,
   "metadata": {
    "colab": {
     "base_uri": "https://localhost:8080/"
    },
    "id": "_ZAsv5bxaR8O",
    "outputId": "59f2f2b4-7d3a-4859-b48e-e68ad78c605e",
    "tags": []
   },
   "outputs": [],
   "source": [
    "%timeit compute_logit_numba_2(3.5)"
   ]
  },
  {
   "cell_type": "markdown",
   "metadata": {
    "id": "WZ7HUc8zaR8O"
   },
   "source": [
    "Вектора"
   ]
  },
  {
   "cell_type": "markdown",
   "metadata": {
    "id": "-ushrsh8aR8O"
   },
   "source": [
    "Создадим вектор размерности 10 000 000 чисел float64"
   ]
  },
  {
   "cell_type": "code",
   "execution_count": null,
   "metadata": {
    "id": "oyjsjqvpaR8O",
    "tags": []
   },
   "outputs": [],
   "source": [
    "x = np.random.random_sample(10000000)"
   ]
  },
  {
   "cell_type": "code",
   "execution_count": null,
   "metadata": {
    "id": "SI8leGbkaR8O",
    "tags": []
   },
   "outputs": [],
   "source": [
    "def logistic(y):\n",
    "    result = [1 / (1 + math.exp(-val)) for val in y]\n",
    "    return result\n",
    "\n",
    "@njit\n",
    "def logistic_simple_numba(y):\n",
    "    result = [1 / (1 + math.exp(-val)) for val in y]\n",
    "    return result\n",
    "\n",
    "@njit(nogil=True)\n",
    "def logistic_simple_numba_ng(y):\n",
    "    result = [1 / (1 + math.exp(-val)) for val in y]\n",
    "    return result\n",
    "\n",
    "@njit(nogil=True, fastmath=True)\n",
    "def logistic_simple_numba_fast(y):\n",
    "    result = [1 / (1 + math.exp(-val)) for val in y]\n",
    "    return result\n",
    "\n",
    "def logistic_numpy(y):\n",
    "    return 1 / (1 + np.exp(-y))"
   ]
  },
  {
   "cell_type": "code",
   "execution_count": null,
   "metadata": {
    "colab": {
     "base_uri": "https://localhost:8080/"
    },
    "id": "csYbUPLiaR8P",
    "outputId": "0c6ed5f2-93a3-428c-913f-20bf3a334e9d",
    "tags": []
   },
   "outputs": [],
   "source": [
    "%timeit logistic(x)"
   ]
  },
  {
   "cell_type": "code",
   "execution_count": null,
   "metadata": {
    "colab": {
     "base_uri": "https://localhost:8080/"
    },
    "id": "WVG7v2DvaR8P",
    "outputId": "f3ed017a-8109-4c13-ec34-b7ad53418c57",
    "tags": []
   },
   "outputs": [],
   "source": [
    "%timeit logistic_simple_numba(x)"
   ]
  },
  {
   "cell_type": "code",
   "execution_count": null,
   "metadata": {
    "colab": {
     "base_uri": "https://localhost:8080/"
    },
    "id": "mMpguO4jaR8P",
    "outputId": "cf49f584-ed8d-44d6-e563-26a776abbf6a",
    "tags": []
   },
   "outputs": [],
   "source": [
    "%timeit logistic_simple_numba_ng(x)"
   ]
  },
  {
   "cell_type": "code",
   "execution_count": null,
   "metadata": {
    "colab": {
     "base_uri": "https://localhost:8080/"
    },
    "id": "aWDRdIR_ppxC",
    "outputId": "18fff6c1-9b73-4890-cae9-e94b8db3d54e"
   },
   "outputs": [],
   "source": [
    "%timeit logistic_simple_numba_fast(x)"
   ]
  },
  {
   "cell_type": "code",
   "execution_count": null,
   "metadata": {
    "colab": {
     "base_uri": "https://localhost:8080/"
    },
    "id": "0LT3VX-5aR8P",
    "outputId": "2cfd9e34-9a8f-4744-f732-9ab42bc264c3",
    "tags": []
   },
   "outputs": [],
   "source": [
    "%timeit logistic_numpy(x)"
   ]
  },
  {
   "cell_type": "markdown",
   "metadata": {
    "id": "1zWWrgcJaR8P"
   },
   "source": [
    "А что если numpy код обернуть декоратором?"
   ]
  },
  {
   "cell_type": "code",
   "execution_count": null,
   "metadata": {
    "id": "Xfr90CLMaR8P",
    "tags": []
   },
   "outputs": [],
   "source": [
    "@njit\n",
    "def logistic_numba(y):\n",
    "    return 1 / (1 + np.exp(-y))\n",
    "\n",
    "@njit(parallel=True)\n",
    "def logistic_numba_parallel(y):\n",
    "    return 1 / (1 + np.exp(-y))"
   ]
  },
  {
   "cell_type": "code",
   "execution_count": null,
   "metadata": {
    "colab": {
     "base_uri": "https://localhost:8080/"
    },
    "id": "mhTLhNgmaR8P",
    "outputId": "3cf3c120-f576-4d5a-e53d-4efc27f1eae3",
    "tags": []
   },
   "outputs": [],
   "source": [
    "%timeit logistic_numba(x)"
   ]
  },
  {
   "cell_type": "code",
   "execution_count": null,
   "metadata": {
    "colab": {
     "base_uri": "https://localhost:8080/"
    },
    "id": "GZC1KdtFaR8P",
    "outputId": "cd962007-f380-4d2d-bb8f-560d3ce78baa",
    "tags": []
   },
   "outputs": [],
   "source": [
    "%timeit logistic_numba_parallel(x)"
   ]
  },
  {
   "cell_type": "markdown",
   "metadata": {
    "id": "qcO8FpPz4Qzy"
   },
   "source": [
    "inline='always'"
   ]
  },
  {
   "cell_type": "code",
   "execution_count": null,
   "metadata": {
    "id": "tneYVVjW4P4s"
   },
   "outputs": [],
   "source": [
    "@njit\n",
    "def square(x):\n",
    "    return x * x\n",
    "\n",
    "@njit\n",
    "def sum_of_squares(arr):\n",
    "    result = 0\n",
    "    for i in arr:\n",
    "        result += square(i)\n",
    "    return result\n",
    "\n",
    "large_array = np.arange(100000)"
   ]
  },
  {
   "cell_type": "code",
   "execution_count": null,
   "metadata": {
    "colab": {
     "base_uri": "https://localhost:8080/"
    },
    "id": "nao8bwGO48mx",
    "outputId": "d2e2f570-b7ea-4ce7-facb-62471bde4341"
   },
   "outputs": [],
   "source": [
    "%timeit sum_of_squares(large_array)"
   ]
  },
  {
   "cell_type": "code",
   "execution_count": null,
   "metadata": {
    "id": "21o23kJb4QFe"
   },
   "outputs": [],
   "source": [
    "@njit(inline='always')\n",
    "def square(x):\n",
    "    return x * x\n",
    "\n",
    "@njit\n",
    "def sum_of_squares(arr):\n",
    "    result = 0\n",
    "    for i in arr:\n",
    "        result += square(i)\n",
    "    return result\n",
    "\n",
    "large_array = np.arange(100000)"
   ]
  },
  {
   "cell_type": "code",
   "execution_count": null,
   "metadata": {
    "colab": {
     "base_uri": "https://localhost:8080/"
    },
    "id": "T8XN6j-05BRL",
    "outputId": "55fc74e8-52ce-4944-d3fc-8509d620a727"
   },
   "outputs": [],
   "source": [
    "%timeit sum_of_squares(large_array)"
   ]
  },
  {
   "cell_type": "markdown",
   "metadata": {
    "id": "Y3h6tyvhaR8P"
   },
   "source": [
    "Есть декоратор для работы с веткорами, давайте попробуем и его!"
   ]
  },
  {
   "cell_type": "code",
   "execution_count": null,
   "metadata": {
    "id": "ot8bGe5PaR8P",
    "tags": []
   },
   "outputs": [],
   "source": [
    "@vectorize([float64(float64)], nopython=True)\n",
    "def logistic_numba_v(y):\n",
    "    return 1 / (1 + np.exp(-y))\n",
    "\n",
    "@vectorize([float64(float64)], target='cuda')\n",
    "def logistic_numba_v_cuda(y):\n",
    "    return 1 / (1 + math.exp(-y))"
   ]
  },
  {
   "cell_type": "code",
   "execution_count": null,
   "metadata": {
    "colab": {
     "base_uri": "https://localhost:8080/"
    },
    "id": "4LP-RCIPaR8P",
    "outputId": "7033c495-48b5-4065-bf5e-0381526e9624",
    "tags": []
   },
   "outputs": [],
   "source": [
    "%timeit logistic_numba_v(x)"
   ]
  },
  {
   "cell_type": "code",
   "execution_count": null,
   "metadata": {
    "colab": {
     "base_uri": "https://localhost:8080/"
    },
    "id": "iPRhxqU0aR8P",
    "outputId": "94209b1e-44a1-4b16-ad9f-702ed72f6383",
    "tags": []
   },
   "outputs": [],
   "source": [
    "%timeit logistic_numba_v_cuda(x)"
   ]
  },
  {
   "cell_type": "markdown",
   "metadata": {
    "id": "g9dy2ix2aR8P"
   },
   "source": [
    "Что-то GPU не впечатлило...а что можно сделать? Первое - это перейти на float32, сильно ничего не потеряем, но взамен преобретем скорость=)"
   ]
  },
  {
   "cell_type": "code",
   "execution_count": null,
   "metadata": {
    "id": "3R1s9E-waR8P",
    "tags": []
   },
   "outputs": [],
   "source": [
    "x_32 = np.float32(np.random.random_sample(10000000))\n",
    "\n",
    "\n",
    "@vectorize([float32(float32)], target='cuda')\n",
    "def logistic_numba_v_cuda(y):\n",
    "    return 1 / (1 + math.exp(y))"
   ]
  },
  {
   "cell_type": "code",
   "execution_count": null,
   "metadata": {
    "colab": {
     "base_uri": "https://localhost:8080/"
    },
    "id": "_Nv7sLBzaR8P",
    "outputId": "f3c1c603-00d5-4205-e5e3-6f53a41f955e",
    "tags": []
   },
   "outputs": [],
   "source": [
    "%timeit logistic_numba_v_cuda(x_32)"
   ]
  },
  {
   "cell_type": "markdown",
   "metadata": {
    "id": "tManLSo5aR8P"
   },
   "source": [
    "Так, все равно что-то не так...Давайте вспомним о том, что есть расходы на передачу данных от оперативной памяти на GPU и попробуем сделать это заранее. А также заранее заразервируем на GPU место для результата"
   ]
  },
  {
   "cell_type": "code",
   "execution_count": null,
   "metadata": {
    "id": "CJCvSEJ6aR8P",
    "tags": []
   },
   "outputs": [],
   "source": [
    "x_device = cuda.to_device(x_32)\n",
    "out_device = cuda.device_array(shape=(len(x_32),), dtype=np.float32)"
   ]
  },
  {
   "cell_type": "code",
   "execution_count": null,
   "metadata": {
    "colab": {
     "base_uri": "https://localhost:8080/"
    },
    "id": "eWa_524KaR8P",
    "outputId": "9bc39593-41ad-4241-b485-3d5f635d645d",
    "tags": []
   },
   "outputs": [],
   "source": [
    "%timeit logistic_numba_v_cuda(x_device, out=out_device)"
   ]
  },
  {
   "cell_type": "markdown",
   "metadata": {
    "id": "PNDRUHuNaR8P"
   },
   "source": [
    "А теперь давайте напишем функцию через cuda.jit"
   ]
  },
  {
   "cell_type": "code",
   "execution_count": null,
   "metadata": {
    "id": "G8k_FGGTaR8P",
    "tags": []
   },
   "outputs": [],
   "source": [
    "@cuda.jit\n",
    "def logistic_cuda_jit(x, y):\n",
    "    pos = cuda.grid(1)\n",
    "    if pos < x.size:\n",
    "        y[pos] = 1 / (1 + 1 + math.exp(-x[pos]))"
   ]
  },
  {
   "cell_type": "code",
   "execution_count": null,
   "metadata": {
    "id": "6FBPFi0taR8P",
    "tags": []
   },
   "outputs": [],
   "source": [
    "threadsperblock = 64\n",
    "blockspergrid = int(math.ceil(x.shape[0] / threadsperblock))\n",
    "\n",
    "d_x = cuda.to_device(x_32)\n",
    "y = np.zeros(x.shape[0])\n",
    "d_y = cuda.to_device(y)"
   ]
  },
  {
   "cell_type": "code",
   "execution_count": null,
   "metadata": {
    "colab": {
     "base_uri": "https://localhost:8080/"
    },
    "id": "lGELuA0TaR8P",
    "outputId": "302fee88-7f5c-4f7b-acd4-750b52834ee7",
    "tags": []
   },
   "outputs": [],
   "source": [
    "for threadsperblock in [16, 32, 64, 128, 256, 512]:\n",
    "    blockspergrid = int(math.ceil(x.shape[0] / threadsperblock))\n",
    "    res = %timeit -o logistic_cuda_jit[blockspergrid, threadsperblock](d_x, d_y)\n",
    "    print(f'Number of threads - {threadsperblock}, time - {res.average}')"
   ]
  },
  {
   "cell_type": "markdown",
   "metadata": {
    "id": "53Pc0DUmaR8Q"
   },
   "source": [
    "Самим писать бывает полезно, можно найти вариант, когда реализация быстрее готовых решений, но нужно подбирать параметры"
   ]
  },
  {
   "cell_type": "markdown",
   "metadata": {
    "id": "AE0UfnLsaR8Q"
   },
   "source": [
    "guvectorize"
   ]
  },
  {
   "cell_type": "code",
   "execution_count": null,
   "metadata": {
    "id": "n0Zi9tD7aR8Q",
    "tags": []
   },
   "outputs": [],
   "source": [
    "x = np.random.random_sample(100000)"
   ]
  },
  {
   "cell_type": "code",
   "execution_count": null,
   "metadata": {
    "id": "GGtGgStAaR8Q",
    "tags": []
   },
   "outputs": [],
   "source": [
    "def moving_average(vector, window):\n",
    "    avg = [vector[i:i+window].mean() for i in range(len(vector))]\n",
    "    return np.array(avg)\n",
    "\n",
    "@guvectorize(['void(float64[:], int32, float64[:])'],\n",
    "             '(n),()->(n)', nopython=True)\n",
    "def moving_average_g(vector, window, out):\n",
    "    for i in range(len(vector)):\n",
    "        acc = 0.\n",
    "        values = vector[i:i+window]\n",
    "        for val in values:\n",
    "            acc += val\n",
    "        out[i] = acc / len(values)\n",
    "\n",
    "@guvectorize(['void(float64[:], int64, float64[:])'],\n",
    "             '(n),()->(n)', target='cuda')\n",
    "def moving_average_cuda(vector, window, out):\n",
    "    for i in range(len(vector)):\n",
    "        acc = 0.\n",
    "        values = vector[i:i+window]\n",
    "        for val in values:\n",
    "            acc += val\n",
    "        out[i] = acc / len(values)"
   ]
  },
  {
   "cell_type": "code",
   "execution_count": null,
   "metadata": {
    "colab": {
     "base_uri": "https://localhost:8080/"
    },
    "id": "qIeav3J9aR8Q",
    "outputId": "fd7117ae-6b39-4daa-ad6d-0b9bd28c527e",
    "tags": []
   },
   "outputs": [],
   "source": [
    "%timeit moving_average(x, 10)"
   ]
  },
  {
   "cell_type": "code",
   "execution_count": null,
   "metadata": {
    "colab": {
     "base_uri": "https://localhost:8080/"
    },
    "id": "_DjKaCXGaR8T",
    "outputId": "f6eec532-d9c4-4521-ea0f-a37702a0574d",
    "tags": []
   },
   "outputs": [],
   "source": [
    "%timeit moving_average_g(x, 10)"
   ]
  },
  {
   "cell_type": "code",
   "execution_count": null,
   "metadata": {
    "id": "_cZPYkAiaR8T",
    "tags": []
   },
   "outputs": [],
   "source": [
    "x_device = cuda.to_device(x)\n",
    "window = cuda.to_device(10)"
   ]
  },
  {
   "cell_type": "code",
   "execution_count": null,
   "metadata": {
    "colab": {
     "base_uri": "https://localhost:8080/"
    },
    "id": "Kz3AExwHaR8T",
    "outputId": "ab49162d-a197-4e24-faa6-4f3970c33f88",
    "tags": []
   },
   "outputs": [],
   "source": [
    "%time moving_average_cuda(x_device, window)"
   ]
  },
  {
   "cell_type": "markdown",
   "metadata": {},
   "source": [
    "Почему не так быстро? Оконные функции не совсем то, с чем любит работать GPU + мы пишем не сами код, а он трансформируется за нас"
   ]
  },
  {
   "cell_type": "markdown",
   "metadata": {
    "id": "kLxqjS2zaR8T"
   },
   "source": [
    "Матрицы"
   ]
  },
  {
   "cell_type": "code",
   "execution_count": null,
   "metadata": {
    "id": "L06otExfaR8T",
    "tags": []
   },
   "outputs": [],
   "source": [
    "x = np.random.random_sample(90000).reshape(300, 300)\n",
    "y = np.random.random_sample(90000).reshape(300, 300)"
   ]
  },
  {
   "cell_type": "code",
   "execution_count": null,
   "metadata": {
    "id": "EiwSS3FraR8T",
    "tags": []
   },
   "outputs": [],
   "source": [
    "def mm(x, y):\n",
    "    x_rows, x_cols = x.shape\n",
    "    y_rows, y_cols = y.shape\n",
    "    z = np.zeros(x_rows * y_cols).reshape(x_rows, y_cols)\n",
    "    for i in range(x_rows):\n",
    "        for j in range(x_cols):\n",
    "            for k in range(y_cols):\n",
    "                z[i][k] += x[i][j] * y[j][k]\n",
    "    return z\n",
    "\n",
    "def mm_numpy(x, y):\n",
    "    return np.dot(x, y)\n",
    "\n",
    "@njit\n",
    "def nn_numba(x, y):\n",
    "    x_rows, x_cols = x.shape\n",
    "    y_rows, y_cols = y.shape\n",
    "    z = np.zeros(x_rows * y_cols).reshape(x_rows, y_cols)\n",
    "    for i in range(x_rows):\n",
    "        for j in range(x_cols):\n",
    "            for k in range(y_cols):\n",
    "                z[i][k] += x[i][j] * y[j][k]\n",
    "    return z\n",
    "\n",
    "@njit(parallel=True)\n",
    "def mm_numpy_numba(x, y):\n",
    "    return np.dot(x, y)\n",
    "\n",
    "\n",
    "@cuda.jit\n",
    "def mm_cuda(x, y, z):\n",
    "    i, j = cuda.grid(2)\n",
    "    tmp = 0.\n",
    "    for k in range(x.shape[1]):\n",
    "        tmp += x[i, k] * y[k, j]\n",
    "    z[i, j] = tmp"
   ]
  },
  {
   "cell_type": "code",
   "execution_count": null,
   "metadata": {
    "id": "mjzmBWlaaR8T",
    "tags": []
   },
   "outputs": [],
   "source": [
    "testing.assert_almost_equal(mm(x, y), mm_numpy(x, y), decimal=2)"
   ]
  },
  {
   "cell_type": "code",
   "execution_count": null,
   "metadata": {
    "colab": {
     "base_uri": "https://localhost:8080/"
    },
    "id": "6PbP1zrwaR8T",
    "outputId": "2aab29ed-0d6f-4e2a-dab6-b558525d54a8",
    "tags": []
   },
   "outputs": [],
   "source": [
    "%time mm(x, y)"
   ]
  },
  {
   "cell_type": "code",
   "execution_count": null,
   "metadata": {
    "colab": {
     "base_uri": "https://localhost:8080/"
    },
    "id": "NvSruy3SaR8T",
    "outputId": "7c17eca9-7681-47f5-ba95-bd30ad6bb17b",
    "tags": []
   },
   "outputs": [],
   "source": [
    "%timeit mm_numpy(x, y)"
   ]
  },
  {
   "cell_type": "code",
   "execution_count": null,
   "metadata": {
    "colab": {
     "base_uri": "https://localhost:8080/"
    },
    "id": "YStu5VxfaR8T",
    "outputId": "f9894e40-18a6-4e74-aab1-3932e2773b38",
    "tags": []
   },
   "outputs": [],
   "source": [
    "%timeit nn_numba(x, y)"
   ]
  },
  {
   "cell_type": "code",
   "execution_count": null,
   "metadata": {
    "colab": {
     "base_uri": "https://localhost:8080/"
    },
    "id": "pqngkODeaR8U",
    "outputId": "091a707f-e79d-4b1c-e5e4-6187c33b2bbd",
    "tags": []
   },
   "outputs": [],
   "source": [
    "%timeit mm_numpy_numba(x, y)"
   ]
  },
  {
   "cell_type": "code",
   "execution_count": null,
   "metadata": {
    "id": "t4IIBVM2aR8U",
    "tags": []
   },
   "outputs": [],
   "source": [
    "threadsperblock = (16, 16)\n",
    "blockspergrid_x = int(math.ceil(x.shape[0] / threadsperblock[0]))\n",
    "blockspergrid_y = int(math.ceil(y.shape[1] / threadsperblock[1]))\n",
    "blockspergrid = (blockspergrid_x, blockspergrid_y)\n",
    "\n",
    "d_x = cuda.to_device(x)\n",
    "d_y = cuda.to_device(y)\n",
    "z = np.zeros(x.shape[0] * y.shape[1]).reshape(x.shape[0], y.shape[1])\n",
    "d_z = cuda.to_device(z)"
   ]
  },
  {
   "cell_type": "code",
   "execution_count": null,
   "metadata": {
    "colab": {
     "base_uri": "https://localhost:8080/"
    },
    "id": "AApv-otmaR8U",
    "outputId": "8d31d15b-edbf-4dc0-9dc1-4006b4d6007a",
    "tags": []
   },
   "outputs": [],
   "source": [
    "%timeit mm_cuda[blockspergrid, threadsperblock](d_x, d_y, d_z)"
   ]
  },
  {
   "cell_type": "code",
   "execution_count": null,
   "metadata": {
    "colab": {
     "base_uri": "https://localhost:8080/"
    },
    "id": "cKGa95BbaR8U",
    "outputId": "607d4ffc-a478-4ea6-aeae-21bd6efb5011",
    "tags": []
   },
   "outputs": [],
   "source": [
    "a = %timeit -n 100 -r 10 -o mm_cuda[blockspergrid, threadsperblock](d_x, d_y, d_z)"
   ]
  },
  {
   "cell_type": "markdown",
   "metadata": {
    "id": "29cof9WXDoae"
   },
   "source": [
    "Логистическая регрессия"
   ]
  },
  {
   "cell_type": "code",
   "execution_count": null,
   "metadata": {
    "id": "Bqw04_aJD9jX"
   },
   "outputs": [],
   "source": [
    "from sklearn.datasets import make_classification"
   ]
  },
  {
   "cell_type": "code",
   "execution_count": null,
   "metadata": {
    "id": "Q1Y6sKWCEFDl"
   },
   "outputs": [],
   "source": [
    "X, y = make_classification(\n",
    "    n_samples=10000,\n",
    "    n_features=10,\n",
    "    n_informative=8,\n",
    "    class_sep=0.7,\n",
    "    random_state=42\n",
    ")\n",
    "\n",
    "w = np.random.randn(10)"
   ]
  },
  {
   "cell_type": "code",
   "execution_count": null,
   "metadata": {
    "id": "bH0_hKh-DnsS"
   },
   "outputs": [],
   "source": [
    "def logistic_regression(X, y, w, iterations):\n",
    "    for i in range(iterations):\n",
    "        w -= np.dot(((1.0 /\n",
    "              (1.0 + np.exp(-y * np.dot(X, w)))\n",
    "              - 1.0) * y), X)\n",
    "    return w"
   ]
  },
  {
   "cell_type": "code",
   "execution_count": null,
   "metadata": {
    "colab": {
     "base_uri": "https://localhost:8080/"
    },
    "id": "SCB2oWTDDn7r",
    "outputId": "7e1ed4e3-dca6-46d6-ed2a-8a43220d2fce"
   },
   "outputs": [],
   "source": [
    "%%timeit\n",
    "\n",
    "logistic_regression(X, y, w, 10)"
   ]
  },
  {
   "cell_type": "code",
   "execution_count": null,
   "metadata": {
    "id": "n7fjhY_uFHJn"
   },
   "outputs": [],
   "source": [
    "@njit(parallel=True)\n",
    "def logistic_regression(X, y, w, iterations):\n",
    "    for i in range(iterations):\n",
    "        w -= np.dot(((1.0 /\n",
    "              (1.0 + np.exp(-y * np.dot(X, w)))\n",
    "              - 1.0) * y), X)\n",
    "    return w"
   ]
  },
  {
   "cell_type": "code",
   "execution_count": null,
   "metadata": {
    "colab": {
     "base_uri": "https://localhost:8080/"
    },
    "id": "Nl78AQvdFJ9i",
    "outputId": "ca682269-9f62-4494-c03b-6b56c131363f"
   },
   "outputs": [],
   "source": [
    "%%timeit\n",
    "\n",
    "logistic_regression(X, y, w, 10)"
   ]
  },
  {
   "cell_type": "markdown",
   "metadata": {
    "id": "084yBhdHaR8U"
   },
   "source": [
    "# Немного про распараллеливание кода"
   ]
  },
  {
   "cell_type": "code",
   "execution_count": null,
   "metadata": {
    "id": "qqk6cMzEaR8U",
    "tags": []
   },
   "outputs": [],
   "source": [
    "from joblib import Parallel, delayed, cpu_count, parallel_backend\n",
    "import time"
   ]
  },
  {
   "cell_type": "markdown",
   "metadata": {
    "id": "q9RX_Pg6aR8U"
   },
   "source": [
    "### backend: str, ParallelBackendBase instance or None, default: ‘loky’\n",
    "Specify the parallelization backend implementation. Supported backends are:\n",
    "\n",
    "“loky” used by default, can induce some communication and memory overhead when exchanging input and output data with the worker Python processes. On some rare systems (such as Pyiodide), the loky backend may not be available.\n",
    "\n",
    "“multiprocessing” previous process-based backend based on multiprocessing.Pool. Less robust than loky.\n",
    "\n",
    "“threading” is a very low-overhead backend but it suffers from the Python Global Interpreter Lock if the called function relies a lot on Python objects. “threading” is mostly useful when the execution bottleneck is a compiled extension that explicitly releases the GIL (for instance a Cython loop wrapped in a “with nogil” block or an expensive call to a library such as NumPy).\n",
    "\n",
    "finally, you can register backends by calling register_parallel_backend(). This will allow you to implement a backend of your liking."
   ]
  },
  {
   "cell_type": "markdown",
   "metadata": {
    "id": "RCgCK3jPaR8U"
   },
   "source": [
    "### batch_size: int or ‘auto’, default: ‘auto’\n",
    "\n",
    "The number of atomic tasks to dispatch at once to each worker. When individual evaluations are very fast, dispatching calls to workers can be slower than sequential computation because of the overhead. Batching fast computations together can mitigate this. The 'auto' strategy keeps track of the time it takes for a batch to complete, and dynamically adjusts the batch size to keep the time on the order of half a second, using a heuristic. The initial batch size is 1. batch_size=\"auto\" with backend=\"threading\" will dispatch batches of a single task at a time as the threading backend has very little overhead and using larger batch size has not proved to bring any gain in that case."
   ]
  },
  {
   "cell_type": "markdown",
   "metadata": {
    "id": "YGORrCZSaR8U"
   },
   "source": [
    "Рассмотрим простой пример, но он позволит понять основной принцип. Напишем функицию, которая долго выполняет одно действие. Зачем так? Потому что в жизни параллелизм полезен только в тех случаях, где накладные расходы ниже ожидаемого преимущества."
   ]
  },
  {
   "cell_type": "code",
   "execution_count": null,
   "metadata": {
    "id": "vav5_xVeFvlR"
   },
   "outputs": [],
   "source": [
    "def slow_power(x, p):\n",
    "    time.sleep(1)\n",
    "    return x ** p"
   ]
  },
  {
   "cell_type": "code",
   "execution_count": null,
   "metadata": {
    "colab": {
     "base_uri": "https://localhost:8080/"
    },
    "id": "7Kvi4NyuFykQ",
    "outputId": "46d41bcf-9764-48b6-c470-477d031ad9e1"
   },
   "outputs": [],
   "source": [
    "%%time\n",
    "\n",
    " [slow_power(i, 5) for i in range(10)]"
   ]
  },
  {
   "cell_type": "markdown",
   "metadata": {
    "id": "7JAGeilyDMJh"
   },
   "source": [
    "Получили 10 секунд, как и ожидалось"
   ]
  },
  {
   "cell_type": "code",
   "execution_count": null,
   "metadata": {
    "colab": {
     "base_uri": "https://localhost:8080/"
    },
    "id": "rWmBKTdcG1Z9",
    "outputId": "ffc17f17-6845-487d-984c-2f712ea01758"
   },
   "outputs": [],
   "source": [
    "%%time\n",
    "\n",
    "with Parallel(n_jobs=2, backend=\"loky\", verbose=10) as parallel:\n",
    "    a = parallel([delayed(slow_power)(i, 5) for i in range(10)])"
   ]
  },
  {
   "cell_type": "code",
   "execution_count": null,
   "metadata": {
    "colab": {
     "base_uri": "https://localhost:8080/"
    },
    "id": "gSlviwoVG9xW",
    "outputId": "4c0b435e-3d2d-4a48-e352-f2aa90145c86"
   },
   "outputs": [],
   "source": [
    "%%time\n",
    "\n",
    "with Parallel(n_jobs=2, backend=\"multiprocessing\", verbose=10) as parallel:\n",
    "    a = parallel([delayed(slow_power)(i, 5) for i in range(10)])"
   ]
  },
  {
   "cell_type": "markdown",
   "metadata": {
    "id": "LtXNtFcIDd4u"
   },
   "source": [
    "В целом на игрушечном примере увидели, что это работает. Можеим попробовать придумать что-то более интересное."
   ]
  },
  {
   "cell_type": "code",
   "execution_count": null,
   "metadata": {
    "id": "7Dry6ai9aR8U",
    "tags": []
   },
   "outputs": [],
   "source": [
    "x = np.random.random_sample(2_000_000)\n",
    "vector = np.random.random_sample(100)\n",
    "\n",
    "def preprocess_one(val):\n",
    "    val = np.sum(np.multiply(vector, val))\n",
    "    return val ** 2\n",
    "\n",
    "def preprocess_array(values):\n",
    "    return [preprocess_one(val) for val in values]"
   ]
  },
  {
   "cell_type": "code",
   "execution_count": null,
   "metadata": {
    "colab": {
     "base_uri": "https://localhost:8080/"
    },
    "id": "zk2t9WmMEGoF",
    "outputId": "a8ef9270-0cf8-4c5b-c618-6465e6f8f1a6"
   },
   "outputs": [],
   "source": [
    "%%timeit\n",
    "\n",
    "preprocess_one(x[0])"
   ]
  },
  {
   "cell_type": "code",
   "execution_count": null,
   "metadata": {
    "colab": {
     "base_uri": "https://localhost:8080/"
    },
    "id": "EnDdNxTnaR8U",
    "outputId": "071e53d3-69ee-4996-9cb9-36f629261975",
    "tags": []
   },
   "outputs": [],
   "source": [
    "%%timeit\n",
    "\n",
    "a = preprocess_array(x)"
   ]
  },
  {
   "cell_type": "code",
   "execution_count": null,
   "metadata": {
    "colab": {
     "base_uri": "https://localhost:8080/"
    },
    "id": "DlKNV1C_aR8U",
    "outputId": "235425b5-610d-4569-b8fa-ffe450c6e8f0",
    "tags": []
   },
   "outputs": [],
   "source": [
    "%%time\n",
    "\n",
    "with Parallel(n_jobs=2, backend=\"loky\", verbose=10) as parallel:\n",
    "     results = parallel(delayed(preprocess_one)(val) for val in x)"
   ]
  },
  {
   "cell_type": "markdown",
   "metadata": {
    "id": "ZuaGQY6_FGbh"
   },
   "source": [
    "Что произошло? Высокие зартраты на параллелизм, димаческий анализ размера батча"
   ]
  },
  {
   "cell_type": "code",
   "execution_count": null,
   "metadata": {
    "id": "Fd5vGvy6FP-8"
   },
   "outputs": [],
   "source": [
    "batch_size = 100_000\n",
    "batches = [x[i:i+batch_size] for i in range(0, len(x), batch_size)]"
   ]
  },
  {
   "cell_type": "code",
   "execution_count": null,
   "metadata": {
    "colab": {
     "base_uri": "https://localhost:8080/"
    },
    "id": "HHVznR5QFpcJ",
    "outputId": "d3b3b563-08f0-43a3-a565-642fcd2eb8d6"
   },
   "outputs": [],
   "source": [
    "%%time\n",
    "\n",
    "with Parallel(n_jobs=2, backend=\"loky\", verbose=10) as parallel:\n",
    "     results = parallel(delayed(preprocess_array)(val) for val in batches)"
   ]
  },
  {
   "cell_type": "markdown",
   "metadata": {
    "id": "qzDFMFeqGBAj"
   },
   "source": [
    "Стало быстрее, но все равно это хуже, чем было с 1 ядром\n",
    "\n",
    "Попробуем убрать все лишнее и посчитать все вместе"
   ]
  },
  {
   "cell_type": "code",
   "execution_count": null,
   "metadata": {
    "colab": {
     "base_uri": "https://localhost:8080/"
    },
    "id": "w3rab3FgGKsT",
    "outputId": "79228edf-6b07-4d0c-a229-bcff487a38b1"
   },
   "outputs": [],
   "source": [
    "%%timeit\n",
    "\n",
    "batch_size = 100_000\n",
    "batches = [x[i:i+batch_size] for i in range(0, len(x), batch_size)]\n",
    "\n",
    "with Parallel(n_jobs=2, backend=\"loky\") as parallel:\n",
    "     results = parallel(delayed(preprocess_array)(val) for val in batches)"
   ]
  },
  {
   "cell_type": "code",
   "execution_count": null,
   "metadata": {
    "id": "AMKY7Cq9o4SA"
   },
   "outputs": [],
   "source": [
    "%%timeit\n",
    "\n",
    "batch_size = 100_000\n",
    "batches = [x[i:i+batch_size] for i in range(0, len(x), batch_size)]\n",
    "\n",
    "with Parallel(n_jobs=4, backend=\"loky\") as parallel:\n",
    "     results = parallel(delayed(preprocess_array)(val) for val in batches)"
   ]
  },
  {
   "cell_type": "code",
   "execution_count": null,
   "metadata": {
    "id": "eq6934VGHRFd"
   },
   "outputs": [],
   "source": [
    "%%timeit\n",
    "\n",
    "batch_size = 100_000\n",
    "batches = [x[i:i+batch_size] for i in range(0, len(x), batch_size)]\n",
    "\n",
    "with Parallel(n_jobs=8, backend=\"loky\") as parallel:\n",
    "     results = parallel(delayed(preprocess_array)(val) for val in batches)"
   ]
  },
  {
   "cell_type": "markdown",
   "metadata": {
    "id": "5yAjHuumaR8V"
   },
   "source": [
    "Плохой пример"
   ]
  },
  {
   "cell_type": "code",
   "execution_count": null,
   "metadata": {
    "id": "mS3n7W7FaR8V",
    "tags": []
   },
   "outputs": [],
   "source": [
    "def preprocess_one_bad(val):\n",
    "    return val ** 2\n",
    "\n",
    "def preprocess_array_bad(values):\n",
    "    return [preprocess_one_bad(val) for val in values]"
   ]
  },
  {
   "cell_type": "code",
   "execution_count": null,
   "metadata": {
    "colab": {
     "base_uri": "https://localhost:8080/"
    },
    "id": "4qG_nI6NaR8V",
    "outputId": "17a26335-3808-49d1-f179-7376833eab99",
    "tags": []
   },
   "outputs": [],
   "source": [
    "%timeit preprocess_array_bad(x)"
   ]
  },
  {
   "cell_type": "code",
   "execution_count": null,
   "metadata": {
    "colab": {
     "base_uri": "https://localhost:8080/"
    },
    "id": "3IJ8kyEyaR8V",
    "outputId": "5a6ec964-86bb-48be-b4d8-0a4468c30809",
    "tags": []
   },
   "outputs": [],
   "source": [
    "%%time\n",
    "\n",
    "batch_size = 30_000\n",
    "batches = [x[i:i+batch_size] for i in range(0, len(x), batch_size)]\n",
    "\n",
    "res = []\n",
    "\n",
    "with Parallel(n_jobs=2) as parallel:\n",
    "     results = parallel(delayed(preprocess_array_bad)(val) for val in batches)"
   ]
  },
  {
   "cell_type": "markdown",
   "metadata": {
    "id": "zuW41MWnaR8V"
   },
   "source": [
    "# Домашнее задание\n",
    "\n",
    "##  Срок выполнения 13.11.2024"
   ]
  },
  {
   "cell_type": "markdown",
   "metadata": {
    "id": "K0ZoJfJfaR8V"
   },
   "source": [
    "### Первая часть\n",
    "\n",
    "Задание будет простым: нужно реализовать функции для поэлементного сложения двух матриц:\n",
    "\n",
    "    1) На чистом python\n",
    "    2) python + @njit\n",
    "    3) numpy\n",
    "    4) numpy + @njit\n",
    "    5) @cuda.jit\n",
    "    \n",
    "Также необходимо замерить время выполнения\n",
    "\n",
    "### Вторая часть\n",
    "\n",
    "Попробуйте для параллельного расчета preprocess_array разные комбинации количетва ядер и размера батча. Постройте график зависмости времени расчета (в простом варианте можно несколько графиков при фиксации одного из параметров)."
   ]
  }
 ],
 "metadata": {
  "colab": {
   "provenance": []
  },
  "kernelspec": {
   "display_name": "Python 3",
   "language": "python",
   "name": "python3"
  },
  "language_info": {
   "codemirror_mode": {
    "name": "ipython",
    "version": 3
   },
   "file_extension": ".py",
   "mimetype": "text/x-python",
   "name": "python",
   "nbconvert_exporter": "python",
   "pygments_lexer": "ipython3",
   "version": "3.8.8"
  }
 },
 "nbformat": 4,
 "nbformat_minor": 4
}
