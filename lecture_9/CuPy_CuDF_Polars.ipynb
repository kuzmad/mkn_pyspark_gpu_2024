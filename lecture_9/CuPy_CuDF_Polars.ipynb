{
 "cells": [
  {
   "cell_type": "code",
   "execution_count": 1,
   "metadata": {
    "colab": {
     "base_uri": "https://localhost:8080/"
    },
    "id": "TuNg4v0viUQw",
    "outputId": "78f1f4c3-69f4-4dea-9147-870ce5f923c9"
   },
   "outputs": [
    {
     "name": "stdout",
     "output_type": "stream",
     "text": [
      "Collecting dask_cuda\n",
      "  Downloading dask_cuda-24.10.0-py3-none-any.whl.metadata (2.6 kB)\n",
      "Collecting dask-cudf-cu12\n",
      "  Downloading dask_cudf_cu12-24.10.1.tar.gz (2.3 kB)\n",
      "  Installing build dependencies ... \u001b[?25l\u001b[?25hdone\n",
      "  Getting requirements to build wheel ... \u001b[?25l\u001b[?25hdone\n",
      "  Preparing metadata (pyproject.toml) ... \u001b[?25l\u001b[?25hdone\n",
      "Requirement already satisfied: click>=8.1 in /usr/local/lib/python3.10/dist-packages (from dask_cuda) (8.1.7)\n",
      "Requirement already satisfied: numba>=0.57 in /usr/local/lib/python3.10/dist-packages (from dask_cuda) (0.60.0)\n",
      "Requirement already satisfied: numpy<3.0a0,>=1.23 in /usr/local/lib/python3.10/dist-packages (from dask_cuda) (1.26.4)\n",
      "Requirement already satisfied: pandas>=1.3 in /usr/local/lib/python3.10/dist-packages (from dask_cuda) (2.2.2)\n",
      "Collecting pynvml<11.5,>=11.0.0 (from dask_cuda)\n",
      "  Downloading pynvml-11.4.1-py3-none-any.whl.metadata (7.7 kB)\n",
      "Collecting rapids-dask-dependency==24.10.* (from dask_cuda)\n",
      "  Downloading rapids_dask_dependency-24.10.0-py3-none-any.whl.metadata (3.7 kB)\n",
      "Collecting zict>=2.0.0 (from dask_cuda)\n",
      "  Downloading zict-3.0.0-py2.py3-none-any.whl.metadata (899 bytes)\n",
      "Collecting dask==2024.9.0 (from rapids-dask-dependency==24.10.*->dask_cuda)\n",
      "  Downloading dask-2024.9.0-py3-none-any.whl.metadata (3.7 kB)\n",
      "Collecting distributed==2024.9.0 (from rapids-dask-dependency==24.10.*->dask_cuda)\n",
      "  Downloading distributed-2024.9.0-py3-none-any.whl.metadata (3.3 kB)\n",
      "Collecting dask-expr==1.1.14 (from rapids-dask-dependency==24.10.*->dask_cuda)\n",
      "  Downloading dask_expr-1.1.14-py3-none-any.whl.metadata (2.5 kB)\n",
      "Requirement already satisfied: cloudpickle>=3.0.0 in /usr/local/lib/python3.10/dist-packages (from dask==2024.9.0->rapids-dask-dependency==24.10.*->dask_cuda) (3.1.0)\n",
      "Requirement already satisfied: fsspec>=2021.09.0 in /usr/local/lib/python3.10/dist-packages (from dask==2024.9.0->rapids-dask-dependency==24.10.*->dask_cuda) (2024.10.0)\n",
      "Requirement already satisfied: packaging>=20.0 in /usr/local/lib/python3.10/dist-packages (from dask==2024.9.0->rapids-dask-dependency==24.10.*->dask_cuda) (24.1)\n",
      "Requirement already satisfied: partd>=1.4.0 in /usr/local/lib/python3.10/dist-packages (from dask==2024.9.0->rapids-dask-dependency==24.10.*->dask_cuda) (1.4.2)\n",
      "Requirement already satisfied: pyyaml>=5.3.1 in /usr/local/lib/python3.10/dist-packages (from dask==2024.9.0->rapids-dask-dependency==24.10.*->dask_cuda) (6.0.2)\n",
      "Requirement already satisfied: toolz>=0.10.0 in /usr/local/lib/python3.10/dist-packages (from dask==2024.9.0->rapids-dask-dependency==24.10.*->dask_cuda) (0.12.1)\n",
      "Requirement already satisfied: importlib-metadata>=4.13.0 in /usr/local/lib/python3.10/dist-packages (from dask==2024.9.0->rapids-dask-dependency==24.10.*->dask_cuda) (8.5.0)\n",
      "Requirement already satisfied: pyarrow>=14.0.1 in /usr/local/lib/python3.10/dist-packages (from dask-expr==1.1.14->rapids-dask-dependency==24.10.*->dask_cuda) (17.0.0)\n",
      "Requirement already satisfied: jinja2>=2.10.3 in /usr/local/lib/python3.10/dist-packages (from distributed==2024.9.0->rapids-dask-dependency==24.10.*->dask_cuda) (3.1.4)\n",
      "Requirement already satisfied: locket>=1.0.0 in /usr/local/lib/python3.10/dist-packages (from distributed==2024.9.0->rapids-dask-dependency==24.10.*->dask_cuda) (1.0.0)\n",
      "Requirement already satisfied: msgpack>=1.0.2 in /usr/local/lib/python3.10/dist-packages (from distributed==2024.9.0->rapids-dask-dependency==24.10.*->dask_cuda) (1.1.0)\n",
      "Requirement already satisfied: psutil>=5.8.0 in /usr/local/lib/python3.10/dist-packages (from distributed==2024.9.0->rapids-dask-dependency==24.10.*->dask_cuda) (5.9.5)\n",
      "Collecting sortedcontainers>=2.0.5 (from distributed==2024.9.0->rapids-dask-dependency==24.10.*->dask_cuda)\n",
      "  Downloading sortedcontainers-2.4.0-py2.py3-none-any.whl.metadata (10 kB)\n",
      "Collecting tblib>=1.6.0 (from distributed==2024.9.0->rapids-dask-dependency==24.10.*->dask_cuda)\n",
      "  Downloading tblib-3.0.0-py3-none-any.whl.metadata (25 kB)\n",
      "Requirement already satisfied: tornado>=6.2.0 in /usr/local/lib/python3.10/dist-packages (from distributed==2024.9.0->rapids-dask-dependency==24.10.*->dask_cuda) (6.3.3)\n",
      "Requirement already satisfied: urllib3>=1.26.5 in /usr/local/lib/python3.10/dist-packages (from distributed==2024.9.0->rapids-dask-dependency==24.10.*->dask_cuda) (2.2.3)\n",
      "Requirement already satisfied: cudf-cu12==24.10.* in /usr/local/lib/python3.10/dist-packages (from dask-cudf-cu12) (24.10.1)\n",
      "Requirement already satisfied: cupy-cuda12x>=12.0.0 in /usr/local/lib/python3.10/dist-packages (from dask-cudf-cu12) (12.2.0)\n",
      "Requirement already satisfied: cachetools in /usr/local/lib/python3.10/dist-packages (from cudf-cu12==24.10.*->dask-cudf-cu12) (5.5.0)\n",
      "Requirement already satisfied: cuda-python<13.0a0,>=12.0 in /usr/local/lib/python3.10/dist-packages (from cudf-cu12==24.10.*->dask-cudf-cu12) (12.2.1)\n",
      "Requirement already satisfied: libcudf-cu12==24.10.* in /usr/local/lib/python3.10/dist-packages (from cudf-cu12==24.10.*->dask-cudf-cu12) (24.10.1)\n",
      "Requirement already satisfied: nvtx>=0.2.1 in /usr/local/lib/python3.10/dist-packages (from cudf-cu12==24.10.*->dask-cudf-cu12) (0.2.10)\n",
      "Requirement already satisfied: pylibcudf-cu12==24.10.* in /usr/local/lib/python3.10/dist-packages (from cudf-cu12==24.10.*->dask-cudf-cu12) (24.10.1)\n",
      "Requirement already satisfied: pynvjitlink-cu12 in /usr/local/lib/python3.10/dist-packages (from cudf-cu12==24.10.*->dask-cudf-cu12) (0.4.0)\n",
      "Requirement already satisfied: rich in /usr/local/lib/python3.10/dist-packages (from cudf-cu12==24.10.*->dask-cudf-cu12) (13.9.3)\n",
      "Requirement already satisfied: rmm-cu12==24.10.* in /usr/local/lib/python3.10/dist-packages (from cudf-cu12==24.10.*->dask-cudf-cu12) (24.10.0)\n",
      "Requirement already satisfied: typing_extensions>=4.0.0 in /usr/local/lib/python3.10/dist-packages (from cudf-cu12==24.10.*->dask-cudf-cu12) (4.12.2)\n",
      "Requirement already satisfied: fastrlock>=0.5 in /usr/local/lib/python3.10/dist-packages (from cupy-cuda12x>=12.0.0->dask-cudf-cu12) (0.8.2)\n",
      "Requirement already satisfied: llvmlite<0.44,>=0.43.0dev0 in /usr/local/lib/python3.10/dist-packages (from numba>=0.57->dask_cuda) (0.43.0)\n",
      "Requirement already satisfied: python-dateutil>=2.8.2 in /usr/local/lib/python3.10/dist-packages (from pandas>=1.3->dask_cuda) (2.8.2)\n",
      "Requirement already satisfied: pytz>=2020.1 in /usr/local/lib/python3.10/dist-packages (from pandas>=1.3->dask_cuda) (2024.2)\n",
      "Requirement already satisfied: tzdata>=2022.7 in /usr/local/lib/python3.10/dist-packages (from pandas>=1.3->dask_cuda) (2024.2)\n",
      "Requirement already satisfied: cython in /usr/local/lib/python3.10/dist-packages (from cuda-python<13.0a0,>=12.0->cudf-cu12==24.10.*->dask-cudf-cu12) (3.0.11)\n",
      "Requirement already satisfied: six>=1.5 in /usr/local/lib/python3.10/dist-packages (from python-dateutil>=2.8.2->pandas>=1.3->dask_cuda) (1.16.0)\n",
      "Requirement already satisfied: markdown-it-py>=2.2.0 in /usr/local/lib/python3.10/dist-packages (from rich->cudf-cu12==24.10.*->dask-cudf-cu12) (3.0.0)\n",
      "Requirement already satisfied: pygments<3.0.0,>=2.13.0 in /usr/local/lib/python3.10/dist-packages (from rich->cudf-cu12==24.10.*->dask-cudf-cu12) (2.18.0)\n",
      "Requirement already satisfied: zipp>=3.20 in /usr/local/lib/python3.10/dist-packages (from importlib-metadata>=4.13.0->dask==2024.9.0->rapids-dask-dependency==24.10.*->dask_cuda) (3.20.2)\n",
      "Requirement already satisfied: MarkupSafe>=2.0 in /usr/local/lib/python3.10/dist-packages (from jinja2>=2.10.3->distributed==2024.9.0->rapids-dask-dependency==24.10.*->dask_cuda) (3.0.2)\n",
      "Requirement already satisfied: mdurl~=0.1 in /usr/local/lib/python3.10/dist-packages (from markdown-it-py>=2.2.0->rich->cudf-cu12==24.10.*->dask-cudf-cu12) (0.1.2)\n",
      "Downloading dask_cuda-24.10.0-py3-none-any.whl (133 kB)\n",
      "\u001b[2K   \u001b[90m━━━━━━━━━━━━━━━━━━━━━━━━━━━━━━━━━━━━━━━━\u001b[0m \u001b[32m133.2/133.2 kB\u001b[0m \u001b[31m9.3 MB/s\u001b[0m eta \u001b[36m0:00:00\u001b[0m\n",
      "\u001b[?25hDownloading rapids_dask_dependency-24.10.0-py3-none-any.whl (15 kB)\n",
      "Downloading dask-2024.9.0-py3-none-any.whl (1.3 MB)\n",
      "\u001b[2K   \u001b[90m━━━━━━━━━━━━━━━━━━━━━━━━━━━━━━━━━━━━━━━━\u001b[0m \u001b[32m1.3/1.3 MB\u001b[0m \u001b[31m50.7 MB/s\u001b[0m eta \u001b[36m0:00:00\u001b[0m\n",
      "\u001b[?25hDownloading dask_expr-1.1.14-py3-none-any.whl (242 kB)\n",
      "\u001b[2K   \u001b[90m━━━━━━━━━━━━━━━━━━━━━━━━━━━━━━━━━━━━━━━━\u001b[0m \u001b[32m242.6/242.6 kB\u001b[0m \u001b[31m17.4 MB/s\u001b[0m eta \u001b[36m0:00:00\u001b[0m\n",
      "\u001b[?25hDownloading distributed-2024.9.0-py3-none-any.whl (1.0 MB)\n",
      "\u001b[2K   \u001b[90m━━━━━━━━━━━━━━━━━━━━━━━━━━━━━━━━━━━━━━━━\u001b[0m \u001b[32m1.0/1.0 MB\u001b[0m \u001b[31m42.0 MB/s\u001b[0m eta \u001b[36m0:00:00\u001b[0m\n",
      "\u001b[?25hDownloading pynvml-11.4.1-py3-none-any.whl (46 kB)\n",
      "\u001b[2K   \u001b[90m━━━━━━━━━━━━━━━━━━━━━━━━━━━━━━━━━━━━━━━━\u001b[0m \u001b[32m47.0/47.0 kB\u001b[0m \u001b[31m4.2 MB/s\u001b[0m eta \u001b[36m0:00:00\u001b[0m\n",
      "\u001b[?25hDownloading zict-3.0.0-py2.py3-none-any.whl (43 kB)\n",
      "\u001b[2K   \u001b[90m━━━━━━━━━━━━━━━━━━━━━━━━━━━━━━━━━━━━━━━━\u001b[0m \u001b[32m43.3/43.3 kB\u001b[0m \u001b[31m3.9 MB/s\u001b[0m eta \u001b[36m0:00:00\u001b[0m\n",
      "\u001b[?25hDownloading sortedcontainers-2.4.0-py2.py3-none-any.whl (29 kB)\n",
      "Downloading tblib-3.0.0-py3-none-any.whl (12 kB)\n",
      "Building wheels for collected packages: dask-cudf-cu12\n",
      "  Building wheel for dask-cudf-cu12 (pyproject.toml) ... \u001b[?25l\u001b[?25hdone\n",
      "  Created wheel for dask-cudf-cu12: filename=dask_cudf_cu12-24.10.1-py3-none-any.whl size=56338 sha256=9f04be126ffc5921298c51d2888572ac0e31ac77a9dd67920ecec1a1b40978e8\n",
      "  Stored in directory: /root/.cache/pip/wheels/b7/05/59/0d55b227cfca7b05a1a5390a984abd3c7bfda2c39511a08ae3\n",
      "Successfully built dask-cudf-cu12\n",
      "Installing collected packages: sortedcontainers, zict, tblib, pynvml, dask, distributed, dask-expr, rapids-dask-dependency, dask-cudf-cu12, dask_cuda\n",
      "  Attempting uninstall: dask\n",
      "    Found existing installation: dask 2024.10.0\n",
      "    Uninstalling dask-2024.10.0:\n",
      "      Successfully uninstalled dask-2024.10.0\n",
      "Successfully installed dask-2024.9.0 dask-cudf-cu12-24.10.1 dask-expr-1.1.14 dask_cuda-24.10.0 distributed-2024.9.0 pynvml-11.4.1 rapids-dask-dependency-24.10.0 sortedcontainers-2.4.0 tblib-3.0.0 zict-3.0.0\n"
     ]
    }
   ],
   "source": [
    "!pip install dask_cuda dask-cudf-cu12"
   ]
  },
  {
   "cell_type": "code",
   "execution_count": 2,
   "metadata": {
    "colab": {
     "base_uri": "https://localhost:8080/"
    },
    "id": "bleHfttrpp7r",
    "outputId": "742e9b2d-03d1-483a-cc01-82342568bf8a"
   },
   "outputs": [
    {
     "name": "stdout",
     "output_type": "stream",
     "text": [
      "Looking in indexes: https://pypi.org/simple, https://pypi.nvidia.com\n",
      "Requirement already satisfied: polars[gpu] in /usr/local/lib/python3.10/dist-packages (1.9.0)\n",
      "Collecting polars[gpu]\n",
      "  Downloading polars-1.12.0-cp39-abi3-manylinux_2_17_x86_64.manylinux2014_x86_64.whl.metadata (14 kB)\n",
      "\u001b[33mWARNING: Skipping page https://pypi.nvidia.com/cudf-polars-cu12/ because the GET request got Content-Type: public, must-revalidate, proxy-revalidate, max-age=0. The only supported Content-Types are application/vnd.pypi.simple.v1+json, application/vnd.pypi.simple.v1+html, and text/html\u001b[0m\u001b[33m\n",
      "\u001b[0mCollecting cudf-polars-cu12 (from polars[gpu])\n",
      "  Downloading cudf_polars_cu12-24.10.1.tar.gz (2.2 kB)\n",
      "  Installing build dependencies ... \u001b[?25l\u001b[?25hdone\n",
      "  Getting requirements to build wheel ... \u001b[?25l\u001b[?25hdone\n",
      "  Preparing metadata (pyproject.toml) ... \u001b[?25l\u001b[?25hdone\n",
      "INFO: pip is looking at multiple versions of cudf-polars-cu12 to determine which version is compatible with other requirements. This could take a while.\n",
      "Collecting polars[gpu]\n",
      "  Downloading polars-1.11.0-cp39-abi3-manylinux_2_17_x86_64.manylinux2014_x86_64.whl.metadata (14 kB)\n",
      "  Downloading polars-1.10.0-cp39-abi3-manylinux_2_17_x86_64.manylinux2014_x86_64.whl.metadata (14 kB)\n",
      "  Downloading polars-1.9.0-cp38-abi3-manylinux_2_17_x86_64.manylinux2014_x86_64.whl.metadata (14 kB)\n",
      "  Downloading polars-1.8.2-cp38-abi3-manylinux_2_17_x86_64.manylinux2014_x86_64.whl.metadata (14 kB)\n",
      "Requirement already satisfied: pylibcudf-cu12==24.10.* in /usr/local/lib/python3.10/dist-packages (from cudf-polars-cu12->polars[gpu]) (24.10.1)\n",
      "Requirement already satisfied: cuda-python<13.0a0,>=12.0 in /usr/local/lib/python3.10/dist-packages (from pylibcudf-cu12==24.10.*->cudf-polars-cu12->polars[gpu]) (12.2.1)\n",
      "Requirement already satisfied: libcudf-cu12==24.10.* in /usr/local/lib/python3.10/dist-packages (from pylibcudf-cu12==24.10.*->cudf-polars-cu12->polars[gpu]) (24.10.1)\n",
      "Requirement already satisfied: nvtx>=0.2.1 in /usr/local/lib/python3.10/dist-packages (from pylibcudf-cu12==24.10.*->cudf-polars-cu12->polars[gpu]) (0.2.10)\n",
      "Requirement already satisfied: packaging in /usr/local/lib/python3.10/dist-packages (from pylibcudf-cu12==24.10.*->cudf-polars-cu12->polars[gpu]) (24.1)\n",
      "Requirement already satisfied: pyarrow<18.0.0a0,>=14.0.0 in /usr/local/lib/python3.10/dist-packages (from pylibcudf-cu12==24.10.*->cudf-polars-cu12->polars[gpu]) (17.0.0)\n",
      "Requirement already satisfied: rmm-cu12==24.10.* in /usr/local/lib/python3.10/dist-packages (from pylibcudf-cu12==24.10.*->cudf-polars-cu12->polars[gpu]) (24.10.0)\n",
      "Requirement already satisfied: typing_extensions>=4.0.0 in /usr/local/lib/python3.10/dist-packages (from pylibcudf-cu12==24.10.*->cudf-polars-cu12->polars[gpu]) (4.12.2)\n",
      "Requirement already satisfied: numba>=0.57 in /usr/local/lib/python3.10/dist-packages (from rmm-cu12==24.10.*->pylibcudf-cu12==24.10.*->cudf-polars-cu12->polars[gpu]) (0.60.0)\n",
      "Requirement already satisfied: numpy<3.0a0,>=1.23 in /usr/local/lib/python3.10/dist-packages (from rmm-cu12==24.10.*->pylibcudf-cu12==24.10.*->cudf-polars-cu12->polars[gpu]) (1.26.4)\n",
      "Requirement already satisfied: cython in /usr/local/lib/python3.10/dist-packages (from cuda-python<13.0a0,>=12.0->pylibcudf-cu12==24.10.*->cudf-polars-cu12->polars[gpu]) (3.0.11)\n",
      "Requirement already satisfied: llvmlite<0.44,>=0.43.0dev0 in /usr/local/lib/python3.10/dist-packages (from numba>=0.57->rmm-cu12==24.10.*->pylibcudf-cu12==24.10.*->cudf-polars-cu12->polars[gpu]) (0.43.0)\n",
      "Downloading polars-1.8.2-cp38-abi3-manylinux_2_17_x86_64.manylinux2014_x86_64.whl (32.5 MB)\n",
      "\u001b[2K   \u001b[90m━━━━━━━━━━━━━━━━━━━━━━━━━━━━━━━━━━━━━━━━\u001b[0m \u001b[32m32.5/32.5 MB\u001b[0m \u001b[31m61.6 MB/s\u001b[0m eta \u001b[36m0:00:00\u001b[0m\n",
      "\u001b[?25hBuilding wheels for collected packages: cudf-polars-cu12\n",
      "  Building wheel for cudf-polars-cu12 (pyproject.toml) ... \u001b[?25l\u001b[?25hdone\n",
      "  Created wheel for cudf-polars-cu12: filename=cudf_polars_cu12-24.10.1-py3-none-any.whl size=53357 sha256=3aeb03d20bbf944106c86e22714437316148c86f659d9e691bf2a11cccbae8f5\n",
      "  Stored in directory: /root/.cache/pip/wheels/0b/60/a0/e6aa0053e52d34019bf87cb78f0215e71499afd0ca060b43f5\n",
      "Successfully built cudf-polars-cu12\n",
      "Installing collected packages: polars, cudf-polars-cu12\n",
      "  Attempting uninstall: polars\n",
      "    Found existing installation: polars 1.9.0\n",
      "    Uninstalling polars-1.9.0:\n",
      "      Successfully uninstalled polars-1.9.0\n",
      "Successfully installed cudf-polars-cu12-24.10.1 polars-1.8.2\n"
     ]
    }
   ],
   "source": [
    "!pip install polars[gpu] -U --extra-index-url=https://pypi.nvidia.com"
   ]
  },
  {
   "cell_type": "markdown",
   "metadata": {
    "id": "q8FyXMntiT0U"
   },
   "source": [
    "# CuPy"
   ]
  },
  {
   "cell_type": "code",
   "execution_count": null,
   "metadata": {
    "id": "DOydUV90hBEX"
   },
   "outputs": [],
   "source": [
    "import cupy as cp\n",
    "import numpy as np"
   ]
  },
  {
   "cell_type": "markdown",
   "metadata": {
    "id": "wirBqVpkgUXO"
   },
   "source": [
    "user - время, затраченное на сами вычисления\n",
    "\n",
    "sys - время, затраченное всеми процессорами на выполнение связанных с системой задач, таких как выделение памяти, например."
   ]
  },
  {
   "cell_type": "code",
   "execution_count": null,
   "metadata": {
    "execution": {
     "iopub.execute_input": "2023-05-10T09:06:28.506743Z",
     "iopub.status.busy": "2023-05-10T09:06:28.506166Z",
     "iopub.status.idle": "2023-05-10T09:06:29.332673Z",
     "shell.execute_reply": "2023-05-10T09:06:29.331707Z",
     "shell.execute_reply.started": "2023-05-10T09:06:28.506711Z"
    },
    "id": "PV-KGIhQgUXQ",
    "tags": []
   },
   "outputs": [],
   "source": [
    "np_array = np.random.random_sample(5000000)\n",
    "cp_array = cp.random.random_sample(5000000)"
   ]
  },
  {
   "cell_type": "code",
   "execution_count": null,
   "metadata": {
    "colab": {
     "base_uri": "https://localhost:8080/"
    },
    "execution": {
     "iopub.execute_input": "2023-05-10T09:06:29.359492Z",
     "iopub.status.busy": "2023-05-10T09:06:29.359102Z",
     "iopub.status.idle": "2023-05-10T09:06:29.383203Z",
     "shell.execute_reply": "2023-05-10T09:06:29.382617Z",
     "shell.execute_reply.started": "2023-05-10T09:06:29.359465Z"
    },
    "id": "fN2rSxOKgUXQ",
    "outputId": "78c2c43e-7b1e-4b32-f026-aafd2de7f750",
    "tags": []
   },
   "outputs": [
    {
     "name": "stdout",
     "output_type": "stream",
     "text": [
      "CPU times: user 4.32 ms, sys: 0 ns, total: 4.32 ms\n",
      "Wall time: 26 ms\n"
     ]
    },
    {
     "data": {
      "text/plain": [
       "0.49999160483001964"
      ]
     },
     "execution_count": 3,
     "metadata": {},
     "output_type": "execute_result"
    }
   ],
   "source": [
    "%time np_array.mean()"
   ]
  },
  {
   "cell_type": "code",
   "execution_count": null,
   "metadata": {
    "colab": {
     "base_uri": "https://localhost:8080/"
    },
    "execution": {
     "iopub.execute_input": "2023-05-10T09:06:30.088798Z",
     "iopub.status.busy": "2023-05-10T09:06:30.088419Z",
     "iopub.status.idle": "2023-05-10T09:06:30.097381Z",
     "shell.execute_reply": "2023-05-10T09:06:30.096604Z",
     "shell.execute_reply.started": "2023-05-10T09:06:30.088772Z"
    },
    "id": "B6weTi4JgUXQ",
    "outputId": "bf0e8151-c68e-4f69-9087-5785abee987d",
    "tags": []
   },
   "outputs": [
    {
     "name": "stdout",
     "output_type": "stream",
     "text": [
      "CPU times: user 4.68 ms, sys: 0 ns, total: 4.68 ms\n",
      "Wall time: 5.98 ms\n"
     ]
    },
    {
     "data": {
      "text/plain": [
       "2499958.024150098"
      ]
     },
     "execution_count": 7,
     "metadata": {},
     "output_type": "execute_result"
    }
   ],
   "source": [
    "%time np_array.sum()"
   ]
  },
  {
   "cell_type": "code",
   "execution_count": null,
   "metadata": {
    "colab": {
     "base_uri": "https://localhost:8080/"
    },
    "execution": {
     "iopub.execute_input": "2023-05-10T09:07:08.214299Z",
     "iopub.status.busy": "2023-05-10T09:07:08.213924Z",
     "iopub.status.idle": "2023-05-10T09:07:08.223061Z",
     "shell.execute_reply": "2023-05-10T09:07:08.222518Z",
     "shell.execute_reply.started": "2023-05-10T09:07:08.214275Z"
    },
    "id": "fdiWq7gngUXQ",
    "outputId": "d924d88e-e34c-4e5d-8ce2-4f5f2f0f60ee",
    "tags": []
   },
   "outputs": [
    {
     "name": "stdout",
     "output_type": "stream",
     "text": [
      "CPU times: user 297 µs, sys: 65 µs, total: 362 µs\n",
      "Wall time: 369 µs\n"
     ]
    },
    {
     "data": {
      "text/plain": [
       "array(0.50024896)"
      ]
     },
     "execution_count": 10,
     "metadata": {},
     "output_type": "execute_result"
    }
   ],
   "source": [
    "%time cp_array.mean()"
   ]
  },
  {
   "cell_type": "code",
   "execution_count": null,
   "metadata": {
    "colab": {
     "base_uri": "https://localhost:8080/"
    },
    "execution": {
     "iopub.execute_input": "2023-05-10T09:07:08.851099Z",
     "iopub.status.busy": "2023-05-10T09:07:08.850710Z",
     "iopub.status.idle": "2023-05-10T09:07:08.859971Z",
     "shell.execute_reply": "2023-05-10T09:07:08.859456Z",
     "shell.execute_reply.started": "2023-05-10T09:07:08.851074Z"
    },
    "id": "kFGVVVylgUXQ",
    "outputId": "707d1df7-2962-4398-9c35-c813206e84f1",
    "tags": []
   },
   "outputs": [
    {
     "name": "stdout",
     "output_type": "stream",
     "text": [
      "CPU times: user 157 µs, sys: 35 µs, total: 192 µs\n",
      "Wall time: 197 µs\n"
     ]
    },
    {
     "data": {
      "text/plain": [
       "array(2501244.77937832)"
      ]
     },
     "execution_count": 13,
     "metadata": {},
     "output_type": "execute_result"
    }
   ],
   "source": [
    "%time cp_array.sum()"
   ]
  },
  {
   "cell_type": "code",
   "execution_count": null,
   "metadata": {
    "execution": {
     "iopub.execute_input": "2023-05-10T09:07:10.763263Z",
     "iopub.status.busy": "2023-05-10T09:07:10.762677Z",
     "iopub.status.idle": "2023-05-10T09:07:10.766570Z",
     "shell.execute_reply": "2023-05-10T09:07:10.765987Z",
     "shell.execute_reply.started": "2023-05-10T09:07:10.763239Z"
    },
    "id": "SG8tb8MhgUXR",
    "tags": []
   },
   "outputs": [],
   "source": [
    "def logistic_numpy(y):\n",
    "    return 1 / (1 + np.exp(-y))\n",
    "\n",
    "def logistic_cupy(y):\n",
    "    return 1 / (1 + cp.exp(-y))"
   ]
  },
  {
   "cell_type": "code",
   "execution_count": null,
   "metadata": {
    "colab": {
     "base_uri": "https://localhost:8080/"
    },
    "execution": {
     "iopub.execute_input": "2023-05-10T09:07:13.857504Z",
     "iopub.status.busy": "2023-05-10T09:07:13.857131Z",
     "iopub.status.idle": "2023-05-10T09:07:13.916328Z",
     "shell.execute_reply": "2023-05-10T09:07:13.915722Z",
     "shell.execute_reply.started": "2023-05-10T09:07:13.857480Z"
    },
    "id": "pt8MZNUAgUXR",
    "outputId": "3fc0fed8-c6a7-4f8a-d56f-38aee6832525",
    "tags": []
   },
   "outputs": [
    {
     "name": "stdout",
     "output_type": "stream",
     "text": [
      "CPU times: user 33.8 ms, sys: 34.5 ms, total: 68.3 ms\n",
      "Wall time: 69.5 ms\n"
     ]
    },
    {
     "data": {
      "text/plain": [
       "array([0.63178449, 0.71441524, 0.53638437, ..., 0.50976298, 0.54514983,\n",
       "       0.68429492])"
      ]
     },
     "execution_count": 15,
     "metadata": {},
     "output_type": "execute_result"
    }
   ],
   "source": [
    "%time logistic_numpy(np_array)"
   ]
  },
  {
   "cell_type": "code",
   "execution_count": null,
   "metadata": {
    "colab": {
     "base_uri": "https://localhost:8080/"
    },
    "execution": {
     "iopub.execute_input": "2023-05-10T09:07:18.621969Z",
     "iopub.status.busy": "2023-05-10T09:07:18.621394Z",
     "iopub.status.idle": "2023-05-10T09:07:18.876160Z",
     "shell.execute_reply": "2023-05-10T09:07:18.875565Z",
     "shell.execute_reply.started": "2023-05-10T09:07:18.621929Z"
    },
    "id": "oBb1DCAkgUXR",
    "outputId": "e24935a6-082a-4c48-d666-ea6822ac1cd0",
    "tags": []
   },
   "outputs": [
    {
     "name": "stdout",
     "output_type": "stream",
     "text": [
      "CPU times: user 840 µs, sys: 0 ns, total: 840 µs\n",
      "Wall time: 849 µs\n"
     ]
    },
    {
     "data": {
      "text/plain": [
       "array([0.62305803, 0.71623883, 0.59466664, ..., 0.69513482, 0.50154361,\n",
       "       0.61914303])"
      ]
     },
     "execution_count": 17,
     "metadata": {},
     "output_type": "execute_result"
    }
   ],
   "source": [
    "%time logistic_cupy(cp_array)"
   ]
  },
  {
   "cell_type": "markdown",
   "metadata": {
    "id": "3_A3vUR1gUXR"
   },
   "source": [
    "А можно ли написать такую функцию, чтобы она при наличии numpy массива использовала CPU, а при наличии cupy GPU?"
   ]
  },
  {
   "cell_type": "code",
   "execution_count": null,
   "metadata": {
    "execution": {
     "iopub.execute_input": "2023-05-10T09:07:24.620897Z",
     "iopub.status.busy": "2023-05-10T09:07:24.620492Z",
     "iopub.status.idle": "2023-05-10T09:07:24.625039Z",
     "shell.execute_reply": "2023-05-10T09:07:24.624370Z",
     "shell.execute_reply.started": "2023-05-10T09:07:24.620869Z"
    },
    "id": "8kZmNxlmgUXS",
    "tags": []
   },
   "outputs": [],
   "source": [
    "def univers_logistic(y):\n",
    "    yp = cp.get_array_module(y)\n",
    "    return 1 / (1 + yp.exp(y))\n",
    "\n",
    "def universe_dot(x, y):\n",
    "    xp = cp.get_array_module(y)\n",
    "    return xp.dot(x, y)"
   ]
  },
  {
   "cell_type": "code",
   "execution_count": null,
   "metadata": {
    "colab": {
     "base_uri": "https://localhost:8080/"
    },
    "execution": {
     "iopub.execute_input": "2023-05-10T09:07:25.912967Z",
     "iopub.status.busy": "2023-05-10T09:07:25.912258Z",
     "iopub.status.idle": "2023-05-10T09:07:25.958278Z",
     "shell.execute_reply": "2023-05-10T09:07:25.957724Z",
     "shell.execute_reply.started": "2023-05-10T09:07:25.912925Z"
    },
    "id": "4Ym_H-OVgUXS",
    "outputId": "c27c086d-36ca-4459-b257-5308cb3082e3",
    "tags": []
   },
   "outputs": [
    {
     "name": "stdout",
     "output_type": "stream",
     "text": [
      "CPU times: user 47 ms, sys: 11.6 ms, total: 58.5 ms\n",
      "Wall time: 57.6 ms\n"
     ]
    },
    {
     "data": {
      "text/plain": [
       "array([0.36821551, 0.28558476, 0.46361563, ..., 0.49023702, 0.45485017,\n",
       "       0.31570508])"
      ]
     },
     "execution_count": 22,
     "metadata": {},
     "output_type": "execute_result"
    }
   ],
   "source": [
    "%time univers_logistic(np_array)"
   ]
  },
  {
   "cell_type": "code",
   "execution_count": null,
   "metadata": {
    "colab": {
     "base_uri": "https://localhost:8080/"
    },
    "execution": {
     "iopub.execute_input": "2023-05-10T09:07:28.855816Z",
     "iopub.status.busy": "2023-05-10T09:07:28.855431Z",
     "iopub.status.idle": "2023-05-10T09:07:28.877244Z",
     "shell.execute_reply": "2023-05-10T09:07:28.876716Z",
     "shell.execute_reply.started": "2023-05-10T09:07:28.855791Z"
    },
    "id": "sfsmGYtigUXS",
    "outputId": "91faa180-1256-42df-fa10-bc7509c03547",
    "tags": []
   },
   "outputs": [
    {
     "name": "stdout",
     "output_type": "stream",
     "text": [
      "CPU times: user 280 µs, sys: 1.04 ms, total: 1.32 ms\n",
      "Wall time: 1.19 ms\n"
     ]
    },
    {
     "data": {
      "text/plain": [
       "array([0.37694197, 0.28376117, 0.40533336, ..., 0.30486518, 0.49845639,\n",
       "       0.38085697])"
      ]
     },
     "execution_count": 23,
     "metadata": {},
     "output_type": "execute_result"
    }
   ],
   "source": [
    "%time univers_logistic(cp_array)"
   ]
  },
  {
   "cell_type": "markdown",
   "metadata": {
    "id": "nEsKYajOgUXS"
   },
   "source": [
    "# Как переключать видеокарты?"
   ]
  },
  {
   "cell_type": "markdown",
   "metadata": {
    "id": "y3yboZhZgUXS"
   },
   "source": [
    "Глобальное переключение"
   ]
  },
  {
   "cell_type": "code",
   "execution_count": null,
   "metadata": {
    "colab": {
     "base_uri": "https://localhost:8080/"
    },
    "execution": {
     "iopub.execute_input": "2023-05-10T09:07:33.328752Z",
     "iopub.status.busy": "2023-05-10T09:07:33.328374Z",
     "iopub.status.idle": "2023-05-10T09:07:33.332182Z",
     "shell.execute_reply": "2023-05-10T09:07:33.331492Z",
     "shell.execute_reply.started": "2023-05-10T09:07:33.328729Z"
    },
    "id": "g1LvjGbmgUXS",
    "outputId": "6748c3d1-711e-47be-b590-d3ddb6522bae",
    "tags": []
   },
   "outputs": [
    {
     "data": {
      "text/plain": [
       "<CUDA Device 0>"
      ]
     },
     "execution_count": 24,
     "metadata": {},
     "output_type": "execute_result"
    }
   ],
   "source": [
    "cp.cuda.Device(0).use()"
   ]
  },
  {
   "cell_type": "markdown",
   "metadata": {
    "id": "hpo4g6uxgUXS"
   },
   "source": [
    "Переключение в рамках контекстного менеджера"
   ]
  },
  {
   "cell_type": "code",
   "execution_count": null,
   "metadata": {
    "colab": {
     "base_uri": "https://localhost:8080/",
     "height": 339
    },
    "execution": {
     "iopub.execute_input": "2023-05-10T09:07:35.180381Z",
     "iopub.status.busy": "2023-05-10T09:07:35.180002Z",
     "iopub.status.idle": "2023-05-10T09:07:35.730406Z",
     "shell.execute_reply": "2023-05-10T09:07:35.729572Z",
     "shell.execute_reply.started": "2023-05-10T09:07:35.180357Z"
    },
    "id": "QidH03BAgUXS",
    "outputId": "99440641-ac36-4d85-d168-8e128fa935c3",
    "tags": []
   },
   "outputs": [
    {
     "ename": "CUDARuntimeError",
     "evalue": "cudaErrorInvalidDevice: invalid device ordinal",
     "output_type": "error",
     "traceback": [
      "\u001b[0;31m---------------------------------------------------------------------------\u001b[0m",
      "\u001b[0;31mCUDARuntimeError\u001b[0m                          Traceback (most recent call last)",
      "\u001b[0;32m<ipython-input-24-e70603cd0172>\u001b[0m in \u001b[0;36m<cell line: 3>\u001b[0;34m()\u001b[0m\n\u001b[1;32m      1\u001b[0m \u001b[0;32mwith\u001b[0m \u001b[0mcp\u001b[0m\u001b[0;34m.\u001b[0m\u001b[0mcuda\u001b[0m\u001b[0;34m.\u001b[0m\u001b[0mDevice\u001b[0m\u001b[0;34m(\u001b[0m\u001b[0;36m0\u001b[0m\u001b[0;34m)\u001b[0m\u001b[0;34m:\u001b[0m\u001b[0;34m\u001b[0m\u001b[0;34m\u001b[0m\u001b[0m\n\u001b[1;32m      2\u001b[0m     \u001b[0mgpu_0\u001b[0m \u001b[0;34m=\u001b[0m \u001b[0mcp\u001b[0m\u001b[0;34m.\u001b[0m\u001b[0marray\u001b[0m\u001b[0;34m(\u001b[0m\u001b[0;34m[\u001b[0m\u001b[0;36m1\u001b[0m\u001b[0;34m,\u001b[0m \u001b[0;36m2\u001b[0m\u001b[0;34m,\u001b[0m \u001b[0;36m3\u001b[0m\u001b[0;34m,\u001b[0m \u001b[0;36m4\u001b[0m\u001b[0;34m,\u001b[0m \u001b[0;36m5\u001b[0m\u001b[0;34m]\u001b[0m\u001b[0;34m)\u001b[0m\u001b[0;34m\u001b[0m\u001b[0;34m\u001b[0m\u001b[0m\n\u001b[0;32m----> 3\u001b[0;31m \u001b[0;32mwith\u001b[0m \u001b[0mcp\u001b[0m\u001b[0;34m.\u001b[0m\u001b[0mcuda\u001b[0m\u001b[0;34m.\u001b[0m\u001b[0mDevice\u001b[0m\u001b[0;34m(\u001b[0m\u001b[0;36m1\u001b[0m\u001b[0;34m)\u001b[0m\u001b[0;34m:\u001b[0m\u001b[0;34m\u001b[0m\u001b[0;34m\u001b[0m\u001b[0m\n\u001b[0m\u001b[1;32m      4\u001b[0m     \u001b[0mgpu_1\u001b[0m \u001b[0;34m=\u001b[0m \u001b[0mcp\u001b[0m\u001b[0;34m.\u001b[0m\u001b[0marray\u001b[0m\u001b[0;34m(\u001b[0m\u001b[0;34m[\u001b[0m\u001b[0;36m1\u001b[0m\u001b[0;34m,\u001b[0m \u001b[0;36m2\u001b[0m\u001b[0;34m,\u001b[0m \u001b[0;36m3\u001b[0m\u001b[0;34m,\u001b[0m \u001b[0;36m4\u001b[0m\u001b[0;34m,\u001b[0m \u001b[0;36m5\u001b[0m\u001b[0;34m]\u001b[0m\u001b[0;34m)\u001b[0m\u001b[0;34m\u001b[0m\u001b[0;34m\u001b[0m\u001b[0m\n\u001b[1;32m      5\u001b[0m \u001b[0;34m\u001b[0m\u001b[0m\n",
      "\u001b[0;32mcupy/cuda/device.pyx\u001b[0m in \u001b[0;36mcupy.cuda.device.Device.__enter__\u001b[0;34m()\u001b[0m\n",
      "\u001b[0;32mcupy_backends/cuda/api/runtime.pyx\u001b[0m in \u001b[0;36mcupy_backends.cuda.api.runtime.setDevice\u001b[0;34m()\u001b[0m\n",
      "\u001b[0;32mcupy_backends/cuda/api/runtime.pyx\u001b[0m in \u001b[0;36mcupy_backends.cuda.api.runtime.check_status\u001b[0;34m()\u001b[0m\n",
      "\u001b[0;31mCUDARuntimeError\u001b[0m: cudaErrorInvalidDevice: invalid device ordinal"
     ]
    }
   ],
   "source": [
    "with cp.cuda.Device(0):\n",
    "    gpu_0 = cp.array([1, 2, 3, 4, 5])\n",
    "with cp.cuda.Device(1):\n",
    "    gpu_1 = cp.array([1, 2, 3, 4, 5])\n",
    "\n",
    "print(f'gpu_0 device - {gpu_0.device}, gpu_1 device - {gpu_1.device}')"
   ]
  },
  {
   "cell_type": "markdown",
   "metadata": {
    "id": "kktcM_mJgUXT"
   },
   "source": [
    "Проводить операции с массивами на разных видеокартах напрямую нельзя"
   ]
  },
  {
   "cell_type": "code",
   "execution_count": null,
   "metadata": {
    "execution": {
     "iopub.execute_input": "2023-05-10T09:07:38.548710Z",
     "iopub.status.busy": "2023-05-10T09:07:38.548284Z",
     "iopub.status.idle": "2023-05-10T09:07:38.735747Z",
     "shell.execute_reply": "2023-05-10T09:07:38.735057Z",
     "shell.execute_reply.started": "2023-05-10T09:07:38.548684Z"
    },
    "id": "XPty3djjgUXT",
    "tags": []
   },
   "outputs": [],
   "source": [
    "gpu_0 + gpu_1"
   ]
  },
  {
   "cell_type": "code",
   "execution_count": null,
   "metadata": {
    "execution": {
     "iopub.execute_input": "2023-05-10T09:07:41.149824Z",
     "iopub.status.busy": "2023-05-10T09:07:41.149436Z",
     "iopub.status.idle": "2023-05-10T09:07:41.154136Z",
     "shell.execute_reply": "2023-05-10T09:07:41.153588Z",
     "shell.execute_reply.started": "2023-05-10T09:07:41.149799Z"
    },
    "id": "mZuUeNJdgUXT",
    "tags": []
   },
   "outputs": [],
   "source": [
    "gpu_1.device"
   ]
  },
  {
   "cell_type": "code",
   "execution_count": null,
   "metadata": {
    "execution": {
     "iopub.execute_input": "2023-05-10T09:07:42.131668Z",
     "iopub.status.busy": "2023-05-10T09:07:42.131124Z",
     "iopub.status.idle": "2023-05-10T09:07:42.343830Z",
     "shell.execute_reply": "2023-05-10T09:07:42.343288Z",
     "shell.execute_reply.started": "2023-05-10T09:07:42.131628Z"
    },
    "id": "7JI5hRl-gUXT",
    "tags": []
   },
   "outputs": [],
   "source": [
    "with cp.cuda.Device(0):\n",
    "    gpu_1 = cp.asarray(gpu_1)\n",
    "print(f'gpu_1 device - {gpu_1.device}')\n",
    "gpu_0 + gpu_1"
   ]
  },
  {
   "cell_type": "markdown",
   "metadata": {
    "id": "lwzGEfnhgUXT"
   },
   "source": [
    "# Передать массив между CPU и GPU"
   ]
  },
  {
   "cell_type": "code",
   "execution_count": null,
   "metadata": {
    "id": "Wi-QTlUZhCsy"
   },
   "outputs": [],
   "source": [
    "with cp.cuda.Device(0):\n",
    "    gpu_0 = cp.array([1, 2, 3, 4, 5])"
   ]
  },
  {
   "cell_type": "code",
   "execution_count": null,
   "metadata": {
    "colab": {
     "base_uri": "https://localhost:8080/"
    },
    "id": "yfNrySQ2g9EY",
    "outputId": "5084070a-9c1d-4a2c-e729-79ad19d4de7b"
   },
   "outputs": [
    {
     "data": {
      "text/plain": [
       "array([1, 2, 3, 4, 5])"
      ]
     },
     "execution_count": 26,
     "metadata": {},
     "output_type": "execute_result"
    }
   ],
   "source": [
    "gpu_0"
   ]
  },
  {
   "cell_type": "code",
   "execution_count": null,
   "metadata": {
    "execution": {
     "iopub.execute_input": "2023-05-10T09:07:45.533494Z",
     "iopub.status.busy": "2023-05-10T09:07:45.533115Z",
     "iopub.status.idle": "2023-05-10T09:07:45.536971Z",
     "shell.execute_reply": "2023-05-10T09:07:45.536261Z",
     "shell.execute_reply.started": "2023-05-10T09:07:45.533471Z"
    },
    "id": "p-UtQjycgUXT",
    "tags": []
   },
   "outputs": [],
   "source": [
    "#первый способ\n",
    "x_cpu = cp.asnumpy(gpu_0)"
   ]
  },
  {
   "cell_type": "code",
   "execution_count": null,
   "metadata": {
    "colab": {
     "base_uri": "https://localhost:8080/"
    },
    "execution": {
     "iopub.execute_input": "2023-05-10T09:07:46.215326Z",
     "iopub.status.busy": "2023-05-10T09:07:46.214929Z",
     "iopub.status.idle": "2023-05-10T09:07:46.219799Z",
     "shell.execute_reply": "2023-05-10T09:07:46.219183Z",
     "shell.execute_reply.started": "2023-05-10T09:07:46.215301Z"
    },
    "id": "gQWdYA29gUXT",
    "outputId": "05a154ba-1310-42af-c8ed-d8eb6a7bf347",
    "tags": []
   },
   "outputs": [
    {
     "data": {
      "text/plain": [
       "array([1, 2, 3, 4, 5])"
      ]
     },
     "execution_count": 28,
     "metadata": {},
     "output_type": "execute_result"
    }
   ],
   "source": [
    "x_cpu"
   ]
  },
  {
   "cell_type": "code",
   "execution_count": null,
   "metadata": {
    "execution": {
     "iopub.execute_input": "2023-05-10T09:07:46.880537Z",
     "iopub.status.busy": "2023-05-10T09:07:46.880151Z",
     "iopub.status.idle": "2023-05-10T09:07:46.883843Z",
     "shell.execute_reply": "2023-05-10T09:07:46.883225Z",
     "shell.execute_reply.started": "2023-05-10T09:07:46.880513Z"
    },
    "id": "KpGQ40-6gUXT",
    "tags": []
   },
   "outputs": [],
   "source": [
    "#второй способ\n",
    "x_cpu = gpu_0.get()"
   ]
  },
  {
   "cell_type": "code",
   "execution_count": null,
   "metadata": {
    "colab": {
     "base_uri": "https://localhost:8080/"
    },
    "execution": {
     "iopub.execute_input": "2023-05-10T09:07:47.404547Z",
     "iopub.status.busy": "2023-05-10T09:07:47.404157Z",
     "iopub.status.idle": "2023-05-10T09:07:47.409111Z",
     "shell.execute_reply": "2023-05-10T09:07:47.408529Z",
     "shell.execute_reply.started": "2023-05-10T09:07:47.404522Z"
    },
    "id": "opBpRuN7gUXT",
    "outputId": "af223bb0-d294-4d0f-e76c-caf330e601ac",
    "tags": []
   },
   "outputs": [
    {
     "data": {
      "text/plain": [
       "array([1, 2, 3, 4, 5])"
      ]
     },
     "execution_count": 30,
     "metadata": {},
     "output_type": "execute_result"
    }
   ],
   "source": [
    "x_cpu"
   ]
  },
  {
   "cell_type": "markdown",
   "metadata": {
    "id": "CI2QClEzgUXU"
   },
   "source": [
    "# Собственные kernel"
   ]
  },
  {
   "cell_type": "markdown",
   "metadata": {
    "id": "b7XXUCv8gUXU"
   },
   "source": [
    "Тип можно указать явно, но если все типы одинаковы и могут меняться, то указывается тип T, который будет определен компилятором"
   ]
  },
  {
   "cell_type": "code",
   "execution_count": null,
   "metadata": {
    "colab": {
     "base_uri": "https://localhost:8080/",
     "height": 244
    },
    "execution": {
     "iopub.execute_input": "2023-04-13T11:31:22.841042Z",
     "iopub.status.busy": "2023-04-13T11:31:22.840681Z",
     "iopub.status.idle": "2023-04-13T11:31:22.855283Z",
     "shell.execute_reply": "2023-04-13T11:31:22.854473Z",
     "shell.execute_reply.started": "2023-04-13T11:31:22.841019Z"
    },
    "id": "X-Ae3z1igUXU",
    "outputId": "85102896-6843-4aac-ff01-050c5eb20084",
    "tags": []
   },
   "outputs": [
    {
     "ename": "NameError",
     "evalue": "name 'cupy' is not defined",
     "output_type": "error",
     "traceback": [
      "\u001b[0;31m---------------------------------------------------------------------------\u001b[0m",
      "\u001b[0;31mNameError\u001b[0m                                 Traceback (most recent call last)",
      "\u001b[0;32m<ipython-input-37-caf0bc79d1b4>\u001b[0m in \u001b[0;36m<cell line: 1>\u001b[0;34m()\u001b[0m\n\u001b[0;32m----> 1\u001b[0;31m cupy.ElementwiseKernel(in_params, # входные параметры\n\u001b[0m\u001b[1;32m      2\u001b[0m                        \u001b[0mout_params\u001b[0m\u001b[0;34m,\u001b[0m \u001b[0;31m# выходные параметры\u001b[0m\u001b[0;34m\u001b[0m\u001b[0;34m\u001b[0m\u001b[0m\n\u001b[1;32m      3\u001b[0m                        \u001b[0moperation\u001b[0m\u001b[0;34m,\u001b[0m \u001b[0;31m# тело цикла, напианное на CUDA-C/C++\u001b[0m\u001b[0;34m\u001b[0m\u001b[0;34m\u001b[0m\u001b[0m\n\u001b[1;32m      4\u001b[0m                        \u001b[0mname\u001b[0m\u001b[0;34m=\u001b[0m\u001b[0;34mu'kernel'\u001b[0m\u001b[0;34m,\u001b[0m \u001b[0;31m# имя функции ядра\u001b[0m\u001b[0;34m\u001b[0m\u001b[0;34m\u001b[0m\u001b[0m\n\u001b[1;32m      5\u001b[0m                        \u001b[0mreduce_dims\u001b[0m\u001b[0;34m=\u001b[0m\u001b[0;32mTrue\u001b[0m\u001b[0;34m,\u001b[0m \u001b[0;31m# если False, то формы массивов сохраняются. Иначе размерности уменьшаются до минимума\u001b[0m\u001b[0;34m\u001b[0m\u001b[0;34m\u001b[0m\u001b[0m\n",
      "\u001b[0;31mNameError\u001b[0m: name 'cupy' is not defined"
     ]
    }
   ],
   "source": [
    "cupy.ElementwiseKernel(in_params, # входные параметры\n",
    "                       out_params, # выходные параметры\n",
    "                       operation, # тело цикла, напианное на CUDA-C/C++\n",
    "                       name=u'kernel', # имя функции ядра\n",
    "                       reduce_dims=True, # если False, то формы массивов сохраняются. Иначе размерности уменьшаются до минимума\n",
    "                                         # и это позволяет ускорять функции\n",
    "                       preamble=u'', # фрагмент кода CUDA-C / C++, вставляемый в верхнюю часть файла cu\n",
    "                       no_return=False, # метод __call__ ничего не возвращает если True\n",
    "                       return_tuple=False, # если True, то всегда возвращается tuple, даже если 1 елемент\n",
    "                       **kwargs)"
   ]
  },
  {
   "cell_type": "code",
   "execution_count": null,
   "metadata": {
    "execution": {
     "iopub.execute_input": "2023-05-10T09:07:50.621432Z",
     "iopub.status.busy": "2023-05-10T09:07:50.621077Z",
     "iopub.status.idle": "2023-05-10T09:07:50.624848Z",
     "shell.execute_reply": "2023-05-10T09:07:50.624270Z",
     "shell.execute_reply.started": "2023-05-10T09:07:50.621411Z"
    },
    "id": "ytA9x-PWgUXU",
    "tags": []
   },
   "outputs": [],
   "source": [
    "squared_diff = cp.ElementwiseKernel(\n",
    "    in_params='float32 x, float32 y',\n",
    "    out_params='float32 z',\n",
    "    operation='z = (x - y) * (x - y)',\n",
    "    name='squared_diff')"
   ]
  },
  {
   "cell_type": "code",
   "execution_count": null,
   "metadata": {
    "colab": {
     "base_uri": "https://localhost:8080/"
    },
    "execution": {
     "iopub.execute_input": "2023-05-10T09:07:51.243603Z",
     "iopub.status.busy": "2023-05-10T09:07:51.243217Z",
     "iopub.status.idle": "2023-05-10T09:07:51.665002Z",
     "shell.execute_reply": "2023-05-10T09:07:51.664422Z",
     "shell.execute_reply.started": "2023-05-10T09:07:51.243579Z"
    },
    "id": "-lkpsrGzgUXU",
    "outputId": "ddbc4449-0b5b-4b0b-bad1-ceefad4545d9",
    "tags": []
   },
   "outputs": [
    {
     "data": {
      "text/plain": [
       "array([[25., 16.,  9.,  4.,  1.],\n",
       "       [ 0.,  1.,  4.,  9., 16.]], dtype=float32)"
      ]
     },
     "execution_count": 32,
     "metadata": {},
     "output_type": "execute_result"
    }
   ],
   "source": [
    "x = cp.arange(10, dtype=np.float32).reshape(2, 5)\n",
    "squared_diff(x, 5)"
   ]
  },
  {
   "cell_type": "code",
   "execution_count": null,
   "metadata": {
    "colab": {
     "base_uri": "https://localhost:8080/"
    },
    "execution": {
     "iopub.execute_input": "2023-05-10T09:07:54.169229Z",
     "iopub.status.busy": "2023-05-10T09:07:54.168823Z",
     "iopub.status.idle": "2023-05-10T09:07:54.174699Z",
     "shell.execute_reply": "2023-05-10T09:07:54.174135Z",
     "shell.execute_reply.started": "2023-05-10T09:07:54.169205Z"
    },
    "id": "j6lJQn8-gUXU",
    "outputId": "ddf93830-b7f5-4002-c011-dc8b0aef24d5",
    "tags": []
   },
   "outputs": [
    {
     "data": {
      "text/plain": [
       "array([[25., 16.,  9.,  4.,  1.],\n",
       "       [ 0.,  1.,  4.,  9., 16.]], dtype=float32)"
      ]
     },
     "execution_count": 33,
     "metadata": {},
     "output_type": "execute_result"
    }
   ],
   "source": [
    "#Можно передать массив, в который записывается результат\n",
    "z = cp.empty((2, 5), dtype=np.float32)\n",
    "squared_diff(x, 5, z)"
   ]
  },
  {
   "cell_type": "code",
   "execution_count": null,
   "metadata": {
    "execution": {
     "iopub.execute_input": "2023-04-18T12:12:47.861357Z",
     "iopub.status.busy": "2023-04-18T12:12:47.861015Z",
     "iopub.status.idle": "2023-04-18T12:12:47.873847Z",
     "shell.execute_reply": "2023-04-18T12:12:47.873259Z",
     "shell.execute_reply.started": "2023-04-18T12:12:47.861339Z"
    },
    "id": "twp6izkggUXU",
    "tags": []
   },
   "outputs": [],
   "source": [
    "cupy.ReductionKernel(in_params, # входные параметры\n",
    "                     out_params, # выходные параметры\n",
    "                     map_expr, # map операция для входных значений\n",
    "                     reduce_expr, # reduce операция для входных значений\n",
    "                     post_map_expr, # map операция для взначений после reduce операции\n",
    "                     identity, #значение идентификатора для начала reduce операций\n",
    "                     name=u'reduce_kernel',\n",
    "                     reduce_type=None,\n",
    "                     reduce_dims=True,\n",
    "                     preamble=u'',\n",
    "                     options=() # дополнительные опции для компиляции\n",
    "                    )"
   ]
  },
  {
   "cell_type": "code",
   "execution_count": null,
   "metadata": {
    "colab": {
     "base_uri": "https://localhost:8080/"
    },
    "execution": {
     "iopub.execute_input": "2023-05-10T09:07:59.456700Z",
     "iopub.status.busy": "2023-05-10T09:07:59.456315Z",
     "iopub.status.idle": "2023-05-10T09:07:59.676444Z",
     "shell.execute_reply": "2023-05-10T09:07:59.675859Z",
     "shell.execute_reply.started": "2023-05-10T09:07:59.456676Z"
    },
    "id": "wVArTiO8gUXU",
    "outputId": "41b27200-3963-4af5-f008-dbf04760217f",
    "tags": []
   },
   "outputs": [
    {
     "data": {
      "text/plain": [
       "array([ 5.477226 , 15.9687195], dtype=float32)"
      ]
     },
     "execution_count": 34,
     "metadata": {},
     "output_type": "execute_result"
    }
   ],
   "source": [
    "l2norm_kernel = cp.ReductionKernel(\n",
    "    'T x',  # input params\n",
    "    'T y',  # output params\n",
    "    'x * x',  # map\n",
    "    'a + b',  # reduce\n",
    "    'y = sqrt(a)',  # post-reduction map\n",
    "    '0',  # identity value\n",
    "    'l2norm'  # kernel name\n",
    ")\n",
    "x = cp.arange(10, dtype=np.float32).reshape(2, 5)\n",
    "l2norm_kernel(x, axis=1)"
   ]
  },
  {
   "cell_type": "markdown",
   "metadata": {
    "id": "JY7y2AFAgUXV"
   },
   "source": [
    "cp.RawKernel для кода на CUDA source code"
   ]
  },
  {
   "cell_type": "markdown",
   "metadata": {
    "id": "TJpJuP4NgUXV"
   },
   "source": [
    "ElementwiseKernel и ReductionKernel могут быть написаны проще через декоратор @cp.fuse()"
   ]
  },
  {
   "cell_type": "code",
   "execution_count": null,
   "metadata": {
    "colab": {
     "base_uri": "https://localhost:8080/"
    },
    "execution": {
     "iopub.execute_input": "2023-05-10T09:08:01.892013Z",
     "iopub.status.busy": "2023-05-10T09:08:01.891588Z",
     "iopub.status.idle": "2023-05-10T09:08:02.113959Z",
     "shell.execute_reply": "2023-05-10T09:08:02.113425Z",
     "shell.execute_reply.started": "2023-05-10T09:08:01.891986Z"
    },
    "id": "Wuc-zy2WgUXV",
    "outputId": "343df0b2-9067-41c0-d02b-c0a71f693824",
    "tags": []
   },
   "outputs": [
    {
     "data": {
      "text/plain": [
       "array([[25., 16.,  9.,  4.,  1.],\n",
       "       [ 0.,  1.,  4.,  9., 16.]], dtype=float32)"
      ]
     },
     "execution_count": 35,
     "metadata": {},
     "output_type": "execute_result"
    }
   ],
   "source": [
    "@cp.fuse()\n",
    "def squared_diff_dec(x, y):\n",
    "    return (x - y) * (x - y)\n",
    "\n",
    "squared_diff_dec(x, 5)"
   ]
  },
  {
   "cell_type": "code",
   "execution_count": null,
   "metadata": {
    "colab": {
     "base_uri": "https://localhost:8080/"
    },
    "execution": {
     "iopub.execute_input": "2023-05-10T09:08:04.061687Z",
     "iopub.status.busy": "2023-05-10T09:08:04.061310Z",
     "iopub.status.idle": "2023-05-10T09:08:04.335638Z",
     "shell.execute_reply": "2023-05-10T09:08:04.335046Z",
     "shell.execute_reply.started": "2023-05-10T09:08:04.061664Z"
    },
    "id": "MJZoZyspgUXd",
    "outputId": "9068deb1-b0fd-4924-ae59-ec199478b951",
    "tags": []
   },
   "outputs": [
    {
     "data": {
      "text/plain": [
       "array([ 5.477226 , 15.9687195], dtype=float32)"
      ]
     },
     "execution_count": 36,
     "metadata": {},
     "output_type": "execute_result"
    }
   ],
   "source": [
    "@cp.fuse()\n",
    "def l2norm_dec(x):\n",
    "    return cp.sqrt(cp.sum(cp.power(x, 2), axis=1))\n",
    "\n",
    "l2norm_dec(x)"
   ]
  },
  {
   "cell_type": "code",
   "execution_count": null,
   "metadata": {
    "colab": {
     "base_uri": "https://localhost:8080/"
    },
    "execution": {
     "iopub.execute_input": "2023-05-10T09:08:06.219519Z",
     "iopub.status.busy": "2023-05-10T09:08:06.219142Z",
     "iopub.status.idle": "2023-05-10T09:08:13.345735Z",
     "shell.execute_reply": "2023-05-10T09:08:13.344836Z",
     "shell.execute_reply.started": "2023-05-10T09:08:06.219497Z"
    },
    "id": "QW5zGGHkgUXd",
    "outputId": "96a65908-ddca-4493-a9bf-41974e07a111",
    "tags": []
   },
   "outputs": [
    {
     "name": "stdout",
     "output_type": "stream",
     "text": [
      "15.7 µs ± 2.05 µs per loop (mean ± std. dev. of 7 runs, 100000 loops each)\n"
     ]
    }
   ],
   "source": [
    "%timeit squared_diff(x, 5)"
   ]
  },
  {
   "cell_type": "code",
   "execution_count": null,
   "metadata": {
    "colab": {
     "base_uri": "https://localhost:8080/"
    },
    "execution": {
     "iopub.execute_input": "2023-05-10T09:08:21.591060Z",
     "iopub.status.busy": "2023-05-10T09:08:21.590622Z",
     "iopub.status.idle": "2023-05-10T09:08:21.991867Z",
     "shell.execute_reply": "2023-05-10T09:08:21.991172Z",
     "shell.execute_reply.started": "2023-05-10T09:08:21.591034Z"
    },
    "id": "zJBWdggagUXd",
    "outputId": "8b6b087b-fff8-4ff6-c820-f779ff26e59f",
    "tags": []
   },
   "outputs": [
    {
     "name": "stdout",
     "output_type": "stream",
     "text": [
      "98.3 µs ± 47.3 µs per loop (mean ± std. dev. of 7 runs, 1 loop each)\n"
     ]
    }
   ],
   "source": [
    "%timeit (x - 5) * (x - 5)"
   ]
  },
  {
   "cell_type": "code",
   "execution_count": null,
   "metadata": {
    "colab": {
     "base_uri": "https://localhost:8080/"
    },
    "execution": {
     "iopub.execute_input": "2023-05-10T09:08:34.197696Z",
     "iopub.status.busy": "2023-05-10T09:08:34.197330Z",
     "iopub.status.idle": "2023-05-10T09:08:42.329915Z",
     "shell.execute_reply": "2023-05-10T09:08:42.329222Z",
     "shell.execute_reply.started": "2023-05-10T09:08:34.197673Z"
    },
    "id": "cMBqpJd7gUXd",
    "outputId": "62de6950-f17f-4848-b65f-b1a95d69560f",
    "tags": []
   },
   "outputs": [
    {
     "name": "stdout",
     "output_type": "stream",
     "text": [
      "17.7 µs ± 1.98 µs per loop (mean ± std. dev. of 7 runs, 100000 loops each)\n"
     ]
    }
   ],
   "source": [
    "%timeit squared_diff_dec(x, 5)"
   ]
  },
  {
   "cell_type": "code",
   "execution_count": null,
   "metadata": {
    "colab": {
     "base_uri": "https://localhost:8080/"
    },
    "execution": {
     "iopub.execute_input": "2023-05-10T09:08:45.205271Z",
     "iopub.status.busy": "2023-05-10T09:08:45.204832Z",
     "iopub.status.idle": "2023-05-10T09:08:55.598652Z",
     "shell.execute_reply": "2023-05-10T09:08:55.597968Z",
     "shell.execute_reply.started": "2023-05-10T09:08:45.205245Z"
    },
    "id": "5qz3Nf3ogUXd",
    "outputId": "933e4e47-fb95-411a-bda3-0502d7f5a66c",
    "tags": []
   },
   "outputs": [
    {
     "name": "stdout",
     "output_type": "stream",
     "text": [
      "23 µs ± 1.01 µs per loop (mean ± std. dev. of 7 runs, 10000 loops each)\n"
     ]
    }
   ],
   "source": [
    "%timeit l2norm_kernel(x, axis=1)"
   ]
  },
  {
   "cell_type": "code",
   "execution_count": null,
   "metadata": {
    "colab": {
     "base_uri": "https://localhost:8080/"
    },
    "execution": {
     "iopub.execute_input": "2023-05-10T09:09:00.529169Z",
     "iopub.status.busy": "2023-05-10T09:09:00.528767Z",
     "iopub.status.idle": "2023-05-10T09:09:01.129143Z",
     "shell.execute_reply": "2023-05-10T09:09:01.128489Z",
     "shell.execute_reply.started": "2023-05-10T09:09:00.529146Z"
    },
    "id": "fNXm-CFZgUXe",
    "outputId": "215ddf50-dbd5-4773-a455-44a80ac07e9d",
    "tags": []
   },
   "outputs": [
    {
     "name": "stdout",
     "output_type": "stream",
     "text": [
      "68.1 µs ± 926 ns per loop (mean ± std. dev. of 7 runs, 10000 loops each)\n"
     ]
    }
   ],
   "source": [
    "%timeit cp.sqrt(cp.sum(cp.power(x, 2), axis=1))"
   ]
  },
  {
   "cell_type": "code",
   "execution_count": null,
   "metadata": {
    "colab": {
     "base_uri": "https://localhost:8080/"
    },
    "execution": {
     "iopub.execute_input": "2023-05-10T09:09:01.552905Z",
     "iopub.status.busy": "2023-05-10T09:09:01.552526Z",
     "iopub.status.idle": "2023-05-10T09:09:12.900963Z",
     "shell.execute_reply": "2023-05-10T09:09:12.900381Z",
     "shell.execute_reply.started": "2023-05-10T09:09:01.552881Z"
    },
    "id": "-_GZem9AgUXe",
    "outputId": "220ead74-0a31-4551-a786-23b35c16350b",
    "tags": []
   },
   "outputs": [
    {
     "name": "stdout",
     "output_type": "stream",
     "text": [
      "26.4 µs ± 1.88 µs per loop (mean ± std. dev. of 7 runs, 10000 loops each)\n"
     ]
    }
   ],
   "source": [
    "%timeit l2norm_dec(x)"
   ]
  },
  {
   "cell_type": "markdown",
   "metadata": {
    "id": "sT8LUcB3k4BT"
   },
   "source": [
    "# CuDF"
   ]
  },
  {
   "cell_type": "code",
   "execution_count": null,
   "metadata": {
    "id": "bX8dacFnhsqX"
   },
   "outputs": [],
   "source": [
    "import cudf\n",
    "import cupy as cp\n",
    "\n",
    "import pandas as pd\n",
    "import numpy as np"
   ]
  },
  {
   "cell_type": "markdown",
   "metadata": {
    "id": "WtwMQQhFhv4m"
   },
   "source": [
    "О датасете:\n",
    "    \n",
    "База данных системы эпиднадзора за случаями заболевания COVID-19 включает данные, сообщаемые штатами США и автономными отчетными органами, включая Нью-Йорк и округ Колумбия (округ Колумбия).\n",
    "\n",
    "https://www.kaggle.com/arashnic/covid19-case-surveillance-public-use-dataset\n",
    "\n",
    "current_status - текущий статус человека, sex - пол, age_group - возростная группа, Race and ethnicity (combined) - демографическая группа, hosp_yn - был ли пациент госпитализирован, icu_yn - был ли пациент госпитализирован в отделение интенсивной терапии,\n",
    "death_yn - умер ли пациент от болезни, medcond_yn - были ли какие-то сопутствующие заболевания или риск-факторы?"
   ]
  },
  {
   "cell_type": "code",
   "execution_count": null,
   "metadata": {
    "colab": {
     "base_uri": "https://localhost:8080/"
    },
    "id": "NCeRUAmsh2c5",
    "outputId": "b37e5114-63e6-4bbe-db03-e1ecf7c1435e"
   },
   "outputs": [
    {
     "name": "stdout",
     "output_type": "stream",
     "text": [
      "CPU times: user 3.21 s, sys: 1.16 s, total: 4.37 s\n",
      "Wall time: 4.05 s\n"
     ]
    }
   ],
   "source": [
    "%time df = pd.read_parquet('covid.gzip')"
   ]
  },
  {
   "cell_type": "code",
   "execution_count": null,
   "metadata": {
    "colab": {
     "base_uri": "https://localhost:8080/",
     "height": 424
    },
    "id": "mO0Gc6n4iQ5l",
    "outputId": "37bde481-eb61-45f4-cc8a-a34fe7a3e616"
   },
   "outputs": [
    {
     "data": {
      "application/vnd.google.colaboratory.intrinsic+json": {
       "type": "dataframe",
       "variable_name": "df"
      },
      "text/html": [
       "\n",
       "  <div id=\"df-14fc94c3-8ef3-4f01-8641-d0ca6a46c1a8\" class=\"colab-df-container\">\n",
       "    <div>\n",
       "<style scoped>\n",
       "    .dataframe tbody tr th:only-of-type {\n",
       "        vertical-align: middle;\n",
       "    }\n",
       "\n",
       "    .dataframe tbody tr th {\n",
       "        vertical-align: top;\n",
       "    }\n",
       "\n",
       "    .dataframe thead th {\n",
       "        text-align: right;\n",
       "    }\n",
       "</style>\n",
       "<table border=\"1\" class=\"dataframe\">\n",
       "  <thead>\n",
       "    <tr style=\"text-align: right;\">\n",
       "      <th></th>\n",
       "      <th>current_status</th>\n",
       "      <th>sex</th>\n",
       "      <th>age_group</th>\n",
       "      <th>Race and ethnicity (combined)</th>\n",
       "      <th>hosp_yn</th>\n",
       "      <th>icu_yn</th>\n",
       "      <th>death_yn</th>\n",
       "      <th>medcond_yn</th>\n",
       "    </tr>\n",
       "  </thead>\n",
       "  <tbody>\n",
       "    <tr>\n",
       "      <th>0</th>\n",
       "      <td>Laboratory-confirmed case</td>\n",
       "      <td>Male</td>\n",
       "      <td>10 - 19 Years</td>\n",
       "      <td>Black, Non-Hispanic</td>\n",
       "      <td>No</td>\n",
       "      <td>Unknown</td>\n",
       "      <td>No</td>\n",
       "      <td>No</td>\n",
       "    </tr>\n",
       "    <tr>\n",
       "      <th>1</th>\n",
       "      <td>Laboratory-confirmed case</td>\n",
       "      <td>Male</td>\n",
       "      <td>10 - 19 Years</td>\n",
       "      <td>Black, Non-Hispanic</td>\n",
       "      <td>No</td>\n",
       "      <td>No</td>\n",
       "      <td>No</td>\n",
       "      <td>No</td>\n",
       "    </tr>\n",
       "    <tr>\n",
       "      <th>2</th>\n",
       "      <td>Laboratory-confirmed case</td>\n",
       "      <td>Male</td>\n",
       "      <td>10 - 19 Years</td>\n",
       "      <td>Black, Non-Hispanic</td>\n",
       "      <td>No</td>\n",
       "      <td>No</td>\n",
       "      <td>No</td>\n",
       "      <td>No</td>\n",
       "    </tr>\n",
       "    <tr>\n",
       "      <th>3</th>\n",
       "      <td>Laboratory-confirmed case</td>\n",
       "      <td>Male</td>\n",
       "      <td>10 - 19 Years</td>\n",
       "      <td>Black, Non-Hispanic</td>\n",
       "      <td>Missing</td>\n",
       "      <td>Missing</td>\n",
       "      <td>No</td>\n",
       "      <td>Missing</td>\n",
       "    </tr>\n",
       "    <tr>\n",
       "      <th>4</th>\n",
       "      <td>Laboratory-confirmed case</td>\n",
       "      <td>Male</td>\n",
       "      <td>10 - 19 Years</td>\n",
       "      <td>Black, Non-Hispanic</td>\n",
       "      <td>No</td>\n",
       "      <td>No</td>\n",
       "      <td>No</td>\n",
       "      <td>Yes</td>\n",
       "    </tr>\n",
       "    <tr>\n",
       "      <th>...</th>\n",
       "      <td>...</td>\n",
       "      <td>...</td>\n",
       "      <td>...</td>\n",
       "      <td>...</td>\n",
       "      <td>...</td>\n",
       "      <td>...</td>\n",
       "      <td>...</td>\n",
       "      <td>...</td>\n",
       "    </tr>\n",
       "    <tr>\n",
       "      <th>8405074</th>\n",
       "      <td>Probable Case</td>\n",
       "      <td>Missing</td>\n",
       "      <td>30 - 39 Years</td>\n",
       "      <td>Unknown</td>\n",
       "      <td>No</td>\n",
       "      <td>Unknown</td>\n",
       "      <td>No</td>\n",
       "      <td>Missing</td>\n",
       "    </tr>\n",
       "    <tr>\n",
       "      <th>8405075</th>\n",
       "      <td>Laboratory-confirmed case</td>\n",
       "      <td>Missing</td>\n",
       "      <td>30 - 39 Years</td>\n",
       "      <td>Unknown</td>\n",
       "      <td>Missing</td>\n",
       "      <td>Missing</td>\n",
       "      <td>Missing</td>\n",
       "      <td>Missing</td>\n",
       "    </tr>\n",
       "    <tr>\n",
       "      <th>8405076</th>\n",
       "      <td>Laboratory-confirmed case</td>\n",
       "      <td>Missing</td>\n",
       "      <td>30 - 39 Years</td>\n",
       "      <td>Unknown</td>\n",
       "      <td>Missing</td>\n",
       "      <td>Missing</td>\n",
       "      <td>Missing</td>\n",
       "      <td>Missing</td>\n",
       "    </tr>\n",
       "    <tr>\n",
       "      <th>8405077</th>\n",
       "      <td>Laboratory-confirmed case</td>\n",
       "      <td>Missing</td>\n",
       "      <td>30 - 39 Years</td>\n",
       "      <td>Unknown</td>\n",
       "      <td>Missing</td>\n",
       "      <td>Missing</td>\n",
       "      <td>Missing</td>\n",
       "      <td>Missing</td>\n",
       "    </tr>\n",
       "    <tr>\n",
       "      <th>8405078</th>\n",
       "      <td>Laboratory-confirmed case</td>\n",
       "      <td>Missing</td>\n",
       "      <td>30 - 39 Years</td>\n",
       "      <td>Unknown</td>\n",
       "      <td>No</td>\n",
       "      <td>Unknown</td>\n",
       "      <td>No</td>\n",
       "      <td>Missing</td>\n",
       "    </tr>\n",
       "  </tbody>\n",
       "</table>\n",
       "<p>8405079 rows × 8 columns</p>\n",
       "</div>\n",
       "    <div class=\"colab-df-buttons\">\n",
       "\n",
       "  <div class=\"colab-df-container\">\n",
       "    <button class=\"colab-df-convert\" onclick=\"convertToInteractive('df-14fc94c3-8ef3-4f01-8641-d0ca6a46c1a8')\"\n",
       "            title=\"Convert this dataframe to an interactive table.\"\n",
       "            style=\"display:none;\">\n",
       "\n",
       "  <svg xmlns=\"http://www.w3.org/2000/svg\" height=\"24px\" viewBox=\"0 -960 960 960\">\n",
       "    <path d=\"M120-120v-720h720v720H120Zm60-500h600v-160H180v160Zm220 220h160v-160H400v160Zm0 220h160v-160H400v160ZM180-400h160v-160H180v160Zm440 0h160v-160H620v160ZM180-180h160v-160H180v160Zm440 0h160v-160H620v160Z\"/>\n",
       "  </svg>\n",
       "    </button>\n",
       "\n",
       "  <style>\n",
       "    .colab-df-container {\n",
       "      display:flex;\n",
       "      gap: 12px;\n",
       "    }\n",
       "\n",
       "    .colab-df-convert {\n",
       "      background-color: #E8F0FE;\n",
       "      border: none;\n",
       "      border-radius: 50%;\n",
       "      cursor: pointer;\n",
       "      display: none;\n",
       "      fill: #1967D2;\n",
       "      height: 32px;\n",
       "      padding: 0 0 0 0;\n",
       "      width: 32px;\n",
       "    }\n",
       "\n",
       "    .colab-df-convert:hover {\n",
       "      background-color: #E2EBFA;\n",
       "      box-shadow: 0px 1px 2px rgba(60, 64, 67, 0.3), 0px 1px 3px 1px rgba(60, 64, 67, 0.15);\n",
       "      fill: #174EA6;\n",
       "    }\n",
       "\n",
       "    .colab-df-buttons div {\n",
       "      margin-bottom: 4px;\n",
       "    }\n",
       "\n",
       "    [theme=dark] .colab-df-convert {\n",
       "      background-color: #3B4455;\n",
       "      fill: #D2E3FC;\n",
       "    }\n",
       "\n",
       "    [theme=dark] .colab-df-convert:hover {\n",
       "      background-color: #434B5C;\n",
       "      box-shadow: 0px 1px 3px 1px rgba(0, 0, 0, 0.15);\n",
       "      filter: drop-shadow(0px 1px 2px rgba(0, 0, 0, 0.3));\n",
       "      fill: #FFFFFF;\n",
       "    }\n",
       "  </style>\n",
       "\n",
       "    <script>\n",
       "      const buttonEl =\n",
       "        document.querySelector('#df-14fc94c3-8ef3-4f01-8641-d0ca6a46c1a8 button.colab-df-convert');\n",
       "      buttonEl.style.display =\n",
       "        google.colab.kernel.accessAllowed ? 'block' : 'none';\n",
       "\n",
       "      async function convertToInteractive(key) {\n",
       "        const element = document.querySelector('#df-14fc94c3-8ef3-4f01-8641-d0ca6a46c1a8');\n",
       "        const dataTable =\n",
       "          await google.colab.kernel.invokeFunction('convertToInteractive',\n",
       "                                                    [key], {});\n",
       "        if (!dataTable) return;\n",
       "\n",
       "        const docLinkHtml = 'Like what you see? Visit the ' +\n",
       "          '<a target=\"_blank\" href=https://colab.research.google.com/notebooks/data_table.ipynb>data table notebook</a>'\n",
       "          + ' to learn more about interactive tables.';\n",
       "        element.innerHTML = '';\n",
       "        dataTable['output_type'] = 'display_data';\n",
       "        await google.colab.output.renderOutput(dataTable, element);\n",
       "        const docLink = document.createElement('div');\n",
       "        docLink.innerHTML = docLinkHtml;\n",
       "        element.appendChild(docLink);\n",
       "      }\n",
       "    </script>\n",
       "  </div>\n",
       "\n",
       "\n",
       "<div id=\"df-27d3be5b-aceb-4c37-b0dc-8c8fadc490f7\">\n",
       "  <button class=\"colab-df-quickchart\" onclick=\"quickchart('df-27d3be5b-aceb-4c37-b0dc-8c8fadc490f7')\"\n",
       "            title=\"Suggest charts\"\n",
       "            style=\"display:none;\">\n",
       "\n",
       "<svg xmlns=\"http://www.w3.org/2000/svg\" height=\"24px\"viewBox=\"0 0 24 24\"\n",
       "     width=\"24px\">\n",
       "    <g>\n",
       "        <path d=\"M19 3H5c-1.1 0-2 .9-2 2v14c0 1.1.9 2 2 2h14c1.1 0 2-.9 2-2V5c0-1.1-.9-2-2-2zM9 17H7v-7h2v7zm4 0h-2V7h2v10zm4 0h-2v-4h2v4z\"/>\n",
       "    </g>\n",
       "</svg>\n",
       "  </button>\n",
       "\n",
       "<style>\n",
       "  .colab-df-quickchart {\n",
       "      --bg-color: #E8F0FE;\n",
       "      --fill-color: #1967D2;\n",
       "      --hover-bg-color: #E2EBFA;\n",
       "      --hover-fill-color: #174EA6;\n",
       "      --disabled-fill-color: #AAA;\n",
       "      --disabled-bg-color: #DDD;\n",
       "  }\n",
       "\n",
       "  [theme=dark] .colab-df-quickchart {\n",
       "      --bg-color: #3B4455;\n",
       "      --fill-color: #D2E3FC;\n",
       "      --hover-bg-color: #434B5C;\n",
       "      --hover-fill-color: #FFFFFF;\n",
       "      --disabled-bg-color: #3B4455;\n",
       "      --disabled-fill-color: #666;\n",
       "  }\n",
       "\n",
       "  .colab-df-quickchart {\n",
       "    background-color: var(--bg-color);\n",
       "    border: none;\n",
       "    border-radius: 50%;\n",
       "    cursor: pointer;\n",
       "    display: none;\n",
       "    fill: var(--fill-color);\n",
       "    height: 32px;\n",
       "    padding: 0;\n",
       "    width: 32px;\n",
       "  }\n",
       "\n",
       "  .colab-df-quickchart:hover {\n",
       "    background-color: var(--hover-bg-color);\n",
       "    box-shadow: 0 1px 2px rgba(60, 64, 67, 0.3), 0 1px 3px 1px rgba(60, 64, 67, 0.15);\n",
       "    fill: var(--button-hover-fill-color);\n",
       "  }\n",
       "\n",
       "  .colab-df-quickchart-complete:disabled,\n",
       "  .colab-df-quickchart-complete:disabled:hover {\n",
       "    background-color: var(--disabled-bg-color);\n",
       "    fill: var(--disabled-fill-color);\n",
       "    box-shadow: none;\n",
       "  }\n",
       "\n",
       "  .colab-df-spinner {\n",
       "    border: 2px solid var(--fill-color);\n",
       "    border-color: transparent;\n",
       "    border-bottom-color: var(--fill-color);\n",
       "    animation:\n",
       "      spin 1s steps(1) infinite;\n",
       "  }\n",
       "\n",
       "  @keyframes spin {\n",
       "    0% {\n",
       "      border-color: transparent;\n",
       "      border-bottom-color: var(--fill-color);\n",
       "      border-left-color: var(--fill-color);\n",
       "    }\n",
       "    20% {\n",
       "      border-color: transparent;\n",
       "      border-left-color: var(--fill-color);\n",
       "      border-top-color: var(--fill-color);\n",
       "    }\n",
       "    30% {\n",
       "      border-color: transparent;\n",
       "      border-left-color: var(--fill-color);\n",
       "      border-top-color: var(--fill-color);\n",
       "      border-right-color: var(--fill-color);\n",
       "    }\n",
       "    40% {\n",
       "      border-color: transparent;\n",
       "      border-right-color: var(--fill-color);\n",
       "      border-top-color: var(--fill-color);\n",
       "    }\n",
       "    60% {\n",
       "      border-color: transparent;\n",
       "      border-right-color: var(--fill-color);\n",
       "    }\n",
       "    80% {\n",
       "      border-color: transparent;\n",
       "      border-right-color: var(--fill-color);\n",
       "      border-bottom-color: var(--fill-color);\n",
       "    }\n",
       "    90% {\n",
       "      border-color: transparent;\n",
       "      border-bottom-color: var(--fill-color);\n",
       "    }\n",
       "  }\n",
       "</style>\n",
       "\n",
       "  <script>\n",
       "    async function quickchart(key) {\n",
       "      const quickchartButtonEl =\n",
       "        document.querySelector('#' + key + ' button');\n",
       "      quickchartButtonEl.disabled = true;  // To prevent multiple clicks.\n",
       "      quickchartButtonEl.classList.add('colab-df-spinner');\n",
       "      try {\n",
       "        const charts = await google.colab.kernel.invokeFunction(\n",
       "            'suggestCharts', [key], {});\n",
       "      } catch (error) {\n",
       "        console.error('Error during call to suggestCharts:', error);\n",
       "      }\n",
       "      quickchartButtonEl.classList.remove('colab-df-spinner');\n",
       "      quickchartButtonEl.classList.add('colab-df-quickchart-complete');\n",
       "    }\n",
       "    (() => {\n",
       "      let quickchartButtonEl =\n",
       "        document.querySelector('#df-27d3be5b-aceb-4c37-b0dc-8c8fadc490f7 button');\n",
       "      quickchartButtonEl.style.display =\n",
       "        google.colab.kernel.accessAllowed ? 'block' : 'none';\n",
       "    })();\n",
       "  </script>\n",
       "</div>\n",
       "    </div>\n",
       "  </div>\n"
      ],
      "text/plain": [
       "                    current_status      sex      age_group  \\\n",
       "0        Laboratory-confirmed case     Male  10 - 19 Years   \n",
       "1        Laboratory-confirmed case     Male  10 - 19 Years   \n",
       "2        Laboratory-confirmed case     Male  10 - 19 Years   \n",
       "3        Laboratory-confirmed case     Male  10 - 19 Years   \n",
       "4        Laboratory-confirmed case     Male  10 - 19 Years   \n",
       "...                            ...      ...            ...   \n",
       "8405074              Probable Case  Missing  30 - 39 Years   \n",
       "8405075  Laboratory-confirmed case  Missing  30 - 39 Years   \n",
       "8405076  Laboratory-confirmed case  Missing  30 - 39 Years   \n",
       "8405077  Laboratory-confirmed case  Missing  30 - 39 Years   \n",
       "8405078  Laboratory-confirmed case  Missing  30 - 39 Years   \n",
       "\n",
       "        Race and ethnicity (combined)  hosp_yn   icu_yn death_yn medcond_yn  \n",
       "0                 Black, Non-Hispanic       No  Unknown       No         No  \n",
       "1                 Black, Non-Hispanic       No       No       No         No  \n",
       "2                 Black, Non-Hispanic       No       No       No         No  \n",
       "3                 Black, Non-Hispanic  Missing  Missing       No    Missing  \n",
       "4                 Black, Non-Hispanic       No       No       No        Yes  \n",
       "...                               ...      ...      ...      ...        ...  \n",
       "8405074                       Unknown       No  Unknown       No    Missing  \n",
       "8405075                       Unknown  Missing  Missing  Missing    Missing  \n",
       "8405076                       Unknown  Missing  Missing  Missing    Missing  \n",
       "8405077                       Unknown  Missing  Missing  Missing    Missing  \n",
       "8405078                       Unknown       No  Unknown       No    Missing  \n",
       "\n",
       "[8405079 rows x 8 columns]"
      ]
     },
     "execution_count": 47,
     "metadata": {},
     "output_type": "execute_result"
    }
   ],
   "source": [
    "df"
   ]
  },
  {
   "cell_type": "code",
   "execution_count": null,
   "metadata": {
    "colab": {
     "base_uri": "https://localhost:8080/",
     "height": 373
    },
    "id": "rwVF6YwAiUun",
    "outputId": "f8a5c820-d068-4ab9-8e53-c1cf02071a88"
   },
   "outputs": [
    {
     "name": "stdout",
     "output_type": "stream",
     "text": [
      "CPU times: user 2.63 s, sys: 18 ms, total: 2.64 s\n",
      "Wall time: 2.63 s\n"
     ]
    },
    {
     "data": {
      "text/html": [
       "<div>\n",
       "<style scoped>\n",
       "    .dataframe tbody tr th:only-of-type {\n",
       "        vertical-align: middle;\n",
       "    }\n",
       "\n",
       "    .dataframe tbody tr th {\n",
       "        vertical-align: top;\n",
       "    }\n",
       "\n",
       "    .dataframe thead th {\n",
       "        text-align: right;\n",
       "    }\n",
       "</style>\n",
       "<table border=\"1\" class=\"dataframe\">\n",
       "  <thead>\n",
       "    <tr style=\"text-align: right;\">\n",
       "      <th></th>\n",
       "      <th>0</th>\n",
       "    </tr>\n",
       "  </thead>\n",
       "  <tbody>\n",
       "    <tr>\n",
       "      <th>current_status</th>\n",
       "      <td>0</td>\n",
       "    </tr>\n",
       "    <tr>\n",
       "      <th>sex</th>\n",
       "      <td>18</td>\n",
       "    </tr>\n",
       "    <tr>\n",
       "      <th>age_group</th>\n",
       "      <td>89</td>\n",
       "    </tr>\n",
       "    <tr>\n",
       "      <th>Race and ethnicity (combined)</th>\n",
       "      <td>7</td>\n",
       "    </tr>\n",
       "    <tr>\n",
       "      <th>hosp_yn</th>\n",
       "      <td>0</td>\n",
       "    </tr>\n",
       "    <tr>\n",
       "      <th>icu_yn</th>\n",
       "      <td>0</td>\n",
       "    </tr>\n",
       "    <tr>\n",
       "      <th>death_yn</th>\n",
       "      <td>0</td>\n",
       "    </tr>\n",
       "    <tr>\n",
       "      <th>medcond_yn</th>\n",
       "      <td>0</td>\n",
       "    </tr>\n",
       "  </tbody>\n",
       "</table>\n",
       "</div><br><label><b>dtype:</b> int64</label>"
      ],
      "text/plain": [
       "current_status                    0\n",
       "sex                              18\n",
       "age_group                        89\n",
       "Race and ethnicity (combined)     7\n",
       "hosp_yn                           0\n",
       "icu_yn                            0\n",
       "death_yn                          0\n",
       "medcond_yn                        0\n",
       "dtype: int64"
      ]
     },
     "execution_count": 49,
     "metadata": {},
     "output_type": "execute_result"
    }
   ],
   "source": [
    "%time df.isna().sum()"
   ]
  },
  {
   "cell_type": "code",
   "execution_count": null,
   "metadata": {
    "colab": {
     "base_uri": "https://localhost:8080/"
    },
    "id": "jNpV2SQJiXAK",
    "outputId": "a1ff48c7-ba1e-457e-fd71-8ed28ac5e629"
   },
   "outputs": [
    {
     "name": "stdout",
     "output_type": "stream",
     "text": [
      "CPU times: user 3.02 s, sys: 318 ms, total: 3.34 s\n",
      "Wall time: 3.33 s\n"
     ]
    }
   ],
   "source": [
    "%time df = df.dropna()"
   ]
  },
  {
   "cell_type": "markdown",
   "metadata": {
    "id": "knvlLrsMibBe"
   },
   "source": [
    "Из-за сложного управления памятью GPU в cuDF первая загрузка данных в новую среду памяти RAPIDS иногда значительно медленнее, чем последующие загрузки. Диспетчер памяти RAPIDS готовит дополнительную память для размещения массивов, которые вы можете использовать с данными, вместо того чтобы многократно выделять и освобождать память на протяжении всего рабочего процесса.\n",
    "Другими словами, как и в большинсвте случаев, память надо \"прогреть\"."
   ]
  },
  {
   "cell_type": "code",
   "execution_count": null,
   "metadata": {
    "colab": {
     "base_uri": "https://localhost:8080/"
    },
    "id": "WB5mEr3YifTo",
    "outputId": "549b193f-863d-4ae4-e365-1d82f03090a1"
   },
   "outputs": [
    {
     "name": "stdout",
     "output_type": "stream",
     "text": [
      "CPU times: user 389 ms, sys: 7.38 ms, total: 396 ms\n",
      "Wall time: 406 ms\n"
     ]
    }
   ],
   "source": [
    "%time gdf = cudf.read_parquet('covid.gzip')"
   ]
  },
  {
   "cell_type": "code",
   "execution_count": null,
   "metadata": {
    "colab": {
     "base_uri": "https://localhost:8080/"
    },
    "id": "PUoKxM_oii6I",
    "outputId": "b7e40299-3aa3-43d1-8c15-a5dd46173ae1"
   },
   "outputs": [
    {
     "name": "stdout",
     "output_type": "stream",
     "text": [
      "CPU times: user 11.3 ms, sys: 2.03 ms, total: 13.4 ms\n",
      "Wall time: 12.4 ms\n"
     ]
    },
    {
     "data": {
      "text/plain": [
       "current_status                    0\n",
       "sex                              18\n",
       "age_group                        89\n",
       "Race and ethnicity (combined)     7\n",
       "hosp_yn                           0\n",
       "icu_yn                            0\n",
       "death_yn                          0\n",
       "medcond_yn                        0\n",
       "dtype: int64"
      ]
     },
     "execution_count": 56,
     "metadata": {},
     "output_type": "execute_result"
    }
   ],
   "source": [
    "%time gdf.isna().sum()"
   ]
  },
  {
   "cell_type": "code",
   "execution_count": null,
   "metadata": {
    "colab": {
     "base_uri": "https://localhost:8080/"
    },
    "id": "edtHsOs5imFQ",
    "outputId": "65ceb17f-2830-4c6c-a95d-68c75fab8f10"
   },
   "outputs": [
    {
     "name": "stdout",
     "output_type": "stream",
     "text": [
      "CPU times: user 10.9 ms, sys: 2.99 ms, total: 13.9 ms\n",
      "Wall time: 13 ms\n"
     ]
    }
   ],
   "source": [
    "%time gdf = gdf.dropna()"
   ]
  },
  {
   "cell_type": "code",
   "execution_count": null,
   "metadata": {
    "colab": {
     "base_uri": "https://localhost:8080/",
     "height": 424
    },
    "id": "i4FtlPoLione",
    "outputId": "4dd4e570-7d82-42aa-b599-84dc724624a0"
   },
   "outputs": [
    {
     "data": {
      "text/html": [
       "<div>\n",
       "<style scoped>\n",
       "    .dataframe tbody tr th:only-of-type {\n",
       "        vertical-align: middle;\n",
       "    }\n",
       "\n",
       "    .dataframe tbody tr th {\n",
       "        vertical-align: top;\n",
       "    }\n",
       "\n",
       "    .dataframe thead th {\n",
       "        text-align: right;\n",
       "    }\n",
       "</style>\n",
       "<table border=\"1\" class=\"dataframe\">\n",
       "  <thead>\n",
       "    <tr style=\"text-align: right;\">\n",
       "      <th></th>\n",
       "      <th>current_status</th>\n",
       "      <th>sex</th>\n",
       "      <th>age_group</th>\n",
       "      <th>Race and ethnicity (combined)</th>\n",
       "      <th>hosp_yn</th>\n",
       "      <th>icu_yn</th>\n",
       "      <th>death_yn</th>\n",
       "      <th>medcond_yn</th>\n",
       "    </tr>\n",
       "  </thead>\n",
       "  <tbody>\n",
       "    <tr>\n",
       "      <th>0</th>\n",
       "      <td>Laboratory-confirmed case</td>\n",
       "      <td>Male</td>\n",
       "      <td>10 - 19 Years</td>\n",
       "      <td>Black, Non-Hispanic</td>\n",
       "      <td>No</td>\n",
       "      <td>Unknown</td>\n",
       "      <td>No</td>\n",
       "      <td>No</td>\n",
       "    </tr>\n",
       "    <tr>\n",
       "      <th>1</th>\n",
       "      <td>Laboratory-confirmed case</td>\n",
       "      <td>Male</td>\n",
       "      <td>10 - 19 Years</td>\n",
       "      <td>Black, Non-Hispanic</td>\n",
       "      <td>No</td>\n",
       "      <td>No</td>\n",
       "      <td>No</td>\n",
       "      <td>No</td>\n",
       "    </tr>\n",
       "    <tr>\n",
       "      <th>2</th>\n",
       "      <td>Laboratory-confirmed case</td>\n",
       "      <td>Male</td>\n",
       "      <td>10 - 19 Years</td>\n",
       "      <td>Black, Non-Hispanic</td>\n",
       "      <td>No</td>\n",
       "      <td>No</td>\n",
       "      <td>No</td>\n",
       "      <td>No</td>\n",
       "    </tr>\n",
       "    <tr>\n",
       "      <th>3</th>\n",
       "      <td>Laboratory-confirmed case</td>\n",
       "      <td>Male</td>\n",
       "      <td>10 - 19 Years</td>\n",
       "      <td>Black, Non-Hispanic</td>\n",
       "      <td>Missing</td>\n",
       "      <td>Missing</td>\n",
       "      <td>No</td>\n",
       "      <td>Missing</td>\n",
       "    </tr>\n",
       "    <tr>\n",
       "      <th>4</th>\n",
       "      <td>Laboratory-confirmed case</td>\n",
       "      <td>Male</td>\n",
       "      <td>10 - 19 Years</td>\n",
       "      <td>Black, Non-Hispanic</td>\n",
       "      <td>No</td>\n",
       "      <td>No</td>\n",
       "      <td>No</td>\n",
       "      <td>Yes</td>\n",
       "    </tr>\n",
       "    <tr>\n",
       "      <th>...</th>\n",
       "      <td>...</td>\n",
       "      <td>...</td>\n",
       "      <td>...</td>\n",
       "      <td>...</td>\n",
       "      <td>...</td>\n",
       "      <td>...</td>\n",
       "      <td>...</td>\n",
       "      <td>...</td>\n",
       "    </tr>\n",
       "    <tr>\n",
       "      <th>8405074</th>\n",
       "      <td>Probable Case</td>\n",
       "      <td>Missing</td>\n",
       "      <td>30 - 39 Years</td>\n",
       "      <td>Unknown</td>\n",
       "      <td>No</td>\n",
       "      <td>Unknown</td>\n",
       "      <td>No</td>\n",
       "      <td>Missing</td>\n",
       "    </tr>\n",
       "    <tr>\n",
       "      <th>8405075</th>\n",
       "      <td>Laboratory-confirmed case</td>\n",
       "      <td>Missing</td>\n",
       "      <td>30 - 39 Years</td>\n",
       "      <td>Unknown</td>\n",
       "      <td>Missing</td>\n",
       "      <td>Missing</td>\n",
       "      <td>Missing</td>\n",
       "      <td>Missing</td>\n",
       "    </tr>\n",
       "    <tr>\n",
       "      <th>8405076</th>\n",
       "      <td>Laboratory-confirmed case</td>\n",
       "      <td>Missing</td>\n",
       "      <td>30 - 39 Years</td>\n",
       "      <td>Unknown</td>\n",
       "      <td>Missing</td>\n",
       "      <td>Missing</td>\n",
       "      <td>Missing</td>\n",
       "      <td>Missing</td>\n",
       "    </tr>\n",
       "    <tr>\n",
       "      <th>8405077</th>\n",
       "      <td>Laboratory-confirmed case</td>\n",
       "      <td>Missing</td>\n",
       "      <td>30 - 39 Years</td>\n",
       "      <td>Unknown</td>\n",
       "      <td>Missing</td>\n",
       "      <td>Missing</td>\n",
       "      <td>Missing</td>\n",
       "      <td>Missing</td>\n",
       "    </tr>\n",
       "    <tr>\n",
       "      <th>8405078</th>\n",
       "      <td>Laboratory-confirmed case</td>\n",
       "      <td>Missing</td>\n",
       "      <td>30 - 39 Years</td>\n",
       "      <td>Unknown</td>\n",
       "      <td>No</td>\n",
       "      <td>Unknown</td>\n",
       "      <td>No</td>\n",
       "      <td>Missing</td>\n",
       "    </tr>\n",
       "  </tbody>\n",
       "</table>\n",
       "<p>8404990 rows × 8 columns</p>\n",
       "</div>"
      ],
      "text/plain": [
       "                    current_status      sex      age_group  \\\n",
       "0        Laboratory-confirmed case     Male  10 - 19 Years   \n",
       "1        Laboratory-confirmed case     Male  10 - 19 Years   \n",
       "2        Laboratory-confirmed case     Male  10 - 19 Years   \n",
       "3        Laboratory-confirmed case     Male  10 - 19 Years   \n",
       "4        Laboratory-confirmed case     Male  10 - 19 Years   \n",
       "...                            ...      ...            ...   \n",
       "8405074              Probable Case  Missing  30 - 39 Years   \n",
       "8405075  Laboratory-confirmed case  Missing  30 - 39 Years   \n",
       "8405076  Laboratory-confirmed case  Missing  30 - 39 Years   \n",
       "8405077  Laboratory-confirmed case  Missing  30 - 39 Years   \n",
       "8405078  Laboratory-confirmed case  Missing  30 - 39 Years   \n",
       "\n",
       "        Race and ethnicity (combined)  hosp_yn   icu_yn death_yn medcond_yn  \n",
       "0                 Black, Non-Hispanic       No  Unknown       No         No  \n",
       "1                 Black, Non-Hispanic       No       No       No         No  \n",
       "2                 Black, Non-Hispanic       No       No       No         No  \n",
       "3                 Black, Non-Hispanic  Missing  Missing       No    Missing  \n",
       "4                 Black, Non-Hispanic       No       No       No        Yes  \n",
       "...                               ...      ...      ...      ...        ...  \n",
       "8405074                       Unknown       No  Unknown       No    Missing  \n",
       "8405075                       Unknown  Missing  Missing  Missing    Missing  \n",
       "8405076                       Unknown  Missing  Missing  Missing    Missing  \n",
       "8405077                       Unknown  Missing  Missing  Missing    Missing  \n",
       "8405078                       Unknown       No  Unknown       No    Missing  \n",
       "\n",
       "[8404990 rows x 8 columns]"
      ]
     },
     "execution_count": 59,
     "metadata": {},
     "output_type": "execute_result"
    }
   ],
   "source": [
    "gdf"
   ]
  },
  {
   "cell_type": "markdown",
   "metadata": {
    "id": "-7QNp2SEiq2g"
   },
   "source": [
    "Давайте измерим время фильтрации датасета. Большая часть времени тратится на выполнение системных операций, таких как выделение памяти, например. А вот само время, затраченное на вычисления очень мало."
   ]
  },
  {
   "cell_type": "code",
   "execution_count": null,
   "metadata": {
    "colab": {
     "base_uri": "https://localhost:8080/"
    },
    "id": "FcJSeoQbix6S",
    "outputId": "c1294b4c-d31d-48ca-9052-e9796c586e09"
   },
   "outputs": [
    {
     "name": "stdout",
     "output_type": "stream",
     "text": [
      "CPU times: user 776 ms, sys: 116 ms, total: 892 ms\n",
      "Wall time: 873 ms\n"
     ]
    }
   ],
   "source": [
    "%time male_df = df.loc[df['sex']=='Male']"
   ]
  },
  {
   "cell_type": "code",
   "execution_count": null,
   "metadata": {
    "colab": {
     "base_uri": "https://localhost:8080/"
    },
    "id": "dj-iuk4hi2zi",
    "outputId": "87d8dd5c-09a8-4872-da45-3cfd013cf1e7"
   },
   "outputs": [
    {
     "name": "stdout",
     "output_type": "stream",
     "text": [
      "CPU times: user 49.3 ms, sys: 9.12 ms, total: 58.5 ms\n",
      "Wall time: 99.2 ms\n"
     ]
    }
   ],
   "source": [
    "%time male_gdf = gdf.loc[gdf['sex']=='Male']"
   ]
  },
  {
   "cell_type": "markdown",
   "metadata": {
    "id": "z5jHM01ki6Vh"
   },
   "source": [
    "А теперь давайте посмотрим на то, как распределены данные по возрастам"
   ]
  },
  {
   "cell_type": "code",
   "execution_count": null,
   "metadata": {
    "colab": {
     "base_uri": "https://localhost:8080/",
     "height": 467
    },
    "id": "rCn9r-nxi8Z2",
    "outputId": "04b3a27e-5b09-4c40-f371-7e4e6697a64b"
   },
   "outputs": [
    {
     "name": "stdout",
     "output_type": "stream",
     "text": [
      "CPU times: user 411 ms, sys: 3.55 ms, total: 414 ms\n",
      "Wall time: 408 ms\n"
     ]
    },
    {
     "data": {
      "text/html": [
       "<div>\n",
       "<style scoped>\n",
       "    .dataframe tbody tr th:only-of-type {\n",
       "        vertical-align: middle;\n",
       "    }\n",
       "\n",
       "    .dataframe tbody tr th {\n",
       "        vertical-align: top;\n",
       "    }\n",
       "\n",
       "    .dataframe thead th {\n",
       "        text-align: right;\n",
       "    }\n",
       "</style>\n",
       "<table border=\"1\" class=\"dataframe\">\n",
       "  <thead>\n",
       "    <tr style=\"text-align: right;\">\n",
       "      <th></th>\n",
       "      <th>proportion</th>\n",
       "    </tr>\n",
       "    <tr>\n",
       "      <th>age_group</th>\n",
       "      <th></th>\n",
       "    </tr>\n",
       "  </thead>\n",
       "  <tbody>\n",
       "    <tr>\n",
       "      <th>20 - 29 Years</th>\n",
       "      <td>0.194559</td>\n",
       "    </tr>\n",
       "    <tr>\n",
       "      <th>30 - 39 Years</th>\n",
       "      <td>0.163310</td>\n",
       "    </tr>\n",
       "    <tr>\n",
       "      <th>40 - 49 Years</th>\n",
       "      <td>0.150785</td>\n",
       "    </tr>\n",
       "    <tr>\n",
       "      <th>50 - 59 Years</th>\n",
       "      <td>0.146043</td>\n",
       "    </tr>\n",
       "    <tr>\n",
       "      <th>60 - 69 Years</th>\n",
       "      <td>0.102708</td>\n",
       "    </tr>\n",
       "    <tr>\n",
       "      <th>10 - 19 Years</th>\n",
       "      <td>0.100113</td>\n",
       "    </tr>\n",
       "    <tr>\n",
       "      <th>70 - 79 Years</th>\n",
       "      <td>0.057548</td>\n",
       "    </tr>\n",
       "    <tr>\n",
       "      <th>80+ Years</th>\n",
       "      <td>0.045553</td>\n",
       "    </tr>\n",
       "    <tr>\n",
       "      <th>0 - 9 Years</th>\n",
       "      <td>0.035579</td>\n",
       "    </tr>\n",
       "    <tr>\n",
       "      <th>Unknown</th>\n",
       "      <td>0.003802</td>\n",
       "    </tr>\n",
       "  </tbody>\n",
       "</table>\n",
       "</div><br><label><b>dtype:</b> float64</label>"
      ],
      "text/plain": [
       "age_group\n",
       "20 - 29 Years    0.194559\n",
       "30 - 39 Years    0.163310\n",
       "40 - 49 Years    0.150785\n",
       "50 - 59 Years    0.146043\n",
       "60 - 69 Years    0.102708\n",
       "10 - 19 Years    0.100113\n",
       "70 - 79 Years    0.057548\n",
       "80+ Years        0.045553\n",
       "0 - 9 Years      0.035579\n",
       "Unknown          0.003802\n",
       "Name: proportion, dtype: float64"
      ]
     },
     "execution_count": 65,
     "metadata": {},
     "output_type": "execute_result"
    }
   ],
   "source": [
    "%time df['age_group'].value_counts(normalize=True)"
   ]
  },
  {
   "cell_type": "code",
   "execution_count": null,
   "metadata": {
    "colab": {
     "base_uri": "https://localhost:8080/"
    },
    "id": "G3SEs-Jyi-Tj",
    "outputId": "57849fa8-3631-4cf4-a872-c8883eef9d50"
   },
   "outputs": [
    {
     "name": "stdout",
     "output_type": "stream",
     "text": [
      "CPU times: user 18.9 ms, sys: 4.1 ms, total: 23 ms\n",
      "Wall time: 22 ms\n"
     ]
    },
    {
     "data": {
      "text/plain": [
       "age_group\n",
       "20 - 29 Years    0.194559\n",
       "30 - 39 Years    0.163310\n",
       "40 - 49 Years    0.150785\n",
       "50 - 59 Years    0.146043\n",
       "60 - 69 Years    0.102708\n",
       "10 - 19 Years    0.100113\n",
       "70 - 79 Years    0.057548\n",
       "80+ Years        0.045553\n",
       "0 - 9 Years      0.035579\n",
       "Unknown          0.003802\n",
       "Name: proportion, dtype: float64"
      ]
     },
     "execution_count": 67,
     "metadata": {},
     "output_type": "execute_result"
    }
   ],
   "source": [
    "%time gdf['age_group'].value_counts(normalize=True)"
   ]
  },
  {
   "cell_type": "markdown",
   "metadata": {
    "id": "1rzs4C6TjDfc"
   },
   "source": [
    "А как сочетать в себе cupy и cudf?"
   ]
  },
  {
   "cell_type": "code",
   "execution_count": null,
   "metadata": {
    "colab": {
     "base_uri": "https://localhost:8080/"
    },
    "id": "veKDFulfjC6f",
    "outputId": "de2129b1-f067-4dd3-d23d-2ec9bed19be0"
   },
   "outputs": [
    {
     "name": "stdout",
     "output_type": "stream",
     "text": [
      "CPU times: user 4.13 s, sys: 116 ms, total: 4.25 s\n",
      "Wall time: 4.16 s\n"
     ]
    }
   ],
   "source": [
    "%time non_hisp_30_df = df.loc[np.logical_and(df['Race and ethnicity (combined)'].str.endswith('Non-Hispanic'),\\\n",
    "                                             df['age_group'].str.startswith('30'))]"
   ]
  },
  {
   "cell_type": "code",
   "execution_count": null,
   "metadata": {
    "colab": {
     "base_uri": "https://localhost:8080/"
    },
    "id": "UHyrUC_hjKZ5",
    "outputId": "ebe092ba-f23f-4af7-886d-abd9f9ec8b68"
   },
   "outputs": [
    {
     "name": "stdout",
     "output_type": "stream",
     "text": [
      "CPU times: user 19.4 ms, sys: 2.97 ms, total: 22.3 ms\n",
      "Wall time: 22.3 ms\n"
     ]
    }
   ],
   "source": [
    "%time non_hisp_30_gdf = gdf.loc[cp.logical_and(gdf['Race and ethnicity (combined)'].str.endswith('Non-Hispanic'),\\\n",
    "                                               gdf['age_group'].str.startswith('30'))]"
   ]
  },
  {
   "cell_type": "markdown",
   "metadata": {
    "id": "0nzm-_PijRtG"
   },
   "source": [
    "Группировка данных"
   ]
  },
  {
   "cell_type": "code",
   "execution_count": null,
   "metadata": {
    "colab": {
     "base_uri": "https://localhost:8080/",
     "height": 424
    },
    "id": "V-KbGqIajSOo",
    "outputId": "6f682ec4-d96c-4132-931d-b419946885c0"
   },
   "outputs": [
    {
     "data": {
      "application/vnd.google.colaboratory.intrinsic+json": {
       "type": "dataframe",
       "variable_name": "df"
      },
      "text/html": [
       "\n",
       "  <div id=\"df-f66522f2-0e70-4168-86cc-3e5bef385a6e\" class=\"colab-df-container\">\n",
       "    <div>\n",
       "<style scoped>\n",
       "    .dataframe tbody tr th:only-of-type {\n",
       "        vertical-align: middle;\n",
       "    }\n",
       "\n",
       "    .dataframe tbody tr th {\n",
       "        vertical-align: top;\n",
       "    }\n",
       "\n",
       "    .dataframe thead th {\n",
       "        text-align: right;\n",
       "    }\n",
       "</style>\n",
       "<table border=\"1\" class=\"dataframe\">\n",
       "  <thead>\n",
       "    <tr style=\"text-align: right;\">\n",
       "      <th></th>\n",
       "      <th>current_status</th>\n",
       "      <th>sex</th>\n",
       "      <th>age_group</th>\n",
       "      <th>Race and ethnicity (combined)</th>\n",
       "      <th>hosp_yn</th>\n",
       "      <th>icu_yn</th>\n",
       "      <th>death_yn</th>\n",
       "      <th>medcond_yn</th>\n",
       "    </tr>\n",
       "  </thead>\n",
       "  <tbody>\n",
       "    <tr>\n",
       "      <th>0</th>\n",
       "      <td>Laboratory-confirmed case</td>\n",
       "      <td>Male</td>\n",
       "      <td>10 - 19 Years</td>\n",
       "      <td>Black, Non-Hispanic</td>\n",
       "      <td>No</td>\n",
       "      <td>Unknown</td>\n",
       "      <td>No</td>\n",
       "      <td>No</td>\n",
       "    </tr>\n",
       "    <tr>\n",
       "      <th>1</th>\n",
       "      <td>Laboratory-confirmed case</td>\n",
       "      <td>Male</td>\n",
       "      <td>10 - 19 Years</td>\n",
       "      <td>Black, Non-Hispanic</td>\n",
       "      <td>No</td>\n",
       "      <td>No</td>\n",
       "      <td>No</td>\n",
       "      <td>No</td>\n",
       "    </tr>\n",
       "    <tr>\n",
       "      <th>2</th>\n",
       "      <td>Laboratory-confirmed case</td>\n",
       "      <td>Male</td>\n",
       "      <td>10 - 19 Years</td>\n",
       "      <td>Black, Non-Hispanic</td>\n",
       "      <td>No</td>\n",
       "      <td>No</td>\n",
       "      <td>No</td>\n",
       "      <td>No</td>\n",
       "    </tr>\n",
       "    <tr>\n",
       "      <th>3</th>\n",
       "      <td>Laboratory-confirmed case</td>\n",
       "      <td>Male</td>\n",
       "      <td>10 - 19 Years</td>\n",
       "      <td>Black, Non-Hispanic</td>\n",
       "      <td>Missing</td>\n",
       "      <td>Missing</td>\n",
       "      <td>No</td>\n",
       "      <td>Missing</td>\n",
       "    </tr>\n",
       "    <tr>\n",
       "      <th>4</th>\n",
       "      <td>Laboratory-confirmed case</td>\n",
       "      <td>Male</td>\n",
       "      <td>10 - 19 Years</td>\n",
       "      <td>Black, Non-Hispanic</td>\n",
       "      <td>No</td>\n",
       "      <td>No</td>\n",
       "      <td>No</td>\n",
       "      <td>Yes</td>\n",
       "    </tr>\n",
       "    <tr>\n",
       "      <th>...</th>\n",
       "      <td>...</td>\n",
       "      <td>...</td>\n",
       "      <td>...</td>\n",
       "      <td>...</td>\n",
       "      <td>...</td>\n",
       "      <td>...</td>\n",
       "      <td>...</td>\n",
       "      <td>...</td>\n",
       "    </tr>\n",
       "    <tr>\n",
       "      <th>8405074</th>\n",
       "      <td>Probable Case</td>\n",
       "      <td>Missing</td>\n",
       "      <td>30 - 39 Years</td>\n",
       "      <td>Unknown</td>\n",
       "      <td>No</td>\n",
       "      <td>Unknown</td>\n",
       "      <td>No</td>\n",
       "      <td>Missing</td>\n",
       "    </tr>\n",
       "    <tr>\n",
       "      <th>8405075</th>\n",
       "      <td>Laboratory-confirmed case</td>\n",
       "      <td>Missing</td>\n",
       "      <td>30 - 39 Years</td>\n",
       "      <td>Unknown</td>\n",
       "      <td>Missing</td>\n",
       "      <td>Missing</td>\n",
       "      <td>Missing</td>\n",
       "      <td>Missing</td>\n",
       "    </tr>\n",
       "    <tr>\n",
       "      <th>8405076</th>\n",
       "      <td>Laboratory-confirmed case</td>\n",
       "      <td>Missing</td>\n",
       "      <td>30 - 39 Years</td>\n",
       "      <td>Unknown</td>\n",
       "      <td>Missing</td>\n",
       "      <td>Missing</td>\n",
       "      <td>Missing</td>\n",
       "      <td>Missing</td>\n",
       "    </tr>\n",
       "    <tr>\n",
       "      <th>8405077</th>\n",
       "      <td>Laboratory-confirmed case</td>\n",
       "      <td>Missing</td>\n",
       "      <td>30 - 39 Years</td>\n",
       "      <td>Unknown</td>\n",
       "      <td>Missing</td>\n",
       "      <td>Missing</td>\n",
       "      <td>Missing</td>\n",
       "      <td>Missing</td>\n",
       "    </tr>\n",
       "    <tr>\n",
       "      <th>8405078</th>\n",
       "      <td>Laboratory-confirmed case</td>\n",
       "      <td>Missing</td>\n",
       "      <td>30 - 39 Years</td>\n",
       "      <td>Unknown</td>\n",
       "      <td>No</td>\n",
       "      <td>Unknown</td>\n",
       "      <td>No</td>\n",
       "      <td>Missing</td>\n",
       "    </tr>\n",
       "  </tbody>\n",
       "</table>\n",
       "<p>8404990 rows × 8 columns</p>\n",
       "</div>\n",
       "    <div class=\"colab-df-buttons\">\n",
       "\n",
       "  <div class=\"colab-df-container\">\n",
       "    <button class=\"colab-df-convert\" onclick=\"convertToInteractive('df-f66522f2-0e70-4168-86cc-3e5bef385a6e')\"\n",
       "            title=\"Convert this dataframe to an interactive table.\"\n",
       "            style=\"display:none;\">\n",
       "\n",
       "  <svg xmlns=\"http://www.w3.org/2000/svg\" height=\"24px\" viewBox=\"0 -960 960 960\">\n",
       "    <path d=\"M120-120v-720h720v720H120Zm60-500h600v-160H180v160Zm220 220h160v-160H400v160Zm0 220h160v-160H400v160ZM180-400h160v-160H180v160Zm440 0h160v-160H620v160ZM180-180h160v-160H180v160Zm440 0h160v-160H620v160Z\"/>\n",
       "  </svg>\n",
       "    </button>\n",
       "\n",
       "  <style>\n",
       "    .colab-df-container {\n",
       "      display:flex;\n",
       "      gap: 12px;\n",
       "    }\n",
       "\n",
       "    .colab-df-convert {\n",
       "      background-color: #E8F0FE;\n",
       "      border: none;\n",
       "      border-radius: 50%;\n",
       "      cursor: pointer;\n",
       "      display: none;\n",
       "      fill: #1967D2;\n",
       "      height: 32px;\n",
       "      padding: 0 0 0 0;\n",
       "      width: 32px;\n",
       "    }\n",
       "\n",
       "    .colab-df-convert:hover {\n",
       "      background-color: #E2EBFA;\n",
       "      box-shadow: 0px 1px 2px rgba(60, 64, 67, 0.3), 0px 1px 3px 1px rgba(60, 64, 67, 0.15);\n",
       "      fill: #174EA6;\n",
       "    }\n",
       "\n",
       "    .colab-df-buttons div {\n",
       "      margin-bottom: 4px;\n",
       "    }\n",
       "\n",
       "    [theme=dark] .colab-df-convert {\n",
       "      background-color: #3B4455;\n",
       "      fill: #D2E3FC;\n",
       "    }\n",
       "\n",
       "    [theme=dark] .colab-df-convert:hover {\n",
       "      background-color: #434B5C;\n",
       "      box-shadow: 0px 1px 3px 1px rgba(0, 0, 0, 0.15);\n",
       "      filter: drop-shadow(0px 1px 2px rgba(0, 0, 0, 0.3));\n",
       "      fill: #FFFFFF;\n",
       "    }\n",
       "  </style>\n",
       "\n",
       "    <script>\n",
       "      const buttonEl =\n",
       "        document.querySelector('#df-f66522f2-0e70-4168-86cc-3e5bef385a6e button.colab-df-convert');\n",
       "      buttonEl.style.display =\n",
       "        google.colab.kernel.accessAllowed ? 'block' : 'none';\n",
       "\n",
       "      async function convertToInteractive(key) {\n",
       "        const element = document.querySelector('#df-f66522f2-0e70-4168-86cc-3e5bef385a6e');\n",
       "        const dataTable =\n",
       "          await google.colab.kernel.invokeFunction('convertToInteractive',\n",
       "                                                    [key], {});\n",
       "        if (!dataTable) return;\n",
       "\n",
       "        const docLinkHtml = 'Like what you see? Visit the ' +\n",
       "          '<a target=\"_blank\" href=https://colab.research.google.com/notebooks/data_table.ipynb>data table notebook</a>'\n",
       "          + ' to learn more about interactive tables.';\n",
       "        element.innerHTML = '';\n",
       "        dataTable['output_type'] = 'display_data';\n",
       "        await google.colab.output.renderOutput(dataTable, element);\n",
       "        const docLink = document.createElement('div');\n",
       "        docLink.innerHTML = docLinkHtml;\n",
       "        element.appendChild(docLink);\n",
       "      }\n",
       "    </script>\n",
       "  </div>\n",
       "\n",
       "\n",
       "<div id=\"df-21043162-70c0-4baf-b03c-dd136490c234\">\n",
       "  <button class=\"colab-df-quickchart\" onclick=\"quickchart('df-21043162-70c0-4baf-b03c-dd136490c234')\"\n",
       "            title=\"Suggest charts\"\n",
       "            style=\"display:none;\">\n",
       "\n",
       "<svg xmlns=\"http://www.w3.org/2000/svg\" height=\"24px\"viewBox=\"0 0 24 24\"\n",
       "     width=\"24px\">\n",
       "    <g>\n",
       "        <path d=\"M19 3H5c-1.1 0-2 .9-2 2v14c0 1.1.9 2 2 2h14c1.1 0 2-.9 2-2V5c0-1.1-.9-2-2-2zM9 17H7v-7h2v7zm4 0h-2V7h2v10zm4 0h-2v-4h2v4z\"/>\n",
       "    </g>\n",
       "</svg>\n",
       "  </button>\n",
       "\n",
       "<style>\n",
       "  .colab-df-quickchart {\n",
       "      --bg-color: #E8F0FE;\n",
       "      --fill-color: #1967D2;\n",
       "      --hover-bg-color: #E2EBFA;\n",
       "      --hover-fill-color: #174EA6;\n",
       "      --disabled-fill-color: #AAA;\n",
       "      --disabled-bg-color: #DDD;\n",
       "  }\n",
       "\n",
       "  [theme=dark] .colab-df-quickchart {\n",
       "      --bg-color: #3B4455;\n",
       "      --fill-color: #D2E3FC;\n",
       "      --hover-bg-color: #434B5C;\n",
       "      --hover-fill-color: #FFFFFF;\n",
       "      --disabled-bg-color: #3B4455;\n",
       "      --disabled-fill-color: #666;\n",
       "  }\n",
       "\n",
       "  .colab-df-quickchart {\n",
       "    background-color: var(--bg-color);\n",
       "    border: none;\n",
       "    border-radius: 50%;\n",
       "    cursor: pointer;\n",
       "    display: none;\n",
       "    fill: var(--fill-color);\n",
       "    height: 32px;\n",
       "    padding: 0;\n",
       "    width: 32px;\n",
       "  }\n",
       "\n",
       "  .colab-df-quickchart:hover {\n",
       "    background-color: var(--hover-bg-color);\n",
       "    box-shadow: 0 1px 2px rgba(60, 64, 67, 0.3), 0 1px 3px 1px rgba(60, 64, 67, 0.15);\n",
       "    fill: var(--button-hover-fill-color);\n",
       "  }\n",
       "\n",
       "  .colab-df-quickchart-complete:disabled,\n",
       "  .colab-df-quickchart-complete:disabled:hover {\n",
       "    background-color: var(--disabled-bg-color);\n",
       "    fill: var(--disabled-fill-color);\n",
       "    box-shadow: none;\n",
       "  }\n",
       "\n",
       "  .colab-df-spinner {\n",
       "    border: 2px solid var(--fill-color);\n",
       "    border-color: transparent;\n",
       "    border-bottom-color: var(--fill-color);\n",
       "    animation:\n",
       "      spin 1s steps(1) infinite;\n",
       "  }\n",
       "\n",
       "  @keyframes spin {\n",
       "    0% {\n",
       "      border-color: transparent;\n",
       "      border-bottom-color: var(--fill-color);\n",
       "      border-left-color: var(--fill-color);\n",
       "    }\n",
       "    20% {\n",
       "      border-color: transparent;\n",
       "      border-left-color: var(--fill-color);\n",
       "      border-top-color: var(--fill-color);\n",
       "    }\n",
       "    30% {\n",
       "      border-color: transparent;\n",
       "      border-left-color: var(--fill-color);\n",
       "      border-top-color: var(--fill-color);\n",
       "      border-right-color: var(--fill-color);\n",
       "    }\n",
       "    40% {\n",
       "      border-color: transparent;\n",
       "      border-right-color: var(--fill-color);\n",
       "      border-top-color: var(--fill-color);\n",
       "    }\n",
       "    60% {\n",
       "      border-color: transparent;\n",
       "      border-right-color: var(--fill-color);\n",
       "    }\n",
       "    80% {\n",
       "      border-color: transparent;\n",
       "      border-right-color: var(--fill-color);\n",
       "      border-bottom-color: var(--fill-color);\n",
       "    }\n",
       "    90% {\n",
       "      border-color: transparent;\n",
       "      border-bottom-color: var(--fill-color);\n",
       "    }\n",
       "  }\n",
       "</style>\n",
       "\n",
       "  <script>\n",
       "    async function quickchart(key) {\n",
       "      const quickchartButtonEl =\n",
       "        document.querySelector('#' + key + ' button');\n",
       "      quickchartButtonEl.disabled = true;  // To prevent multiple clicks.\n",
       "      quickchartButtonEl.classList.add('colab-df-spinner');\n",
       "      try {\n",
       "        const charts = await google.colab.kernel.invokeFunction(\n",
       "            'suggestCharts', [key], {});\n",
       "      } catch (error) {\n",
       "        console.error('Error during call to suggestCharts:', error);\n",
       "      }\n",
       "      quickchartButtonEl.classList.remove('colab-df-spinner');\n",
       "      quickchartButtonEl.classList.add('colab-df-quickchart-complete');\n",
       "    }\n",
       "    (() => {\n",
       "      let quickchartButtonEl =\n",
       "        document.querySelector('#df-21043162-70c0-4baf-b03c-dd136490c234 button');\n",
       "      quickchartButtonEl.style.display =\n",
       "        google.colab.kernel.accessAllowed ? 'block' : 'none';\n",
       "    })();\n",
       "  </script>\n",
       "</div>\n",
       "    </div>\n",
       "  </div>\n"
      ],
      "text/plain": [
       "                    current_status      sex      age_group  \\\n",
       "0        Laboratory-confirmed case     Male  10 - 19 Years   \n",
       "1        Laboratory-confirmed case     Male  10 - 19 Years   \n",
       "2        Laboratory-confirmed case     Male  10 - 19 Years   \n",
       "3        Laboratory-confirmed case     Male  10 - 19 Years   \n",
       "4        Laboratory-confirmed case     Male  10 - 19 Years   \n",
       "...                            ...      ...            ...   \n",
       "8405074              Probable Case  Missing  30 - 39 Years   \n",
       "8405075  Laboratory-confirmed case  Missing  30 - 39 Years   \n",
       "8405076  Laboratory-confirmed case  Missing  30 - 39 Years   \n",
       "8405077  Laboratory-confirmed case  Missing  30 - 39 Years   \n",
       "8405078  Laboratory-confirmed case  Missing  30 - 39 Years   \n",
       "\n",
       "        Race and ethnicity (combined)  hosp_yn   icu_yn death_yn medcond_yn  \n",
       "0                 Black, Non-Hispanic       No  Unknown       No         No  \n",
       "1                 Black, Non-Hispanic       No       No       No         No  \n",
       "2                 Black, Non-Hispanic       No       No       No         No  \n",
       "3                 Black, Non-Hispanic  Missing  Missing       No    Missing  \n",
       "4                 Black, Non-Hispanic       No       No       No        Yes  \n",
       "...                               ...      ...      ...      ...        ...  \n",
       "8405074                       Unknown       No  Unknown       No    Missing  \n",
       "8405075                       Unknown  Missing  Missing  Missing    Missing  \n",
       "8405076                       Unknown  Missing  Missing  Missing    Missing  \n",
       "8405077                       Unknown  Missing  Missing  Missing    Missing  \n",
       "8405078                       Unknown       No  Unknown       No    Missing  \n",
       "\n",
       "[8404990 rows x 8 columns]"
      ]
     },
     "execution_count": 71,
     "metadata": {},
     "output_type": "execute_result"
    }
   ],
   "source": [
    "df"
   ]
  },
  {
   "cell_type": "code",
   "execution_count": null,
   "metadata": {
    "colab": {
     "base_uri": "https://localhost:8080/",
     "height": 241
    },
    "id": "NL4KecshjTzs",
    "outputId": "be77fb91-4fd9-404a-f8a1-d61071ba4e47"
   },
   "outputs": [
    {
     "data": {
      "text/html": [
       "<div>\n",
       "<style scoped>\n",
       "    .dataframe tbody tr th:only-of-type {\n",
       "        vertical-align: middle;\n",
       "    }\n",
       "\n",
       "    .dataframe tbody tr th {\n",
       "        vertical-align: top;\n",
       "    }\n",
       "\n",
       "    .dataframe thead th {\n",
       "        text-align: right;\n",
       "    }\n",
       "</style>\n",
       "<table border=\"1\" class=\"dataframe\">\n",
       "  <thead>\n",
       "    <tr style=\"text-align: right;\">\n",
       "      <th></th>\n",
       "      <th>count</th>\n",
       "    </tr>\n",
       "    <tr>\n",
       "      <th>death_yn</th>\n",
       "      <th></th>\n",
       "    </tr>\n",
       "  </thead>\n",
       "  <tbody>\n",
       "    <tr>\n",
       "      <th>No</th>\n",
       "      <td>3690765</td>\n",
       "    </tr>\n",
       "    <tr>\n",
       "      <th>Missing</th>\n",
       "      <td>3486890</td>\n",
       "    </tr>\n",
       "    <tr>\n",
       "      <th>Unknown</th>\n",
       "      <td>1043765</td>\n",
       "    </tr>\n",
       "    <tr>\n",
       "      <th>Yes</th>\n",
       "      <td>183570</td>\n",
       "    </tr>\n",
       "  </tbody>\n",
       "</table>\n",
       "</div><br><label><b>dtype:</b> int64</label>"
      ],
      "text/plain": [
       "death_yn\n",
       "No         3690765\n",
       "Missing    3486890\n",
       "Unknown    1043765\n",
       "Yes         183570\n",
       "Name: count, dtype: int64"
      ]
     },
     "execution_count": 72,
     "metadata": {},
     "output_type": "execute_result"
    }
   ],
   "source": [
    "df['death_yn'].value_counts()"
   ]
  },
  {
   "cell_type": "markdown",
   "metadata": {
    "id": "Vxyf2ZeAjf58"
   },
   "source": [
    "Давайте создадим новую переменную, которая ставит индикатор выздоровления всегда, даже когда информации нет"
   ]
  },
  {
   "cell_type": "code",
   "execution_count": null,
   "metadata": {
    "id": "itgUkIoZjbbN"
   },
   "outputs": [],
   "source": [
    "df['death_ind'] = df['death_yn'].apply(lambda x: 1 if x=='Yes' else 0)"
   ]
  },
  {
   "cell_type": "code",
   "execution_count": null,
   "metadata": {
    "id": "NU-B48bdjkzW"
   },
   "outputs": [],
   "source": [
    "gdf['death_ind'] = gdf['death_yn'].apply(lambda x: 1 if x=='Yes' else 0)"
   ]
  },
  {
   "cell_type": "markdown",
   "metadata": {
    "id": "b54ZjLsUj7jl"
   },
   "source": [
    "Давайте посмотрим, есть ли различие в вероятности смерти, если есть осложения"
   ]
  },
  {
   "cell_type": "code",
   "execution_count": null,
   "metadata": {
    "colab": {
     "base_uri": "https://localhost:8080/"
    },
    "id": "3M9_TVnOkA5y",
    "outputId": "e5e50305-cd37-4296-b1c3-61078278fe66"
   },
   "outputs": [
    {
     "data": {
      "text/plain": [
       "0.021840597073881113"
      ]
     },
     "execution_count": 76,
     "metadata": {},
     "output_type": "execute_result"
    }
   ],
   "source": [
    "gdf['death_ind'].mean()"
   ]
  },
  {
   "cell_type": "code",
   "execution_count": null,
   "metadata": {
    "colab": {
     "base_uri": "https://localhost:8080/",
     "height": 244
    },
    "id": "EbBzMHwxkDhf",
    "outputId": "5a006b77-7a7b-44db-8555-611f8aa7d8bc"
   },
   "outputs": [
    {
     "name": "stdout",
     "output_type": "stream",
     "text": [
      "CPU times: user 582 ms, sys: 181 ms, total: 763 ms\n",
      "Wall time: 746 ms\n"
     ]
    },
    {
     "data": {
      "application/vnd.google.colaboratory.intrinsic+json": {
       "summary": "{\n  \"name\": \"get_ipython()\",\n  \"rows\": 4,\n  \"fields\": [\n    {\n      \"column\": \"medcond_yn\",\n      \"properties\": {\n        \"dtype\": \"string\",\n        \"num_unique_values\": 4,\n        \"samples\": [\n          \"No\",\n          \"Yes\",\n          \"Missing\"\n        ],\n        \"semantic_type\": \"\",\n        \"description\": \"\"\n      }\n    },\n    {\n      \"column\": \"death_ind\",\n      \"properties\": {\n        \"dtype\": \"number\",\n        \"std\": 0.03745242739338174,\n        \"min\": 0.005041759465478842,\n        \"max\": 0.08840624745293015,\n        \"num_unique_values\": 4,\n        \"samples\": [\n          0.005041759465478842,\n          0.08840624745293015,\n          0.0137367730103441\n        ],\n        \"semantic_type\": \"\",\n        \"description\": \"\"\n      }\n    }\n  ]\n}",
       "type": "dataframe"
      },
      "text/html": [
       "\n",
       "  <div id=\"df-03bd824b-8d49-4856-bc7b-32b304db1321\" class=\"colab-df-container\">\n",
       "    <div>\n",
       "<style scoped>\n",
       "    .dataframe tbody tr th:only-of-type {\n",
       "        vertical-align: middle;\n",
       "    }\n",
       "\n",
       "    .dataframe tbody tr th {\n",
       "        vertical-align: top;\n",
       "    }\n",
       "\n",
       "    .dataframe thead th {\n",
       "        text-align: right;\n",
       "    }\n",
       "</style>\n",
       "<table border=\"1\" class=\"dataframe\">\n",
       "  <thead>\n",
       "    <tr style=\"text-align: right;\">\n",
       "      <th></th>\n",
       "      <th>death_ind</th>\n",
       "    </tr>\n",
       "    <tr>\n",
       "      <th>medcond_yn</th>\n",
       "      <th></th>\n",
       "    </tr>\n",
       "  </thead>\n",
       "  <tbody>\n",
       "    <tr>\n",
       "      <th>Missing</th>\n",
       "      <td>0.013737</td>\n",
       "    </tr>\n",
       "    <tr>\n",
       "      <th>No</th>\n",
       "      <td>0.005042</td>\n",
       "    </tr>\n",
       "    <tr>\n",
       "      <th>Unknown</th>\n",
       "      <td>0.032504</td>\n",
       "    </tr>\n",
       "    <tr>\n",
       "      <th>Yes</th>\n",
       "      <td>0.088406</td>\n",
       "    </tr>\n",
       "  </tbody>\n",
       "</table>\n",
       "</div>\n",
       "    <div class=\"colab-df-buttons\">\n",
       "\n",
       "  <div class=\"colab-df-container\">\n",
       "    <button class=\"colab-df-convert\" onclick=\"convertToInteractive('df-03bd824b-8d49-4856-bc7b-32b304db1321')\"\n",
       "            title=\"Convert this dataframe to an interactive table.\"\n",
       "            style=\"display:none;\">\n",
       "\n",
       "  <svg xmlns=\"http://www.w3.org/2000/svg\" height=\"24px\" viewBox=\"0 -960 960 960\">\n",
       "    <path d=\"M120-120v-720h720v720H120Zm60-500h600v-160H180v160Zm220 220h160v-160H400v160Zm0 220h160v-160H400v160ZM180-400h160v-160H180v160Zm440 0h160v-160H620v160ZM180-180h160v-160H180v160Zm440 0h160v-160H620v160Z\"/>\n",
       "  </svg>\n",
       "    </button>\n",
       "\n",
       "  <style>\n",
       "    .colab-df-container {\n",
       "      display:flex;\n",
       "      gap: 12px;\n",
       "    }\n",
       "\n",
       "    .colab-df-convert {\n",
       "      background-color: #E8F0FE;\n",
       "      border: none;\n",
       "      border-radius: 50%;\n",
       "      cursor: pointer;\n",
       "      display: none;\n",
       "      fill: #1967D2;\n",
       "      height: 32px;\n",
       "      padding: 0 0 0 0;\n",
       "      width: 32px;\n",
       "    }\n",
       "\n",
       "    .colab-df-convert:hover {\n",
       "      background-color: #E2EBFA;\n",
       "      box-shadow: 0px 1px 2px rgba(60, 64, 67, 0.3), 0px 1px 3px 1px rgba(60, 64, 67, 0.15);\n",
       "      fill: #174EA6;\n",
       "    }\n",
       "\n",
       "    .colab-df-buttons div {\n",
       "      margin-bottom: 4px;\n",
       "    }\n",
       "\n",
       "    [theme=dark] .colab-df-convert {\n",
       "      background-color: #3B4455;\n",
       "      fill: #D2E3FC;\n",
       "    }\n",
       "\n",
       "    [theme=dark] .colab-df-convert:hover {\n",
       "      background-color: #434B5C;\n",
       "      box-shadow: 0px 1px 3px 1px rgba(0, 0, 0, 0.15);\n",
       "      filter: drop-shadow(0px 1px 2px rgba(0, 0, 0, 0.3));\n",
       "      fill: #FFFFFF;\n",
       "    }\n",
       "  </style>\n",
       "\n",
       "    <script>\n",
       "      const buttonEl =\n",
       "        document.querySelector('#df-03bd824b-8d49-4856-bc7b-32b304db1321 button.colab-df-convert');\n",
       "      buttonEl.style.display =\n",
       "        google.colab.kernel.accessAllowed ? 'block' : 'none';\n",
       "\n",
       "      async function convertToInteractive(key) {\n",
       "        const element = document.querySelector('#df-03bd824b-8d49-4856-bc7b-32b304db1321');\n",
       "        const dataTable =\n",
       "          await google.colab.kernel.invokeFunction('convertToInteractive',\n",
       "                                                    [key], {});\n",
       "        if (!dataTable) return;\n",
       "\n",
       "        const docLinkHtml = 'Like what you see? Visit the ' +\n",
       "          '<a target=\"_blank\" href=https://colab.research.google.com/notebooks/data_table.ipynb>data table notebook</a>'\n",
       "          + ' to learn more about interactive tables.';\n",
       "        element.innerHTML = '';\n",
       "        dataTable['output_type'] = 'display_data';\n",
       "        await google.colab.output.renderOutput(dataTable, element);\n",
       "        const docLink = document.createElement('div');\n",
       "        docLink.innerHTML = docLinkHtml;\n",
       "        element.appendChild(docLink);\n",
       "      }\n",
       "    </script>\n",
       "  </div>\n",
       "\n",
       "\n",
       "<div id=\"df-9ab3a276-ed03-427e-9da7-4766631b2ac2\">\n",
       "  <button class=\"colab-df-quickchart\" onclick=\"quickchart('df-9ab3a276-ed03-427e-9da7-4766631b2ac2')\"\n",
       "            title=\"Suggest charts\"\n",
       "            style=\"display:none;\">\n",
       "\n",
       "<svg xmlns=\"http://www.w3.org/2000/svg\" height=\"24px\"viewBox=\"0 0 24 24\"\n",
       "     width=\"24px\">\n",
       "    <g>\n",
       "        <path d=\"M19 3H5c-1.1 0-2 .9-2 2v14c0 1.1.9 2 2 2h14c1.1 0 2-.9 2-2V5c0-1.1-.9-2-2-2zM9 17H7v-7h2v7zm4 0h-2V7h2v10zm4 0h-2v-4h2v4z\"/>\n",
       "    </g>\n",
       "</svg>\n",
       "  </button>\n",
       "\n",
       "<style>\n",
       "  .colab-df-quickchart {\n",
       "      --bg-color: #E8F0FE;\n",
       "      --fill-color: #1967D2;\n",
       "      --hover-bg-color: #E2EBFA;\n",
       "      --hover-fill-color: #174EA6;\n",
       "      --disabled-fill-color: #AAA;\n",
       "      --disabled-bg-color: #DDD;\n",
       "  }\n",
       "\n",
       "  [theme=dark] .colab-df-quickchart {\n",
       "      --bg-color: #3B4455;\n",
       "      --fill-color: #D2E3FC;\n",
       "      --hover-bg-color: #434B5C;\n",
       "      --hover-fill-color: #FFFFFF;\n",
       "      --disabled-bg-color: #3B4455;\n",
       "      --disabled-fill-color: #666;\n",
       "  }\n",
       "\n",
       "  .colab-df-quickchart {\n",
       "    background-color: var(--bg-color);\n",
       "    border: none;\n",
       "    border-radius: 50%;\n",
       "    cursor: pointer;\n",
       "    display: none;\n",
       "    fill: var(--fill-color);\n",
       "    height: 32px;\n",
       "    padding: 0;\n",
       "    width: 32px;\n",
       "  }\n",
       "\n",
       "  .colab-df-quickchart:hover {\n",
       "    background-color: var(--hover-bg-color);\n",
       "    box-shadow: 0 1px 2px rgba(60, 64, 67, 0.3), 0 1px 3px 1px rgba(60, 64, 67, 0.15);\n",
       "    fill: var(--button-hover-fill-color);\n",
       "  }\n",
       "\n",
       "  .colab-df-quickchart-complete:disabled,\n",
       "  .colab-df-quickchart-complete:disabled:hover {\n",
       "    background-color: var(--disabled-bg-color);\n",
       "    fill: var(--disabled-fill-color);\n",
       "    box-shadow: none;\n",
       "  }\n",
       "\n",
       "  .colab-df-spinner {\n",
       "    border: 2px solid var(--fill-color);\n",
       "    border-color: transparent;\n",
       "    border-bottom-color: var(--fill-color);\n",
       "    animation:\n",
       "      spin 1s steps(1) infinite;\n",
       "  }\n",
       "\n",
       "  @keyframes spin {\n",
       "    0% {\n",
       "      border-color: transparent;\n",
       "      border-bottom-color: var(--fill-color);\n",
       "      border-left-color: var(--fill-color);\n",
       "    }\n",
       "    20% {\n",
       "      border-color: transparent;\n",
       "      border-left-color: var(--fill-color);\n",
       "      border-top-color: var(--fill-color);\n",
       "    }\n",
       "    30% {\n",
       "      border-color: transparent;\n",
       "      border-left-color: var(--fill-color);\n",
       "      border-top-color: var(--fill-color);\n",
       "      border-right-color: var(--fill-color);\n",
       "    }\n",
       "    40% {\n",
       "      border-color: transparent;\n",
       "      border-right-color: var(--fill-color);\n",
       "      border-top-color: var(--fill-color);\n",
       "    }\n",
       "    60% {\n",
       "      border-color: transparent;\n",
       "      border-right-color: var(--fill-color);\n",
       "    }\n",
       "    80% {\n",
       "      border-color: transparent;\n",
       "      border-right-color: var(--fill-color);\n",
       "      border-bottom-color: var(--fill-color);\n",
       "    }\n",
       "    90% {\n",
       "      border-color: transparent;\n",
       "      border-bottom-color: var(--fill-color);\n",
       "    }\n",
       "  }\n",
       "</style>\n",
       "\n",
       "  <script>\n",
       "    async function quickchart(key) {\n",
       "      const quickchartButtonEl =\n",
       "        document.querySelector('#' + key + ' button');\n",
       "      quickchartButtonEl.disabled = true;  // To prevent multiple clicks.\n",
       "      quickchartButtonEl.classList.add('colab-df-spinner');\n",
       "      try {\n",
       "        const charts = await google.colab.kernel.invokeFunction(\n",
       "            'suggestCharts', [key], {});\n",
       "      } catch (error) {\n",
       "        console.error('Error during call to suggestCharts:', error);\n",
       "      }\n",
       "      quickchartButtonEl.classList.remove('colab-df-spinner');\n",
       "      quickchartButtonEl.classList.add('colab-df-quickchart-complete');\n",
       "    }\n",
       "    (() => {\n",
       "      let quickchartButtonEl =\n",
       "        document.querySelector('#df-9ab3a276-ed03-427e-9da7-4766631b2ac2 button');\n",
       "      quickchartButtonEl.style.display =\n",
       "        google.colab.kernel.accessAllowed ? 'block' : 'none';\n",
       "    })();\n",
       "  </script>\n",
       "</div>\n",
       "    </div>\n",
       "  </div>\n"
      ],
      "text/plain": [
       "            death_ind\n",
       "medcond_yn           \n",
       "Missing      0.013737\n",
       "No           0.005042\n",
       "Unknown      0.032504\n",
       "Yes          0.088406"
      ]
     },
     "execution_count": 77,
     "metadata": {},
     "output_type": "execute_result"
    }
   ],
   "source": [
    "%time df[['medcond_yn', 'death_ind']].groupby(['medcond_yn']).mean()"
   ]
  },
  {
   "cell_type": "code",
   "execution_count": null,
   "metadata": {
    "colab": {
     "base_uri": "https://localhost:8080/",
     "height": 244
    },
    "id": "OX2Cy5t-kEDh",
    "outputId": "6349dd80-123d-4f44-bd44-11d081819f95"
   },
   "outputs": [
    {
     "name": "stdout",
     "output_type": "stream",
     "text": [
      "CPU times: user 18.7 ms, sys: 4.1 ms, total: 22.8 ms\n",
      "Wall time: 19.3 ms\n"
     ]
    },
    {
     "data": {
      "text/html": [
       "<div>\n",
       "<style scoped>\n",
       "    .dataframe tbody tr th:only-of-type {\n",
       "        vertical-align: middle;\n",
       "    }\n",
       "\n",
       "    .dataframe tbody tr th {\n",
       "        vertical-align: top;\n",
       "    }\n",
       "\n",
       "    .dataframe thead th {\n",
       "        text-align: right;\n",
       "    }\n",
       "</style>\n",
       "<table border=\"1\" class=\"dataframe\">\n",
       "  <thead>\n",
       "    <tr style=\"text-align: right;\">\n",
       "      <th></th>\n",
       "      <th>death_ind</th>\n",
       "    </tr>\n",
       "    <tr>\n",
       "      <th>medcond_yn</th>\n",
       "      <th></th>\n",
       "    </tr>\n",
       "  </thead>\n",
       "  <tbody>\n",
       "    <tr>\n",
       "      <th>Missing</th>\n",
       "      <td>0.013737</td>\n",
       "    </tr>\n",
       "    <tr>\n",
       "      <th>No</th>\n",
       "      <td>0.005042</td>\n",
       "    </tr>\n",
       "    <tr>\n",
       "      <th>Unknown</th>\n",
       "      <td>0.032504</td>\n",
       "    </tr>\n",
       "    <tr>\n",
       "      <th>Yes</th>\n",
       "      <td>0.088406</td>\n",
       "    </tr>\n",
       "  </tbody>\n",
       "</table>\n",
       "</div>"
      ],
      "text/plain": [
       "            death_ind\n",
       "medcond_yn           \n",
       "Missing      0.013737\n",
       "No           0.005042\n",
       "Unknown      0.032504\n",
       "Yes          0.088406"
      ]
     },
     "execution_count": 79,
     "metadata": {},
     "output_type": "execute_result"
    }
   ],
   "source": [
    "%time gdf[['medcond_yn', 'death_ind']].groupby(['medcond_yn']).mean()"
   ]
  },
  {
   "cell_type": "markdown",
   "metadata": {
    "id": "HH0AOa5wtCTi"
   },
   "source": [
    "## Кстати\n",
    "\n",
    "Можно писать собственные udf через numba"
   ]
  },
  {
   "cell_type": "code",
   "execution_count": null,
   "metadata": {
    "colab": {
     "base_uri": "https://localhost:8080/",
     "height": 206
    },
    "id": "eQk46umBkXma",
    "outputId": "625e95a9-f69e-4c6f-9339-d8b4763b7454"
   },
   "outputs": [
    {
     "data": {
      "text/html": [
       "<div>\n",
       "<style scoped>\n",
       "    .dataframe tbody tr th:only-of-type {\n",
       "        vertical-align: middle;\n",
       "    }\n",
       "\n",
       "    .dataframe tbody tr th {\n",
       "        vertical-align: top;\n",
       "    }\n",
       "\n",
       "    .dataframe thead th {\n",
       "        text-align: right;\n",
       "    }\n",
       "</style>\n",
       "<table border=\"1\" class=\"dataframe\">\n",
       "  <thead>\n",
       "    <tr style=\"text-align: right;\">\n",
       "      <th></th>\n",
       "      <th>a</th>\n",
       "      <th>b</th>\n",
       "      <th>c</th>\n",
       "    </tr>\n",
       "  </thead>\n",
       "  <tbody>\n",
       "    <tr>\n",
       "      <th>0</th>\n",
       "      <td>-0.691674</td>\n",
       "      <td>-0.432343</td>\n",
       "      <td>Ursula</td>\n",
       "    </tr>\n",
       "    <tr>\n",
       "      <th>1</th>\n",
       "      <td>0.480099</td>\n",
       "      <td>0.212166</td>\n",
       "      <td>George</td>\n",
       "    </tr>\n",
       "    <tr>\n",
       "      <th>2</th>\n",
       "      <td>-0.473370</td>\n",
       "      <td>0.888450</td>\n",
       "      <td>Norbert</td>\n",
       "    </tr>\n",
       "    <tr>\n",
       "      <th>3</th>\n",
       "      <td>0.067479</td>\n",
       "      <td>0.705471</td>\n",
       "      <td>Jerry</td>\n",
       "    </tr>\n",
       "    <tr>\n",
       "      <th>4</th>\n",
       "      <td>-0.970850</td>\n",
       "      <td>-0.995482</td>\n",
       "      <td>Norbert</td>\n",
       "    </tr>\n",
       "  </tbody>\n",
       "</table>\n",
       "</div>"
      ],
      "text/plain": [
       "          a         b        c\n",
       "0 -0.691674 -0.432343   Ursula\n",
       "1  0.480099  0.212166   George\n",
       "2 -0.473370  0.888450  Norbert\n",
       "3  0.067479  0.705471    Jerry\n",
       "4 -0.970850 -0.995482  Norbert"
      ]
     },
     "execution_count": 80,
     "metadata": {},
     "output_type": "execute_result"
    }
   ],
   "source": [
    "from cudf.datasets import randomdata\n",
    "\n",
    "df = randomdata(nrows=10, dtypes={'a':float, 'b':float, 'c':str}, seed=12)\n",
    "df.head()"
   ]
  },
  {
   "cell_type": "code",
   "execution_count": null,
   "metadata": {
    "id": "NtZuLZQXkexc"
   },
   "outputs": [],
   "source": [
    "from numba import cuda\n",
    "\n",
    "@cuda.jit\n",
    "def multiply(in_col, out_col, multiplier):\n",
    "    i = cuda.grid(1)\n",
    "    if i < in_col.size:\n",
    "        out_col[i] = in_col[i] * multiplier"
   ]
  },
  {
   "cell_type": "code",
   "execution_count": null,
   "metadata": {
    "colab": {
     "base_uri": "https://localhost:8080/",
     "height": 421
    },
    "id": "sohu_XyTkezu",
    "outputId": "315a6097-12ac-4c04-9208-b09428aa42fa"
   },
   "outputs": [
    {
     "name": "stderr",
     "output_type": "stream",
     "text": [
      "/usr/local/lib/python3.10/dist-packages/numba/cuda/dispatcher.py:536: NumbaPerformanceWarning: Grid size 1 will likely result in GPU under-utilization due to low occupancy.\n",
      "  warn(NumbaPerformanceWarning(msg))\n"
     ]
    },
    {
     "data": {
      "text/html": [
       "<div>\n",
       "<style scoped>\n",
       "    .dataframe tbody tr th:only-of-type {\n",
       "        vertical-align: middle;\n",
       "    }\n",
       "\n",
       "    .dataframe tbody tr th {\n",
       "        vertical-align: top;\n",
       "    }\n",
       "\n",
       "    .dataframe thead th {\n",
       "        text-align: right;\n",
       "    }\n",
       "</style>\n",
       "<table border=\"1\" class=\"dataframe\">\n",
       "  <thead>\n",
       "    <tr style=\"text-align: right;\">\n",
       "      <th></th>\n",
       "      <th>a</th>\n",
       "      <th>b</th>\n",
       "      <th>c</th>\n",
       "      <th>e</th>\n",
       "    </tr>\n",
       "  </thead>\n",
       "  <tbody>\n",
       "    <tr>\n",
       "      <th>0</th>\n",
       "      <td>-0.691674</td>\n",
       "      <td>-0.432343</td>\n",
       "      <td>Ursula</td>\n",
       "      <td>-2.075023</td>\n",
       "    </tr>\n",
       "    <tr>\n",
       "      <th>1</th>\n",
       "      <td>0.480099</td>\n",
       "      <td>0.212166</td>\n",
       "      <td>George</td>\n",
       "      <td>1.440298</td>\n",
       "    </tr>\n",
       "    <tr>\n",
       "      <th>2</th>\n",
       "      <td>-0.473370</td>\n",
       "      <td>0.888450</td>\n",
       "      <td>Norbert</td>\n",
       "      <td>-1.420110</td>\n",
       "    </tr>\n",
       "    <tr>\n",
       "      <th>3</th>\n",
       "      <td>0.067479</td>\n",
       "      <td>0.705471</td>\n",
       "      <td>Jerry</td>\n",
       "      <td>0.202436</td>\n",
       "    </tr>\n",
       "    <tr>\n",
       "      <th>4</th>\n",
       "      <td>-0.970850</td>\n",
       "      <td>-0.995482</td>\n",
       "      <td>Norbert</td>\n",
       "      <td>-2.912550</td>\n",
       "    </tr>\n",
       "    <tr>\n",
       "      <th>5</th>\n",
       "      <td>0.837494</td>\n",
       "      <td>0.042452</td>\n",
       "      <td>Quinn</td>\n",
       "      <td>2.512482</td>\n",
       "    </tr>\n",
       "    <tr>\n",
       "      <th>6</th>\n",
       "      <td>0.801430</td>\n",
       "      <td>0.104075</td>\n",
       "      <td>Alice</td>\n",
       "      <td>2.404289</td>\n",
       "    </tr>\n",
       "    <tr>\n",
       "      <th>7</th>\n",
       "      <td>-0.933157</td>\n",
       "      <td>-0.029245</td>\n",
       "      <td>Oliver</td>\n",
       "      <td>-2.799471</td>\n",
       "    </tr>\n",
       "    <tr>\n",
       "      <th>8</th>\n",
       "      <td>0.913899</td>\n",
       "      <td>0.536268</td>\n",
       "      <td>Zelda</td>\n",
       "      <td>2.741696</td>\n",
       "    </tr>\n",
       "    <tr>\n",
       "      <th>9</th>\n",
       "      <td>-0.725581</td>\n",
       "      <td>-0.678566</td>\n",
       "      <td>Yvonne</td>\n",
       "      <td>-2.176744</td>\n",
       "    </tr>\n",
       "  </tbody>\n",
       "</table>\n",
       "</div>"
      ],
      "text/plain": [
       "          a         b        c         e\n",
       "0 -0.691674 -0.432343   Ursula -2.075023\n",
       "1  0.480099  0.212166   George  1.440298\n",
       "2 -0.473370  0.888450  Norbert -1.420110\n",
       "3  0.067479  0.705471    Jerry  0.202436\n",
       "4 -0.970850 -0.995482  Norbert -2.912550\n",
       "5  0.837494  0.042452    Quinn  2.512482\n",
       "6  0.801430  0.104075    Alice  2.404289\n",
       "7 -0.933157 -0.029245   Oliver -2.799471\n",
       "8  0.913899  0.536268    Zelda  2.741696\n",
       "9 -0.725581 -0.678566   Yvonne -2.176744"
      ]
     },
     "execution_count": 82,
     "metadata": {},
     "output_type": "execute_result"
    }
   ],
   "source": [
    "size = len(df['a'])\n",
    "df['e'] = 0.0\n",
    "multiply.forall(size)(df['a'], df['e'], 3.0)\n",
    "df"
   ]
  },
  {
   "cell_type": "markdown",
   "metadata": {
    "id": "S3yC9VBRkmdI"
   },
   "source": [
    "В сuDF есть хорший метод apply_rows, который позволяет писать udf на python и применять к нескольким столбцам"
   ]
  },
  {
   "cell_type": "code",
   "execution_count": null,
   "metadata": {
    "id": "1Rryn8a5koUn"
   },
   "outputs": [],
   "source": [
    "def conditional_add(x, y, out):\n",
    "    for i, (a, e) in enumerate(zip(x, y)):\n",
    "        if a > 0:\n",
    "            out[i] = a + e\n",
    "        else:\n",
    "            out[i] = a"
   ]
  },
  {
   "cell_type": "code",
   "execution_count": null,
   "metadata": {
    "colab": {
     "base_uri": "https://localhost:8080/",
     "height": 363
    },
    "id": "kUA-lRV0kqGI",
    "outputId": "d5d2d6e6-4681-497d-e15c-6a9923a96a9c"
   },
   "outputs": [
    {
     "data": {
      "text/html": [
       "<div>\n",
       "<style scoped>\n",
       "    .dataframe tbody tr th:only-of-type {\n",
       "        vertical-align: middle;\n",
       "    }\n",
       "\n",
       "    .dataframe tbody tr th {\n",
       "        vertical-align: top;\n",
       "    }\n",
       "\n",
       "    .dataframe thead th {\n",
       "        text-align: right;\n",
       "    }\n",
       "</style>\n",
       "<table border=\"1\" class=\"dataframe\">\n",
       "  <thead>\n",
       "    <tr style=\"text-align: right;\">\n",
       "      <th></th>\n",
       "      <th>a</th>\n",
       "      <th>b</th>\n",
       "      <th>c</th>\n",
       "      <th>e</th>\n",
       "      <th>out</th>\n",
       "    </tr>\n",
       "  </thead>\n",
       "  <tbody>\n",
       "    <tr>\n",
       "      <th>0</th>\n",
       "      <td>-0.691674</td>\n",
       "      <td>-0.432343</td>\n",
       "      <td>Ursula</td>\n",
       "      <td>-2.075023</td>\n",
       "      <td>-0.691674</td>\n",
       "    </tr>\n",
       "    <tr>\n",
       "      <th>1</th>\n",
       "      <td>0.480099</td>\n",
       "      <td>0.212166</td>\n",
       "      <td>George</td>\n",
       "      <td>1.440298</td>\n",
       "      <td>0.692266</td>\n",
       "    </tr>\n",
       "    <tr>\n",
       "      <th>2</th>\n",
       "      <td>-0.473370</td>\n",
       "      <td>0.888450</td>\n",
       "      <td>Norbert</td>\n",
       "      <td>-1.420110</td>\n",
       "      <td>-0.473370</td>\n",
       "    </tr>\n",
       "    <tr>\n",
       "      <th>3</th>\n",
       "      <td>0.067479</td>\n",
       "      <td>0.705471</td>\n",
       "      <td>Jerry</td>\n",
       "      <td>0.202436</td>\n",
       "      <td>0.772950</td>\n",
       "    </tr>\n",
       "    <tr>\n",
       "      <th>4</th>\n",
       "      <td>-0.970850</td>\n",
       "      <td>-0.995482</td>\n",
       "      <td>Norbert</td>\n",
       "      <td>-2.912550</td>\n",
       "      <td>-0.970850</td>\n",
       "    </tr>\n",
       "    <tr>\n",
       "      <th>5</th>\n",
       "      <td>0.837494</td>\n",
       "      <td>0.042452</td>\n",
       "      <td>Quinn</td>\n",
       "      <td>2.512482</td>\n",
       "      <td>0.879946</td>\n",
       "    </tr>\n",
       "    <tr>\n",
       "      <th>6</th>\n",
       "      <td>0.801430</td>\n",
       "      <td>0.104075</td>\n",
       "      <td>Alice</td>\n",
       "      <td>2.404289</td>\n",
       "      <td>0.905505</td>\n",
       "    </tr>\n",
       "    <tr>\n",
       "      <th>7</th>\n",
       "      <td>-0.933157</td>\n",
       "      <td>-0.029245</td>\n",
       "      <td>Oliver</td>\n",
       "      <td>-2.799471</td>\n",
       "      <td>-0.933157</td>\n",
       "    </tr>\n",
       "    <tr>\n",
       "      <th>8</th>\n",
       "      <td>0.913899</td>\n",
       "      <td>0.536268</td>\n",
       "      <td>Zelda</td>\n",
       "      <td>2.741696</td>\n",
       "      <td>1.450167</td>\n",
       "    </tr>\n",
       "    <tr>\n",
       "      <th>9</th>\n",
       "      <td>-0.725581</td>\n",
       "      <td>-0.678566</td>\n",
       "      <td>Yvonne</td>\n",
       "      <td>-2.176744</td>\n",
       "      <td>-0.725581</td>\n",
       "    </tr>\n",
       "  </tbody>\n",
       "</table>\n",
       "</div>"
      ],
      "text/plain": [
       "          a         b        c         e       out\n",
       "0 -0.691674 -0.432343   Ursula -2.075023 -0.691674\n",
       "1  0.480099  0.212166   George  1.440298  0.692266\n",
       "2 -0.473370  0.888450  Norbert -1.420110 -0.473370\n",
       "3  0.067479  0.705471    Jerry  0.202436  0.772950\n",
       "4 -0.970850 -0.995482  Norbert -2.912550 -0.970850\n",
       "5  0.837494  0.042452    Quinn  2.512482  0.879946\n",
       "6  0.801430  0.104075    Alice  2.404289  0.905505\n",
       "7 -0.933157 -0.029245   Oliver -2.799471 -0.933157\n",
       "8  0.913899  0.536268    Zelda  2.741696  1.450167\n",
       "9 -0.725581 -0.678566   Yvonne -2.176744 -0.725581"
      ]
     },
     "execution_count": 84,
     "metadata": {},
     "output_type": "execute_result"
    }
   ],
   "source": [
    "df = df.apply_rows(conditional_add,\n",
    "                   incols={'a':'x', 'b':'y'},\n",
    "                   outcols={'out': np.float64},\n",
    "                   kwargs={}\n",
    "                  )\n",
    "df"
   ]
  },
  {
   "cell_type": "markdown",
   "metadata": {
    "id": "1UxmC8_uk9eO"
   },
   "source": [
    "# Dask-Cudf"
   ]
  },
  {
   "cell_type": "code",
   "execution_count": null,
   "metadata": {
    "id": "Kf4hUjDMlGzm"
   },
   "outputs": [],
   "source": [
    "from dask_cuda import LocalCUDACluster\n",
    "from dask.distributed import Client, progress\n",
    "import dask_cudf\n",
    "import cudf\n",
    "import dask.dataframe as dd"
   ]
  },
  {
   "cell_type": "code",
   "execution_count": null,
   "metadata": {
    "colab": {
     "base_uri": "https://localhost:8080/",
     "height": 814
    },
    "id": "WByKYtORkA6F",
    "outputId": "3af9f9c1-591f-4275-d814-d5ebbeb0fc96"
   },
   "outputs": [
    {
     "name": "stderr",
     "output_type": "stream",
     "text": [
      "INFO:distributed.http.proxy:To route to workers diagnostics web server please install jupyter-server-proxy: python -m pip install jupyter-server-proxy\n",
      "INFO:distributed.scheduler:State start\n",
      "INFO:distributed.scheduler:  Scheduler at:     tcp://127.0.0.1:36165\n",
      "INFO:distributed.scheduler:  dashboard at:  http://127.0.0.1:8902/status\n",
      "INFO:distributed.scheduler:Registering Worker plugin shuffle\n",
      "INFO:distributed.nanny:        Start Nanny at: 'tcp://127.0.0.1:42715'\n",
      "INFO:distributed.scheduler:Register worker <WorkerState 'tcp://127.0.0.1:37063', name: 0, status: init, memory: 0, processing: 0>\n",
      "INFO:distributed.scheduler:Starting worker compute stream, tcp://127.0.0.1:37063\n",
      "INFO:distributed.core:Starting established connection to tcp://127.0.0.1:38420\n",
      "INFO:distributed.scheduler:Receive client connection: Client-85e2e613-9d29-11ef-820e-0242ac1c000c\n",
      "INFO:distributed.core:Starting established connection to tcp://127.0.0.1:38426\n"
     ]
    },
    {
     "data": {
      "text/html": [
       "<div>\n",
       "    <div style=\"width: 24px; height: 24px; background-color: #e1e1e1; border: 3px solid #9D9D9D; border-radius: 5px; position: absolute;\"> </div>\n",
       "    <div style=\"margin-left: 48px;\">\n",
       "        <h3 style=\"margin-bottom: 0px;\">Client</h3>\n",
       "        <p style=\"color: #9D9D9D; margin-bottom: 0px;\">Client-85e2e613-9d29-11ef-820e-0242ac1c000c</p>\n",
       "        <table style=\"width: 100%; text-align: left;\">\n",
       "\n",
       "        <tr>\n",
       "        \n",
       "            <td style=\"text-align: left;\"><strong>Connection method:</strong> Cluster object</td>\n",
       "            <td style=\"text-align: left;\"><strong>Cluster type:</strong> dask_cuda.LocalCUDACluster</td>\n",
       "        \n",
       "        </tr>\n",
       "\n",
       "        \n",
       "            <tr>\n",
       "                <td style=\"text-align: left;\">\n",
       "                    <strong>Dashboard: </strong> <a href=\"http://127.0.0.1:8902/status\" target=\"_blank\">http://127.0.0.1:8902/status</a>\n",
       "                </td>\n",
       "                <td style=\"text-align: left;\"></td>\n",
       "            </tr>\n",
       "        \n",
       "\n",
       "        </table>\n",
       "\n",
       "        \n",
       "\n",
       "        \n",
       "            <details>\n",
       "            <summary style=\"margin-bottom: 20px;\"><h3 style=\"display: inline;\">Cluster Info</h3></summary>\n",
       "            <div class=\"jp-RenderedHTMLCommon jp-RenderedHTML jp-mod-trusted jp-OutputArea-output\">\n",
       "    <div style=\"width: 24px; height: 24px; background-color: #e1e1e1; border: 3px solid #9D9D9D; border-radius: 5px; position: absolute;\">\n",
       "    </div>\n",
       "    <div style=\"margin-left: 48px;\">\n",
       "        <h3 style=\"margin-bottom: 0px; margin-top: 0px;\">LocalCUDACluster</h3>\n",
       "        <p style=\"color: #9D9D9D; margin-bottom: 0px;\">fec09c5a</p>\n",
       "        <table style=\"width: 100%; text-align: left;\">\n",
       "            <tr>\n",
       "                <td style=\"text-align: left;\">\n",
       "                    <strong>Dashboard:</strong> <a href=\"http://127.0.0.1:8902/status\" target=\"_blank\">http://127.0.0.1:8902/status</a>\n",
       "                </td>\n",
       "                <td style=\"text-align: left;\">\n",
       "                    <strong>Workers:</strong> 1\n",
       "                </td>\n",
       "            </tr>\n",
       "            <tr>\n",
       "                <td style=\"text-align: left;\">\n",
       "                    <strong>Total threads:</strong> 1\n",
       "                </td>\n",
       "                <td style=\"text-align: left;\">\n",
       "                    <strong>Total memory:</strong> 12.67 GiB\n",
       "                </td>\n",
       "            </tr>\n",
       "            \n",
       "            <tr>\n",
       "    <td style=\"text-align: left;\"><strong>Status:</strong> running</td>\n",
       "    <td style=\"text-align: left;\"><strong>Using processes:</strong> True</td>\n",
       "</tr>\n",
       "\n",
       "            \n",
       "        </table>\n",
       "\n",
       "        <details>\n",
       "            <summary style=\"margin-bottom: 20px;\">\n",
       "                <h3 style=\"display: inline;\">Scheduler Info</h3>\n",
       "            </summary>\n",
       "\n",
       "            <div style=\"\">\n",
       "    <div>\n",
       "        <div style=\"width: 24px; height: 24px; background-color: #FFF7E5; border: 3px solid #FF6132; border-radius: 5px; position: absolute;\"> </div>\n",
       "        <div style=\"margin-left: 48px;\">\n",
       "            <h3 style=\"margin-bottom: 0px;\">Scheduler</h3>\n",
       "            <p style=\"color: #9D9D9D; margin-bottom: 0px;\">Scheduler-f2ec9c77-a394-45ef-891a-f421a8a38f6f</p>\n",
       "            <table style=\"width: 100%; text-align: left;\">\n",
       "                <tr>\n",
       "                    <td style=\"text-align: left;\">\n",
       "                        <strong>Comm:</strong> tcp://127.0.0.1:36165\n",
       "                    </td>\n",
       "                    <td style=\"text-align: left;\">\n",
       "                        <strong>Workers:</strong> 1\n",
       "                    </td>\n",
       "                </tr>\n",
       "                <tr>\n",
       "                    <td style=\"text-align: left;\">\n",
       "                        <strong>Dashboard:</strong> <a href=\"http://127.0.0.1:8902/status\" target=\"_blank\">http://127.0.0.1:8902/status</a>\n",
       "                    </td>\n",
       "                    <td style=\"text-align: left;\">\n",
       "                        <strong>Total threads:</strong> 1\n",
       "                    </td>\n",
       "                </tr>\n",
       "                <tr>\n",
       "                    <td style=\"text-align: left;\">\n",
       "                        <strong>Started:</strong> Just now\n",
       "                    </td>\n",
       "                    <td style=\"text-align: left;\">\n",
       "                        <strong>Total memory:</strong> 12.67 GiB\n",
       "                    </td>\n",
       "                </tr>\n",
       "            </table>\n",
       "        </div>\n",
       "    </div>\n",
       "\n",
       "    <details style=\"margin-left: 48px;\">\n",
       "        <summary style=\"margin-bottom: 20px;\">\n",
       "            <h3 style=\"display: inline;\">Workers</h3>\n",
       "        </summary>\n",
       "\n",
       "        \n",
       "        <div style=\"margin-bottom: 20px;\">\n",
       "            <div style=\"width: 24px; height: 24px; background-color: #DBF5FF; border: 3px solid #4CC9FF; border-radius: 5px; position: absolute;\"> </div>\n",
       "            <div style=\"margin-left: 48px;\">\n",
       "            <details>\n",
       "                <summary>\n",
       "                    <h4 style=\"margin-bottom: 0px; display: inline;\">Worker: 0</h4>\n",
       "                </summary>\n",
       "                <table style=\"width: 100%; text-align: left;\">\n",
       "                    <tr>\n",
       "                        <td style=\"text-align: left;\">\n",
       "                            <strong>Comm: </strong> tcp://127.0.0.1:37063\n",
       "                        </td>\n",
       "                        <td style=\"text-align: left;\">\n",
       "                            <strong>Total threads: </strong> 1\n",
       "                        </td>\n",
       "                    </tr>\n",
       "                    <tr>\n",
       "                        <td style=\"text-align: left;\">\n",
       "                            <strong>Dashboard: </strong> <a href=\"http://127.0.0.1:37423/status\" target=\"_blank\">http://127.0.0.1:37423/status</a>\n",
       "                        </td>\n",
       "                        <td style=\"text-align: left;\">\n",
       "                            <strong>Memory: </strong> 12.67 GiB\n",
       "                        </td>\n",
       "                    </tr>\n",
       "                    <tr>\n",
       "                        <td style=\"text-align: left;\">\n",
       "                            <strong>Nanny: </strong> tcp://127.0.0.1:42715\n",
       "                        </td>\n",
       "                        <td style=\"text-align: left;\"></td>\n",
       "                    </tr>\n",
       "                    <tr>\n",
       "                        <td colspan=\"2\" style=\"text-align: left;\">\n",
       "                            <strong>Local directory: </strong> /tmp/dask-scratch-space/worker-h4srupie\n",
       "                        </td>\n",
       "                    </tr>\n",
       "\n",
       "                    \n",
       "\n",
       "                    \n",
       "\n",
       "                </table>\n",
       "            </details>\n",
       "            </div>\n",
       "        </div>\n",
       "        \n",
       "\n",
       "    </details>\n",
       "</div>\n",
       "\n",
       "        </details>\n",
       "    </div>\n",
       "</div>\n",
       "            </details>\n",
       "        \n",
       "\n",
       "    </div>\n",
       "</div>"
      ],
      "text/plain": [
       "<Client: 'tcp://127.0.0.1:36165' processes=1 threads=1, memory=12.67 GiB>"
      ]
     },
     "execution_count": 86,
     "metadata": {},
     "output_type": "execute_result"
    }
   ],
   "source": [
    "cluster = LocalCUDACluster(dashboard_address=':8902')\n",
    "client = Client(cluster)\n",
    "client"
   ]
  },
  {
   "cell_type": "markdown",
   "metadata": {
    "id": "lspZPQQRkR3x"
   },
   "source": [
    "В dask-cudf применяются ленивые вычисления. То есть мы что-то делаем только тогда, когда это необходимо, например, если вы просите вернуть какой-то ответ."
   ]
  },
  {
   "cell_type": "code",
   "execution_count": null,
   "metadata": {
    "colab": {
     "base_uri": "https://localhost:8080/",
     "height": 216
    },
    "id": "77BdVN5VkJ6n",
    "outputId": "5019e48c-fdd7-4bad-ff56-951afba95023"
   },
   "outputs": [
    {
     "name": "stdout",
     "output_type": "stream",
     "text": [
      "CPU times: user 44 ms, sys: 8.19 ms, total: 52.2 ms\n",
      "Wall time: 51.1 ms\n"
     ]
    },
    {
     "data": {
      "text/html": [
       "<div><strong>Dask DataFrame Structure:</strong></div>\n",
       "<table border=\"1\" class=\"dataframe\">\n",
       "  <thead>\n",
       "    <tr style=\"text-align: right;\">\n",
       "      <th></th>\n",
       "      <th>current_status</th>\n",
       "      <th>sex</th>\n",
       "      <th>age_group</th>\n",
       "      <th>Race and ethnicity (combined)</th>\n",
       "      <th>hosp_yn</th>\n",
       "      <th>icu_yn</th>\n",
       "      <th>death_yn</th>\n",
       "      <th>medcond_yn</th>\n",
       "    </tr>\n",
       "    <tr>\n",
       "      <th>npartitions=1</th>\n",
       "      <th></th>\n",
       "      <th></th>\n",
       "      <th></th>\n",
       "      <th></th>\n",
       "      <th></th>\n",
       "      <th></th>\n",
       "      <th></th>\n",
       "      <th></th>\n",
       "    </tr>\n",
       "  </thead>\n",
       "  <tbody>\n",
       "    <tr>\n",
       "      <th></th>\n",
       "      <td>object</td>\n",
       "      <td>object</td>\n",
       "      <td>object</td>\n",
       "      <td>object</td>\n",
       "      <td>object</td>\n",
       "      <td>object</td>\n",
       "      <td>object</td>\n",
       "      <td>object</td>\n",
       "    </tr>\n",
       "    <tr>\n",
       "      <th></th>\n",
       "      <td>...</td>\n",
       "      <td>...</td>\n",
       "      <td>...</td>\n",
       "      <td>...</td>\n",
       "      <td>...</td>\n",
       "      <td>...</td>\n",
       "      <td>...</td>\n",
       "      <td>...</td>\n",
       "    </tr>\n",
       "  </tbody>\n",
       "</table>\n",
       "<div>Dask Name: read_parquet, 1 expression</div>"
      ],
      "text/plain": [
       "Dask DataFrame Structure:\n",
       "              current_status     sex age_group Race and ethnicity (combined) hosp_yn  icu_yn death_yn medcond_yn\n",
       "npartitions=1                                                                                                   \n",
       "                      object  object    object                        object  object  object   object     object\n",
       "                         ...     ...       ...                           ...     ...     ...      ...        ...\n",
       "Dask Name: read_parquet, 1 expression\n",
       "Expr=ReadParquetFSSpec(aa9b8e1)"
      ]
     },
     "execution_count": 87,
     "metadata": {},
     "output_type": "execute_result"
    }
   ],
   "source": [
    "%time ddf = dask_cudf.read_parquet('covid.gzip')\n",
    "ddf"
   ]
  },
  {
   "cell_type": "code",
   "execution_count": null,
   "metadata": {
    "colab": {
     "base_uri": "https://localhost:8080/",
     "height": 176
    },
    "id": "cCggV3S7kaxC",
    "outputId": "7973d1ac-40a2-4433-e41a-8bc6abea28db"
   },
   "outputs": [
    {
     "data": {
      "image/svg+xml": [
       "<?xml version=\"1.0\" encoding=\"UTF-8\" standalone=\"no\"?>\n",
       "<!DOCTYPE svg PUBLIC \"-//W3C//DTD SVG 1.1//EN\"\n",
       " \"http://www.w3.org/Graphics/SVG/1.1/DTD/svg11.dtd\">\n",
       "<!-- Generated by graphviz version 2.43.0 (0)\n",
       " -->\n",
       "<!-- Title: %3 Pages: 1 -->\n",
       "<svg width=\"352pt\" height=\"116pt\"\n",
       " viewBox=\"0.00 0.00 352.00 116.00\" xmlns=\"http://www.w3.org/2000/svg\" xmlns:xlink=\"http://www.w3.org/1999/xlink\">\n",
       "<g id=\"graph0\" class=\"graph\" transform=\"scale(1 1) rotate(0) translate(4 112)\">\n",
       "<title>%3</title>\n",
       "<polygon fill=\"white\" stroke=\"transparent\" points=\"-4,4 -4,-112 348,-112 348,4 -4,4\"/>\n",
       "<!-- &#45;2422693055181431501 -->\n",
       "<g id=\"node1\" class=\"node\">\n",
       "<title>&#45;2422693055181431501</title>\n",
       "<polygon fill=\"none\" stroke=\"black\" points=\"344,-108 0,-108 0,-72 344,-72 344,-108\"/>\n",
       "<text text-anchor=\"middle\" x=\"172\" y=\"-85\" font-family=\"Helvetica,sans-Serif\" font-size=\"20.00\">DropnaFrame(ReadParquetFSSpec)</text>\n",
       "</g>\n",
       "<!-- 7292369060860341183 -->\n",
       "<g id=\"node2\" class=\"node\">\n",
       "<title>7292369060860341183</title>\n",
       "<polygon fill=\"none\" stroke=\"black\" points=\"275,-36 69,-36 69,0 275,0 275,-36\"/>\n",
       "<text text-anchor=\"middle\" x=\"172\" y=\"-13\" font-family=\"Helvetica,sans-Serif\" font-size=\"20.00\">ReadParquetFSSpec</text>\n",
       "</g>\n",
       "<!-- 7292369060860341183&#45;&gt;&#45;2422693055181431501 -->\n",
       "<g id=\"edge1\" class=\"edge\">\n",
       "<title>7292369060860341183&#45;&gt;&#45;2422693055181431501</title>\n",
       "<path fill=\"none\" stroke=\"black\" d=\"M172,-36.3C172,-44.02 172,-53.29 172,-61.89\"/>\n",
       "<polygon fill=\"black\" stroke=\"black\" points=\"168.5,-61.9 172,-71.9 175.5,-61.9 168.5,-61.9\"/>\n",
       "</g>\n",
       "</g>\n",
       "</svg>\n"
      ],
      "text/plain": [
       "<graphviz.graphs.Digraph at 0x79a2f1eec1f0>"
      ]
     },
     "execution_count": 88,
     "metadata": {},
     "output_type": "execute_result"
    }
   ],
   "source": [
    "gdf = ddf.dropna()\n",
    "gdf.visualize(format='svg')"
   ]
  },
  {
   "cell_type": "code",
   "execution_count": null,
   "metadata": {
    "colab": {
     "base_uri": "https://localhost:8080/",
     "height": 464
    },
    "id": "4KqgbLqrkewX",
    "outputId": "f9b8dcd5-cc7d-4b7c-a122-b5da41630c81"
   },
   "outputs": [
    {
     "data": {
      "image/svg+xml": [
       "<?xml version=\"1.0\" encoding=\"UTF-8\" standalone=\"no\"?>\n",
       "<!DOCTYPE svg PUBLIC \"-//W3C//DTD SVG 1.1//EN\"\n",
       " \"http://www.w3.org/Graphics/SVG/1.1/DTD/svg11.dtd\">\n",
       "<!-- Generated by graphviz version 2.43.0 (0)\n",
       " -->\n",
       "<!-- Title: %3 Pages: 1 -->\n",
       "<svg width=\"407pt\" height=\"332pt\"\n",
       " viewBox=\"0.00 0.00 407.00 332.00\" xmlns=\"http://www.w3.org/2000/svg\" xmlns:xlink=\"http://www.w3.org/1999/xlink\">\n",
       "<g id=\"graph0\" class=\"graph\" transform=\"scale(1 1) rotate(0) translate(4 328)\">\n",
       "<title>%3</title>\n",
       "<polygon fill=\"white\" stroke=\"transparent\" points=\"-4,4 -4,-328 403,-328 403,4 -4,4\"/>\n",
       "<!-- 8547349089385129773 -->\n",
       "<g id=\"node1\" class=\"node\">\n",
       "<title>8547349089385129773</title>\n",
       "<polygon fill=\"none\" stroke=\"black\" points=\"265,-324 39,-324 39,-288 265,-288 265,-324\"/>\n",
       "<text text-anchor=\"middle\" x=\"152\" y=\"-301\" font-family=\"Helvetica,sans-Serif\" font-size=\"20.00\">Loc(DropnaFrame, EQ)</text>\n",
       "</g>\n",
       "<!-- &#45;3218604735082301188 -->\n",
       "<g id=\"node2\" class=\"node\">\n",
       "<title>&#45;3218604735082301188</title>\n",
       "<polygon fill=\"none\" stroke=\"black\" points=\"338.5,-252 135.5,-252 135.5,-216 338.5,-216 338.5,-252\"/>\n",
       "<text text-anchor=\"middle\" x=\"237\" y=\"-229\" font-family=\"Helvetica,sans-Serif\" font-size=\"20.00\">EQ(Projection, Male)</text>\n",
       "</g>\n",
       "<!-- &#45;3218604735082301188&#45;&gt;8547349089385129773 -->\n",
       "<g id=\"edge2\" class=\"edge\">\n",
       "<title>&#45;3218604735082301188&#45;&gt;8547349089385129773</title>\n",
       "<path fill=\"none\" stroke=\"black\" d=\"M215.99,-252.3C205.28,-261.12 192.11,-271.97 180.5,-281.53\"/>\n",
       "<polygon fill=\"black\" stroke=\"black\" points=\"178.26,-278.84 172.77,-287.9 182.71,-284.24 178.26,-278.84\"/>\n",
       "</g>\n",
       "<!-- &#45;228861730321403953 -->\n",
       "<g id=\"node3\" class=\"node\">\n",
       "<title>&#45;228861730321403953</title>\n",
       "<polygon fill=\"none\" stroke=\"black\" points=\"399,-180 115,-180 115,-144 399,-144 399,-180\"/>\n",
       "<text text-anchor=\"middle\" x=\"257\" y=\"-157\" font-family=\"Helvetica,sans-Serif\" font-size=\"20.00\">Projection(DropnaFrame, sex)</text>\n",
       "</g>\n",
       "<!-- &#45;228861730321403953&#45;&gt;&#45;3218604735082301188 -->\n",
       "<g id=\"edge3\" class=\"edge\">\n",
       "<title>&#45;228861730321403953&#45;&gt;&#45;3218604735082301188</title>\n",
       "<path fill=\"none\" stroke=\"black\" d=\"M252.06,-180.3C249.83,-188.1 247.15,-197.49 244.67,-206.17\"/>\n",
       "<polygon fill=\"black\" stroke=\"black\" points=\"241.27,-205.32 241.89,-215.9 248,-207.24 241.27,-205.32\"/>\n",
       "</g>\n",
       "<!-- &#45;2422693055181431501 -->\n",
       "<g id=\"node4\" class=\"node\">\n",
       "<title>&#45;2422693055181431501</title>\n",
       "<polygon fill=\"none\" stroke=\"black\" points=\"344,-108 0,-108 0,-72 344,-72 344,-108\"/>\n",
       "<text text-anchor=\"middle\" x=\"172\" y=\"-85\" font-family=\"Helvetica,sans-Serif\" font-size=\"20.00\">DropnaFrame(ReadParquetFSSpec)</text>\n",
       "</g>\n",
       "<!-- &#45;2422693055181431501&#45;&gt;8547349089385129773 -->\n",
       "<g id=\"edge1\" class=\"edge\">\n",
       "<title>&#45;2422693055181431501&#45;&gt;8547349089385129773</title>\n",
       "<path fill=\"none\" stroke=\"black\" d=\"M139.95,-108.12C126.88,-116.95 113.18,-129.03 106,-144 84.29,-189.28 112.83,-246.77 133.68,-279.37\"/>\n",
       "<polygon fill=\"black\" stroke=\"black\" points=\"130.88,-281.46 139.32,-287.87 136.71,-277.6 130.88,-281.46\"/>\n",
       "</g>\n",
       "<!-- &#45;2422693055181431501&#45;&gt;&#45;228861730321403953 -->\n",
       "<g id=\"edge4\" class=\"edge\">\n",
       "<title>&#45;2422693055181431501&#45;&gt;&#45;228861730321403953</title>\n",
       "<path fill=\"none\" stroke=\"black\" d=\"M193.01,-108.3C203.72,-117.12 216.89,-127.97 228.5,-137.53\"/>\n",
       "<polygon fill=\"black\" stroke=\"black\" points=\"226.29,-140.24 236.23,-143.9 230.74,-134.84 226.29,-140.24\"/>\n",
       "</g>\n",
       "<!-- 7292369060860341183 -->\n",
       "<g id=\"node5\" class=\"node\">\n",
       "<title>7292369060860341183</title>\n",
       "<polygon fill=\"none\" stroke=\"black\" points=\"275,-36 69,-36 69,0 275,0 275,-36\"/>\n",
       "<text text-anchor=\"middle\" x=\"172\" y=\"-13\" font-family=\"Helvetica,sans-Serif\" font-size=\"20.00\">ReadParquetFSSpec</text>\n",
       "</g>\n",
       "<!-- 7292369060860341183&#45;&gt;&#45;2422693055181431501 -->\n",
       "<g id=\"edge5\" class=\"edge\">\n",
       "<title>7292369060860341183&#45;&gt;&#45;2422693055181431501</title>\n",
       "<path fill=\"none\" stroke=\"black\" d=\"M172,-36.3C172,-44.02 172,-53.29 172,-61.89\"/>\n",
       "<polygon fill=\"black\" stroke=\"black\" points=\"168.5,-61.9 172,-71.9 175.5,-61.9 168.5,-61.9\"/>\n",
       "</g>\n",
       "</g>\n",
       "</svg>\n"
      ],
      "text/plain": [
       "<graphviz.graphs.Digraph at 0x79a2f1eee2f0>"
      ]
     },
     "execution_count": 89,
     "metadata": {},
     "output_type": "execute_result"
    }
   ],
   "source": [
    "male_gdf = gdf.loc[gdf['sex']=='Male']\n",
    "male_gdf.visualize(format='svg')"
   ]
  },
  {
   "cell_type": "markdown",
   "metadata": {
    "id": "9753d2_KnBmv"
   },
   "source": [
    "А что если я хочу, чтобы уже что-то посчиталось предварительно, пока я буду дальше код писать?"
   ]
  },
  {
   "cell_type": "code",
   "execution_count": null,
   "metadata": {
    "colab": {
     "base_uri": "https://localhost:8080/",
     "height": 464
    },
    "id": "6aFj1NQpm5n0",
    "outputId": "e8c9b19a-a107-4e98-844d-888ebfd47936"
   },
   "outputs": [
    {
     "data": {
      "image/svg+xml": [
       "<?xml version=\"1.0\" encoding=\"UTF-8\" standalone=\"no\"?>\n",
       "<!DOCTYPE svg PUBLIC \"-//W3C//DTD SVG 1.1//EN\"\n",
       " \"http://www.w3.org/Graphics/SVG/1.1/DTD/svg11.dtd\">\n",
       "<!-- Generated by graphviz version 2.43.0 (0)\n",
       " -->\n",
       "<!-- Title: %3 Pages: 1 -->\n",
       "<svg width=\"407pt\" height=\"332pt\"\n",
       " viewBox=\"0.00 0.00 407.00 332.00\" xmlns=\"http://www.w3.org/2000/svg\" xmlns:xlink=\"http://www.w3.org/1999/xlink\">\n",
       "<g id=\"graph0\" class=\"graph\" transform=\"scale(1 1) rotate(0) translate(4 328)\">\n",
       "<title>%3</title>\n",
       "<polygon fill=\"white\" stroke=\"transparent\" points=\"-4,4 -4,-328 403,-328 403,4 -4,4\"/>\n",
       "<!-- 8547349089385129773 -->\n",
       "<g id=\"node1\" class=\"node\">\n",
       "<title>8547349089385129773</title>\n",
       "<polygon fill=\"none\" stroke=\"black\" points=\"265,-324 39,-324 39,-288 265,-288 265,-324\"/>\n",
       "<text text-anchor=\"middle\" x=\"152\" y=\"-301\" font-family=\"Helvetica,sans-Serif\" font-size=\"20.00\">Loc(DropnaFrame, EQ)</text>\n",
       "</g>\n",
       "<!-- &#45;3218604735082301188 -->\n",
       "<g id=\"node2\" class=\"node\">\n",
       "<title>&#45;3218604735082301188</title>\n",
       "<polygon fill=\"none\" stroke=\"black\" points=\"338.5,-252 135.5,-252 135.5,-216 338.5,-216 338.5,-252\"/>\n",
       "<text text-anchor=\"middle\" x=\"237\" y=\"-229\" font-family=\"Helvetica,sans-Serif\" font-size=\"20.00\">EQ(Projection, Male)</text>\n",
       "</g>\n",
       "<!-- &#45;3218604735082301188&#45;&gt;8547349089385129773 -->\n",
       "<g id=\"edge2\" class=\"edge\">\n",
       "<title>&#45;3218604735082301188&#45;&gt;8547349089385129773</title>\n",
       "<path fill=\"none\" stroke=\"black\" d=\"M215.99,-252.3C205.28,-261.12 192.11,-271.97 180.5,-281.53\"/>\n",
       "<polygon fill=\"black\" stroke=\"black\" points=\"178.26,-278.84 172.77,-287.9 182.71,-284.24 178.26,-278.84\"/>\n",
       "</g>\n",
       "<!-- &#45;228861730321403953 -->\n",
       "<g id=\"node3\" class=\"node\">\n",
       "<title>&#45;228861730321403953</title>\n",
       "<polygon fill=\"none\" stroke=\"black\" points=\"399,-180 115,-180 115,-144 399,-144 399,-180\"/>\n",
       "<text text-anchor=\"middle\" x=\"257\" y=\"-157\" font-family=\"Helvetica,sans-Serif\" font-size=\"20.00\">Projection(DropnaFrame, sex)</text>\n",
       "</g>\n",
       "<!-- &#45;228861730321403953&#45;&gt;&#45;3218604735082301188 -->\n",
       "<g id=\"edge3\" class=\"edge\">\n",
       "<title>&#45;228861730321403953&#45;&gt;&#45;3218604735082301188</title>\n",
       "<path fill=\"none\" stroke=\"black\" d=\"M252.06,-180.3C249.83,-188.1 247.15,-197.49 244.67,-206.17\"/>\n",
       "<polygon fill=\"black\" stroke=\"black\" points=\"241.27,-205.32 241.89,-215.9 248,-207.24 241.27,-205.32\"/>\n",
       "</g>\n",
       "<!-- &#45;2422693055181431501 -->\n",
       "<g id=\"node4\" class=\"node\">\n",
       "<title>&#45;2422693055181431501</title>\n",
       "<polygon fill=\"none\" stroke=\"black\" points=\"344,-108 0,-108 0,-72 344,-72 344,-108\"/>\n",
       "<text text-anchor=\"middle\" x=\"172\" y=\"-85\" font-family=\"Helvetica,sans-Serif\" font-size=\"20.00\">DropnaFrame(ReadParquetFSSpec)</text>\n",
       "</g>\n",
       "<!-- &#45;2422693055181431501&#45;&gt;8547349089385129773 -->\n",
       "<g id=\"edge1\" class=\"edge\">\n",
       "<title>&#45;2422693055181431501&#45;&gt;8547349089385129773</title>\n",
       "<path fill=\"none\" stroke=\"black\" d=\"M139.95,-108.12C126.88,-116.95 113.18,-129.03 106,-144 84.29,-189.28 112.83,-246.77 133.68,-279.37\"/>\n",
       "<polygon fill=\"black\" stroke=\"black\" points=\"130.88,-281.46 139.32,-287.87 136.71,-277.6 130.88,-281.46\"/>\n",
       "</g>\n",
       "<!-- &#45;2422693055181431501&#45;&gt;&#45;228861730321403953 -->\n",
       "<g id=\"edge4\" class=\"edge\">\n",
       "<title>&#45;2422693055181431501&#45;&gt;&#45;228861730321403953</title>\n",
       "<path fill=\"none\" stroke=\"black\" d=\"M193.01,-108.3C203.72,-117.12 216.89,-127.97 228.5,-137.53\"/>\n",
       "<polygon fill=\"black\" stroke=\"black\" points=\"226.29,-140.24 236.23,-143.9 230.74,-134.84 226.29,-140.24\"/>\n",
       "</g>\n",
       "<!-- 7292369060860341183 -->\n",
       "<g id=\"node5\" class=\"node\">\n",
       "<title>7292369060860341183</title>\n",
       "<polygon fill=\"none\" stroke=\"black\" points=\"275,-36 69,-36 69,0 275,0 275,-36\"/>\n",
       "<text text-anchor=\"middle\" x=\"172\" y=\"-13\" font-family=\"Helvetica,sans-Serif\" font-size=\"20.00\">ReadParquetFSSpec</text>\n",
       "</g>\n",
       "<!-- 7292369060860341183&#45;&gt;&#45;2422693055181431501 -->\n",
       "<g id=\"edge5\" class=\"edge\">\n",
       "<title>7292369060860341183&#45;&gt;&#45;2422693055181431501</title>\n",
       "<path fill=\"none\" stroke=\"black\" d=\"M172,-36.3C172,-44.02 172,-53.29 172,-61.89\"/>\n",
       "<polygon fill=\"black\" stroke=\"black\" points=\"168.5,-61.9 172,-71.9 175.5,-61.9 168.5,-61.9\"/>\n",
       "</g>\n",
       "</g>\n",
       "</svg>\n"
      ],
      "text/plain": [
       "<graphviz.graphs.Digraph at 0x79a2f1eed8a0>"
      ]
     },
     "execution_count": 90,
     "metadata": {},
     "output_type": "execute_result"
    }
   ],
   "source": [
    "copy_male_gdf = male_gdf.copy()\n",
    "copy_male_gdf.visualize(format='svg')"
   ]
  },
  {
   "cell_type": "markdown",
   "metadata": {
    "id": "5gv3xXU_nEED"
   },
   "source": [
    "А что если я хочу, чтобы уже что-то посчиталось предварительно, пока я буду дальше код писать?"
   ]
  },
  {
   "cell_type": "code",
   "execution_count": null,
   "metadata": {
    "colab": {
     "base_uri": "https://localhost:8080/",
     "height": 464
    },
    "id": "8cYbwi7bnHnG",
    "outputId": "500fe888-dd01-4def-9588-f79f294b7569"
   },
   "outputs": [
    {
     "data": {
      "image/svg+xml": [
       "<?xml version=\"1.0\" encoding=\"UTF-8\" standalone=\"no\"?>\n",
       "<!DOCTYPE svg PUBLIC \"-//W3C//DTD SVG 1.1//EN\"\n",
       " \"http://www.w3.org/Graphics/SVG/1.1/DTD/svg11.dtd\">\n",
       "<!-- Generated by graphviz version 2.43.0 (0)\n",
       " -->\n",
       "<!-- Title: %3 Pages: 1 -->\n",
       "<svg width=\"407pt\" height=\"332pt\"\n",
       " viewBox=\"0.00 0.00 407.00 332.00\" xmlns=\"http://www.w3.org/2000/svg\" xmlns:xlink=\"http://www.w3.org/1999/xlink\">\n",
       "<g id=\"graph0\" class=\"graph\" transform=\"scale(1 1) rotate(0) translate(4 328)\">\n",
       "<title>%3</title>\n",
       "<polygon fill=\"white\" stroke=\"transparent\" points=\"-4,4 -4,-328 403,-328 403,4 -4,4\"/>\n",
       "<!-- 8547349089385129773 -->\n",
       "<g id=\"node1\" class=\"node\">\n",
       "<title>8547349089385129773</title>\n",
       "<polygon fill=\"none\" stroke=\"black\" points=\"265,-324 39,-324 39,-288 265,-288 265,-324\"/>\n",
       "<text text-anchor=\"middle\" x=\"152\" y=\"-301\" font-family=\"Helvetica,sans-Serif\" font-size=\"20.00\">Loc(DropnaFrame, EQ)</text>\n",
       "</g>\n",
       "<!-- &#45;3218604735082301188 -->\n",
       "<g id=\"node2\" class=\"node\">\n",
       "<title>&#45;3218604735082301188</title>\n",
       "<polygon fill=\"none\" stroke=\"black\" points=\"338.5,-252 135.5,-252 135.5,-216 338.5,-216 338.5,-252\"/>\n",
       "<text text-anchor=\"middle\" x=\"237\" y=\"-229\" font-family=\"Helvetica,sans-Serif\" font-size=\"20.00\">EQ(Projection, Male)</text>\n",
       "</g>\n",
       "<!-- &#45;3218604735082301188&#45;&gt;8547349089385129773 -->\n",
       "<g id=\"edge2\" class=\"edge\">\n",
       "<title>&#45;3218604735082301188&#45;&gt;8547349089385129773</title>\n",
       "<path fill=\"none\" stroke=\"black\" d=\"M215.99,-252.3C205.28,-261.12 192.11,-271.97 180.5,-281.53\"/>\n",
       "<polygon fill=\"black\" stroke=\"black\" points=\"178.26,-278.84 172.77,-287.9 182.71,-284.24 178.26,-278.84\"/>\n",
       "</g>\n",
       "<!-- &#45;228861730321403953 -->\n",
       "<g id=\"node3\" class=\"node\">\n",
       "<title>&#45;228861730321403953</title>\n",
       "<polygon fill=\"none\" stroke=\"black\" points=\"399,-180 115,-180 115,-144 399,-144 399,-180\"/>\n",
       "<text text-anchor=\"middle\" x=\"257\" y=\"-157\" font-family=\"Helvetica,sans-Serif\" font-size=\"20.00\">Projection(DropnaFrame, sex)</text>\n",
       "</g>\n",
       "<!-- &#45;228861730321403953&#45;&gt;&#45;3218604735082301188 -->\n",
       "<g id=\"edge3\" class=\"edge\">\n",
       "<title>&#45;228861730321403953&#45;&gt;&#45;3218604735082301188</title>\n",
       "<path fill=\"none\" stroke=\"black\" d=\"M252.06,-180.3C249.83,-188.1 247.15,-197.49 244.67,-206.17\"/>\n",
       "<polygon fill=\"black\" stroke=\"black\" points=\"241.27,-205.32 241.89,-215.9 248,-207.24 241.27,-205.32\"/>\n",
       "</g>\n",
       "<!-- &#45;2422693055181431501 -->\n",
       "<g id=\"node4\" class=\"node\">\n",
       "<title>&#45;2422693055181431501</title>\n",
       "<polygon fill=\"none\" stroke=\"black\" points=\"344,-108 0,-108 0,-72 344,-72 344,-108\"/>\n",
       "<text text-anchor=\"middle\" x=\"172\" y=\"-85\" font-family=\"Helvetica,sans-Serif\" font-size=\"20.00\">DropnaFrame(ReadParquetFSSpec)</text>\n",
       "</g>\n",
       "<!-- &#45;2422693055181431501&#45;&gt;8547349089385129773 -->\n",
       "<g id=\"edge1\" class=\"edge\">\n",
       "<title>&#45;2422693055181431501&#45;&gt;8547349089385129773</title>\n",
       "<path fill=\"none\" stroke=\"black\" d=\"M139.95,-108.12C126.88,-116.95 113.18,-129.03 106,-144 84.29,-189.28 112.83,-246.77 133.68,-279.37\"/>\n",
       "<polygon fill=\"black\" stroke=\"black\" points=\"130.88,-281.46 139.32,-287.87 136.71,-277.6 130.88,-281.46\"/>\n",
       "</g>\n",
       "<!-- &#45;2422693055181431501&#45;&gt;&#45;228861730321403953 -->\n",
       "<g id=\"edge4\" class=\"edge\">\n",
       "<title>&#45;2422693055181431501&#45;&gt;&#45;228861730321403953</title>\n",
       "<path fill=\"none\" stroke=\"black\" d=\"M193.01,-108.3C203.72,-117.12 216.89,-127.97 228.5,-137.53\"/>\n",
       "<polygon fill=\"black\" stroke=\"black\" points=\"226.29,-140.24 236.23,-143.9 230.74,-134.84 226.29,-140.24\"/>\n",
       "</g>\n",
       "<!-- 7292369060860341183 -->\n",
       "<g id=\"node5\" class=\"node\">\n",
       "<title>7292369060860341183</title>\n",
       "<polygon fill=\"none\" stroke=\"black\" points=\"275,-36 69,-36 69,0 275,0 275,-36\"/>\n",
       "<text text-anchor=\"middle\" x=\"172\" y=\"-13\" font-family=\"Helvetica,sans-Serif\" font-size=\"20.00\">ReadParquetFSSpec</text>\n",
       "</g>\n",
       "<!-- 7292369060860341183&#45;&gt;&#45;2422693055181431501 -->\n",
       "<g id=\"edge5\" class=\"edge\">\n",
       "<title>7292369060860341183&#45;&gt;&#45;2422693055181431501</title>\n",
       "<path fill=\"none\" stroke=\"black\" d=\"M172,-36.3C172,-44.02 172,-53.29 172,-61.89\"/>\n",
       "<polygon fill=\"black\" stroke=\"black\" points=\"168.5,-61.9 172,-71.9 175.5,-61.9 168.5,-61.9\"/>\n",
       "</g>\n",
       "</g>\n",
       "</svg>\n"
      ],
      "text/plain": [
       "<graphviz.graphs.Digraph at 0x79a3d812d000>"
      ]
     },
     "execution_count": 91,
     "metadata": {},
     "output_type": "execute_result"
    }
   ],
   "source": [
    "copy_male_gdf = male_gdf.copy()\n",
    "copy_male_gdf.visualize(format='svg')"
   ]
  },
  {
   "cell_type": "markdown",
   "metadata": {
    "id": "uNnghVlKnH1A"
   },
   "source": [
    "Строчкой ниже мы попросили посчитать все и положить это в память. Действие особенно полезно при использовании распределенных систем,\n",
    "поскольку результаты будут храниться в распределенной памяти, а не возвращаться в один локальный процесс"
   ]
  },
  {
   "cell_type": "code",
   "execution_count": null,
   "metadata": {
    "colab": {
     "base_uri": "https://localhost:8080/",
     "height": 80
    },
    "id": "P1a-cYfRnclR",
    "outputId": "342bdb98-872a-4f91-ee8c-7f226c87588c"
   },
   "outputs": [
    {
     "data": {
      "image/svg+xml": [
       "<?xml version=\"1.0\" encoding=\"UTF-8\" standalone=\"no\"?>\n",
       "<!DOCTYPE svg PUBLIC \"-//W3C//DTD SVG 1.1//EN\"\n",
       " \"http://www.w3.org/Graphics/SVG/1.1/DTD/svg11.dtd\">\n",
       "<!-- Generated by graphviz version 2.43.0 (0)\n",
       " -->\n",
       "<!-- Title: %3 Pages: 1 -->\n",
       "<svg width=\"127pt\" height=\"44pt\"\n",
       " viewBox=\"0.00 0.00 127.00 44.00\" xmlns=\"http://www.w3.org/2000/svg\" xmlns:xlink=\"http://www.w3.org/1999/xlink\">\n",
       "<g id=\"graph0\" class=\"graph\" transform=\"scale(1 1) rotate(0) translate(4 40)\">\n",
       "<title>%3</title>\n",
       "<polygon fill=\"white\" stroke=\"transparent\" points=\"-4,4 -4,-40 123,-40 123,4 -4,4\"/>\n",
       "<!-- 802851564132549784 -->\n",
       "<g id=\"node1\" class=\"node\">\n",
       "<title>802851564132549784</title>\n",
       "<polygon fill=\"none\" stroke=\"black\" points=\"119,-36 0,-36 0,0 119,0 119,-36\"/>\n",
       "<text text-anchor=\"middle\" x=\"59.5\" y=\"-13\" font-family=\"Helvetica,sans-Serif\" font-size=\"20.00\">FromGraph</text>\n",
       "</g>\n",
       "</g>\n",
       "</svg>\n"
      ],
      "text/plain": [
       "<graphviz.graphs.Digraph at 0x79a3d812d0f0>"
      ]
     },
     "execution_count": 92,
     "metadata": {},
     "output_type": "execute_result"
    }
   ],
   "source": [
    "copy_male_gdf = copy_male_gdf.persist()\n",
    "copy_male_gdf.visualize(format='svg')"
   ]
  },
  {
   "cell_type": "markdown",
   "metadata": {
    "id": "Nh66fz3Tnxda"
   },
   "source": [
    "Выполнили compute = сложили данные на одну видеокарту и тип данных уже cudf"
   ]
  },
  {
   "cell_type": "code",
   "execution_count": null,
   "metadata": {
    "colab": {
     "base_uri": "https://localhost:8080/",
     "height": 476
    },
    "id": "ULKJ16pgnx_E",
    "outputId": "fde6657c-57bb-4339-f78b-0bc7a9bd04f8"
   },
   "outputs": [
    {
     "ename": "AttributeError",
     "evalue": "DataFrame object has no attribute compute",
     "output_type": "error",
     "traceback": [
      "\u001b[0;31m---------------------------------------------------------------------------\u001b[0m",
      "\u001b[0;31mKeyError\u001b[0m                                  Traceback (most recent call last)",
      "\u001b[0;32m/usr/local/lib/python3.10/dist-packages/cudf/utils/utils.py\u001b[0m in \u001b[0;36m__getattr__\u001b[0;34m(self, key)\u001b[0m\n\u001b[1;32m    227\u001b[0m         \u001b[0;32mtry\u001b[0m\u001b[0;34m:\u001b[0m\u001b[0;34m\u001b[0m\u001b[0;34m\u001b[0m\u001b[0m\n\u001b[0;32m--> 228\u001b[0;31m             \u001b[0;32mreturn\u001b[0m \u001b[0mself\u001b[0m\u001b[0;34m[\u001b[0m\u001b[0mkey\u001b[0m\u001b[0;34m]\u001b[0m\u001b[0;34m\u001b[0m\u001b[0;34m\u001b[0m\u001b[0m\n\u001b[0m\u001b[1;32m    229\u001b[0m         \u001b[0;32mexcept\u001b[0m \u001b[0mKeyError\u001b[0m\u001b[0;34m:\u001b[0m\u001b[0;34m\u001b[0m\u001b[0;34m\u001b[0m\u001b[0m\n",
      "\u001b[0;32m/usr/local/lib/python3.10/dist-packages/cudf/utils/performance_tracking.py\u001b[0m in \u001b[0;36mwrapper\u001b[0;34m(*args, **kwargs)\u001b[0m\n\u001b[1;32m     50\u001b[0m                 )\n\u001b[0;32m---> 51\u001b[0;31m             \u001b[0;32mreturn\u001b[0m \u001b[0mfunc\u001b[0m\u001b[0;34m(\u001b[0m\u001b[0;34m*\u001b[0m\u001b[0margs\u001b[0m\u001b[0;34m,\u001b[0m \u001b[0;34m**\u001b[0m\u001b[0mkwargs\u001b[0m\u001b[0;34m)\u001b[0m\u001b[0;34m\u001b[0m\u001b[0;34m\u001b[0m\u001b[0m\n\u001b[0m\u001b[1;32m     52\u001b[0m \u001b[0;34m\u001b[0m\u001b[0m\n",
      "\u001b[0;32m/usr/local/lib/python3.10/dist-packages/cudf/core/dataframe.py\u001b[0m in \u001b[0;36m__getitem__\u001b[0;34m(self, arg)\u001b[0m\n\u001b[1;32m   1346\u001b[0m         \u001b[0;32mif\u001b[0m \u001b[0m_is_scalar_or_zero_d_array\u001b[0m\u001b[0;34m(\u001b[0m\u001b[0marg\u001b[0m\u001b[0;34m)\u001b[0m \u001b[0;32mor\u001b[0m \u001b[0misinstance\u001b[0m\u001b[0;34m(\u001b[0m\u001b[0marg\u001b[0m\u001b[0;34m,\u001b[0m \u001b[0mtuple\u001b[0m\u001b[0;34m)\u001b[0m\u001b[0;34m:\u001b[0m\u001b[0;34m\u001b[0m\u001b[0;34m\u001b[0m\u001b[0m\n\u001b[0;32m-> 1347\u001b[0;31m             \u001b[0mout\u001b[0m \u001b[0;34m=\u001b[0m \u001b[0mself\u001b[0m\u001b[0;34m.\u001b[0m\u001b[0m_get_columns_by_label\u001b[0m\u001b[0;34m(\u001b[0m\u001b[0marg\u001b[0m\u001b[0;34m)\u001b[0m\u001b[0;34m\u001b[0m\u001b[0;34m\u001b[0m\u001b[0m\n\u001b[0m\u001b[1;32m   1348\u001b[0m             \u001b[0;32mif\u001b[0m \u001b[0mis_scalar\u001b[0m\u001b[0;34m(\u001b[0m\u001b[0marg\u001b[0m\u001b[0;34m)\u001b[0m\u001b[0;34m:\u001b[0m\u001b[0;34m\u001b[0m\u001b[0;34m\u001b[0m\u001b[0m\n",
      "\u001b[0;32m/usr/local/lib/python3.10/dist-packages/cudf/utils/performance_tracking.py\u001b[0m in \u001b[0;36mwrapper\u001b[0;34m(*args, **kwargs)\u001b[0m\n\u001b[1;32m     50\u001b[0m                 )\n\u001b[0;32m---> 51\u001b[0;31m             \u001b[0;32mreturn\u001b[0m \u001b[0mfunc\u001b[0m\u001b[0;34m(\u001b[0m\u001b[0;34m*\u001b[0m\u001b[0margs\u001b[0m\u001b[0;34m,\u001b[0m \u001b[0;34m**\u001b[0m\u001b[0mkwargs\u001b[0m\u001b[0;34m)\u001b[0m\u001b[0;34m\u001b[0m\u001b[0;34m\u001b[0m\u001b[0m\n\u001b[0m\u001b[1;32m     52\u001b[0m \u001b[0;34m\u001b[0m\u001b[0m\n",
      "\u001b[0;32m/usr/local/lib/python3.10/dist-packages/cudf/core/frame.py\u001b[0m in \u001b[0;36m_get_columns_by_label\u001b[0;34m(self, labels)\u001b[0m\n\u001b[1;32m    357\u001b[0m         \"\"\"\n\u001b[0;32m--> 358\u001b[0;31m         \u001b[0;32mreturn\u001b[0m \u001b[0mself\u001b[0m\u001b[0;34m.\u001b[0m\u001b[0m_from_data_like_self\u001b[0m\u001b[0;34m(\u001b[0m\u001b[0mself\u001b[0m\u001b[0;34m.\u001b[0m\u001b[0m_data\u001b[0m\u001b[0;34m.\u001b[0m\u001b[0mselect_by_label\u001b[0m\u001b[0;34m(\u001b[0m\u001b[0mlabels\u001b[0m\u001b[0;34m)\u001b[0m\u001b[0;34m)\u001b[0m\u001b[0;34m\u001b[0m\u001b[0;34m\u001b[0m\u001b[0m\n\u001b[0m\u001b[1;32m    359\u001b[0m \u001b[0;34m\u001b[0m\u001b[0m\n",
      "\u001b[0;32m/usr/local/lib/python3.10/dist-packages/cudf/core/column_accessor.py\u001b[0m in \u001b[0;36mselect_by_label\u001b[0;34m(self, key)\u001b[0m\n\u001b[1;32m    400\u001b[0m                     \u001b[0;32mreturn\u001b[0m \u001b[0mself\u001b[0m\u001b[0;34m.\u001b[0m\u001b[0m_select_by_label_with_wildcard\u001b[0m\u001b[0;34m(\u001b[0m\u001b[0mkey\u001b[0m\u001b[0;34m)\u001b[0m\u001b[0;34m\u001b[0m\u001b[0;34m\u001b[0m\u001b[0m\n\u001b[0;32m--> 401\u001b[0;31m             \u001b[0;32mreturn\u001b[0m \u001b[0mself\u001b[0m\u001b[0;34m.\u001b[0m\u001b[0m_select_by_label_grouped\u001b[0m\u001b[0;34m(\u001b[0m\u001b[0mkey\u001b[0m\u001b[0;34m)\u001b[0m\u001b[0;34m\u001b[0m\u001b[0;34m\u001b[0m\u001b[0m\n\u001b[0m\u001b[1;32m    402\u001b[0m \u001b[0;34m\u001b[0m\u001b[0m\n",
      "\u001b[0;32m/usr/local/lib/python3.10/dist-packages/cudf/core/column_accessor.py\u001b[0m in \u001b[0;36m_select_by_label_grouped\u001b[0;34m(self, key)\u001b[0m\n\u001b[1;32m    562\u001b[0m     \u001b[0;32mdef\u001b[0m \u001b[0m_select_by_label_grouped\u001b[0m\u001b[0;34m(\u001b[0m\u001b[0mself\u001b[0m\u001b[0;34m,\u001b[0m \u001b[0mkey\u001b[0m\u001b[0;34m:\u001b[0m \u001b[0mabc\u001b[0m\u001b[0;34m.\u001b[0m\u001b[0mHashable\u001b[0m\u001b[0;34m)\u001b[0m \u001b[0;34m->\u001b[0m \u001b[0mSelf\u001b[0m\u001b[0;34m:\u001b[0m\u001b[0;34m\u001b[0m\u001b[0;34m\u001b[0m\u001b[0m\n\u001b[0;32m--> 563\u001b[0;31m         \u001b[0mresult\u001b[0m \u001b[0;34m=\u001b[0m \u001b[0mself\u001b[0m\u001b[0;34m.\u001b[0m\u001b[0m_grouped_data\u001b[0m\u001b[0;34m[\u001b[0m\u001b[0mkey\u001b[0m\u001b[0;34m]\u001b[0m\u001b[0;34m\u001b[0m\u001b[0;34m\u001b[0m\u001b[0m\n\u001b[0m\u001b[1;32m    564\u001b[0m         \u001b[0;32mif\u001b[0m \u001b[0misinstance\u001b[0m\u001b[0;34m(\u001b[0m\u001b[0mresult\u001b[0m\u001b[0;34m,\u001b[0m \u001b[0mcolumn\u001b[0m\u001b[0;34m.\u001b[0m\u001b[0mColumnBase\u001b[0m\u001b[0;34m)\u001b[0m\u001b[0;34m:\u001b[0m\u001b[0;34m\u001b[0m\u001b[0;34m\u001b[0m\u001b[0m\n",
      "\u001b[0;31mKeyError\u001b[0m: 'compute'",
      "\nDuring handling of the above exception, another exception occurred:\n",
      "\u001b[0;31mAttributeError\u001b[0m                            Traceback (most recent call last)",
      "\u001b[0;32m<timed eval>\u001b[0m in \u001b[0;36m<module>\u001b[0;34m\u001b[0m\n",
      "\u001b[0;32m/usr/local/lib/python3.10/dist-packages/cudf/utils/utils.py\u001b[0m in \u001b[0;36m__getattr__\u001b[0;34m(self, key)\u001b[0m\n\u001b[1;32m    228\u001b[0m             \u001b[0;32mreturn\u001b[0m \u001b[0mself\u001b[0m\u001b[0;34m[\u001b[0m\u001b[0mkey\u001b[0m\u001b[0;34m]\u001b[0m\u001b[0;34m\u001b[0m\u001b[0;34m\u001b[0m\u001b[0m\n\u001b[1;32m    229\u001b[0m         \u001b[0;32mexcept\u001b[0m \u001b[0mKeyError\u001b[0m\u001b[0;34m:\u001b[0m\u001b[0;34m\u001b[0m\u001b[0;34m\u001b[0m\u001b[0m\n\u001b[0;32m--> 230\u001b[0;31m             raise AttributeError(\n\u001b[0m\u001b[1;32m    231\u001b[0m                 \u001b[0;34mf\"{type(self).__name__} object has no attribute {key}\"\u001b[0m\u001b[0;34m\u001b[0m\u001b[0;34m\u001b[0m\u001b[0m\n\u001b[1;32m    232\u001b[0m             )\n",
      "\u001b[0;31mAttributeError\u001b[0m: DataFrame object has no attribute compute"
     ]
    }
   ],
   "source": [
    "%time male_gdf.compute()"
   ]
  },
  {
   "cell_type": "code",
   "execution_count": null,
   "metadata": {
    "colab": {
     "base_uri": "https://localhost:8080/"
    },
    "id": "GFSBOnhXn2of",
    "outputId": "b23021d3-c1cb-46a6-a7d3-8ca407b898e9"
   },
   "outputs": [
    {
     "data": {
      "text/plain": [
       "age_group\n",
       "20 - 29 Years    0.191633\n",
       "30 - 39 Years    0.165641\n",
       "40 - 49 Years    0.151239\n",
       "50 - 59 Years    0.148654\n",
       "60 - 69 Years    0.106568\n",
       "10 - 19 Years    0.100292\n",
       "70 - 79 Years    0.058702\n",
       "0 - 9 Years      0.038190\n",
       "80+ Years        0.035535\n",
       "Unknown          0.003546\n",
       "Name: count, dtype: float64"
      ]
     },
     "execution_count": 94,
     "metadata": {},
     "output_type": "execute_result"
    }
   ],
   "source": [
    "male_gdf = male_gdf.compute()\n",
    "male_gdf['age_group'].value_counts() / male_gdf.shape[0]"
   ]
  },
  {
   "cell_type": "markdown",
   "metadata": {
    "id": "iClHYeHzn7tf"
   },
   "source": [
    "### В целом все очень похоже на cudf. Но еще пара моментов"
   ]
  },
  {
   "cell_type": "code",
   "execution_count": null,
   "metadata": {
    "colab": {
     "base_uri": "https://localhost:8080/"
    },
    "id": "RIPxLqxcoCFC",
    "outputId": "c1ccdcb9-9767-4a71-f557-7542af7af216"
   },
   "outputs": [
    {
     "data": {
      "text/plain": [
       "a   -0.069423\n",
       "b    0.035325\n",
       "dtype: float64"
      ]
     },
     "execution_count": 97,
     "metadata": {},
     "output_type": "execute_result"
    }
   ],
   "source": [
    "from cudf.datasets import randomdata\n",
    "\n",
    "df = randomdata(nrows=10, dtypes={'a':float, 'b':float}, seed=12)\n",
    "df.mean()"
   ]
  },
  {
   "cell_type": "markdown",
   "metadata": {
    "id": "vNGlicK7oDf5"
   },
   "source": [
    "Перевод из cudf в dask-cudf"
   ]
  },
  {
   "cell_type": "code",
   "execution_count": null,
   "metadata": {
    "colab": {
     "base_uri": "https://localhost:8080/",
     "height": 187
    },
    "id": "hpyEdhWHoCrB",
    "outputId": "aa85f2c5-79c3-4988-eab9-e3770c2905c3"
   },
   "outputs": [
    {
     "data": {
      "text/html": [
       "<div style=\"max-width:800px; border: 1px solid var(--colab-border-color);\"><style>\n",
       "      pre.function-repr-contents {\n",
       "        overflow-x: auto;\n",
       "        padding: 8px 12px;\n",
       "        max-height: 500px;\n",
       "      }\n",
       "\n",
       "      pre.function-repr-contents.function-repr-contents-collapsed {\n",
       "        cursor: pointer;\n",
       "        max-height: 100px;\n",
       "      }\n",
       "    </style>\n",
       "    <pre style=\"white-space: initial; background:\n",
       "         var(--colab-secondary-surface-color); padding: 8px 12px;\n",
       "         border-bottom: 1px solid var(--colab-border-color);\"><b>dask_cudf.expr._collection.DataFrame</b><br/>def __init__(expr)</pre><pre class=\"function-repr-contents function-repr-contents-collapsed\" style=\"\"><a class=\"filepath\" style=\"display:none\" href=\"#\">/usr/local/lib/python3.10/dist-packages/dask_cudf/expr/_collection.py</a>DataFrame-like Expr Collection.\n",
       "\n",
       "The constructor takes the expression that represents the query as input. The class\n",
       "is not meant to be instantiated directly. Instead, use one of the IO connectors from\n",
       "Dask.</pre>\n",
       "      <script>\n",
       "      if (google.colab.kernel.accessAllowed && google.colab.files && google.colab.files.view) {\n",
       "        for (const element of document.querySelectorAll('.filepath')) {\n",
       "          element.style.display = 'block'\n",
       "          element.onclick = (event) => {\n",
       "            event.preventDefault();\n",
       "            event.stopPropagation();\n",
       "            google.colab.files.view(element.textContent, 106);\n",
       "          };\n",
       "        }\n",
       "      }\n",
       "      for (const element of document.querySelectorAll('.function-repr-contents')) {\n",
       "        element.onclick = (event) => {\n",
       "          event.preventDefault();\n",
       "          event.stopPropagation();\n",
       "          element.classList.toggle('function-repr-contents-collapsed');\n",
       "        };\n",
       "      }\n",
       "      </script>\n",
       "      </div>"
      ],
      "text/plain": [
       "dask_cudf.expr._collection.DataFrame"
      ]
     },
     "execution_count": 98,
     "metadata": {},
     "output_type": "execute_result"
    }
   ],
   "source": [
    "ddf = dask_cudf.from_cudf(df, npartitions=2)\n",
    "type(ddf)"
   ]
  },
  {
   "cell_type": "code",
   "execution_count": null,
   "metadata": {
    "colab": {
     "base_uri": "https://localhost:8080/"
    },
    "id": "w5Svsws6oILY",
    "outputId": "84669062-059d-49bf-cda8-a422f3235336"
   },
   "outputs": [
    {
     "data": {
      "text/plain": [
       "a   -0.069423\n",
       "b    0.035325\n",
       "dtype: float64"
      ]
     },
     "execution_count": 99,
     "metadata": {},
     "output_type": "execute_result"
    }
   ],
   "source": [
    "ddf.mean().compute()"
   ]
  },
  {
   "cell_type": "markdown",
   "metadata": {
    "id": "3G_3tVFaoMDj"
   },
   "source": [
    "В dask-cudf пока нельзя применять метод apply к отдельному столбцу напрямую, можно только к каждой партиции через map_partitions."
   ]
  },
  {
   "cell_type": "code",
   "execution_count": null,
   "metadata": {
    "colab": {
     "base_uri": "https://localhost:8080/"
    },
    "id": "cwTqAs0ToLhM",
    "outputId": "b0021aa1-7ab2-406c-9b39-1ec4d0624bc7"
   },
   "outputs": [
    {
     "data": {
      "text/plain": [
       "0     9.308326\n",
       "1    10.480099\n",
       "2     9.526630\n",
       "3    10.067479\n",
       "4     9.029150\n",
       "5    10.837494\n",
       "6    10.801430\n",
       "7     9.066843\n",
       "8    10.913899\n",
       "9     9.274419\n",
       "Name: a, dtype: float64"
      ]
     },
     "execution_count": 100,
     "metadata": {},
     "output_type": "execute_result"
    }
   ],
   "source": [
    "def add_ten(num):\n",
    "    return num + 10\n",
    "\n",
    "ddf['a'].map_partitions(add_ten).compute()"
   ]
  },
  {
   "cell_type": "markdown",
   "metadata": {
    "id": "wpQbsQ9GoWOC"
   },
   "source": [
    "Транспонировать партицированные данные пока тоже нельзя, придется сначала выполнить медот compute(), но если в одну видеокарту не влезет, то не выйдет (( А еще если есть переменные типа string, то также не выйдет транспонировать"
   ]
  },
  {
   "cell_type": "code",
   "execution_count": null,
   "metadata": {
    "colab": {
     "base_uri": "https://localhost:8080/",
     "height": 589
    },
    "id": "h5ID7O0Bofcp",
    "outputId": "a0c59503-1fc7-4aba-dd07-54278f054b14"
   },
   "outputs": [
    {
     "ename": "AttributeError",
     "evalue": "'DataFrame' object has no attribute 'T'",
     "output_type": "error",
     "traceback": [
      "\u001b[0;31m---------------------------------------------------------------------------\u001b[0m",
      "\u001b[0;31mAttributeError\u001b[0m                            Traceback (most recent call last)",
      "\u001b[0;32m/usr/local/lib/python3.10/dist-packages/dask_expr/_core.py\u001b[0m in \u001b[0;36m__getattr__\u001b[0;34m(self, key)\u001b[0m\n\u001b[1;32m    469\u001b[0m         \u001b[0;32mtry\u001b[0m\u001b[0;34m:\u001b[0m\u001b[0;34m\u001b[0m\u001b[0;34m\u001b[0m\u001b[0m\n\u001b[0;32m--> 470\u001b[0;31m             \u001b[0;32mreturn\u001b[0m \u001b[0mobject\u001b[0m\u001b[0;34m.\u001b[0m\u001b[0m__getattribute__\u001b[0m\u001b[0;34m(\u001b[0m\u001b[0mself\u001b[0m\u001b[0;34m,\u001b[0m \u001b[0mkey\u001b[0m\u001b[0;34m)\u001b[0m\u001b[0;34m\u001b[0m\u001b[0;34m\u001b[0m\u001b[0m\n\u001b[0m\u001b[1;32m    471\u001b[0m         \u001b[0;32mexcept\u001b[0m \u001b[0mAttributeError\u001b[0m \u001b[0;32mas\u001b[0m \u001b[0merr\u001b[0m\u001b[0;34m:\u001b[0m\u001b[0;34m\u001b[0m\u001b[0;34m\u001b[0m\u001b[0m\n",
      "\u001b[0;31mAttributeError\u001b[0m: 'FromPandas' object has no attribute 'T'",
      "\nDuring handling of the above exception, another exception occurred:\n",
      "\u001b[0;31mAttributeError\u001b[0m                            Traceback (most recent call last)",
      "\u001b[0;32m/usr/local/lib/python3.10/dist-packages/dask_expr/_collection.py\u001b[0m in \u001b[0;36m__getattr__\u001b[0;34m(self, key)\u001b[0m\n\u001b[1;32m    619\u001b[0m                 \u001b[0;31m# (Making sure to convert to/from Expr)\u001b[0m\u001b[0;34m\u001b[0m\u001b[0;34m\u001b[0m\u001b[0m\n\u001b[0;32m--> 620\u001b[0;31m                 \u001b[0mval\u001b[0m \u001b[0;34m=\u001b[0m \u001b[0mgetattr\u001b[0m\u001b[0;34m(\u001b[0m\u001b[0mself\u001b[0m\u001b[0;34m.\u001b[0m\u001b[0mexpr\u001b[0m\u001b[0;34m,\u001b[0m \u001b[0mkey\u001b[0m\u001b[0;34m)\u001b[0m\u001b[0;34m\u001b[0m\u001b[0;34m\u001b[0m\u001b[0m\n\u001b[0m\u001b[1;32m    621\u001b[0m                 \u001b[0;32mif\u001b[0m \u001b[0mcallable\u001b[0m\u001b[0;34m(\u001b[0m\u001b[0mval\u001b[0m\u001b[0;34m)\u001b[0m\u001b[0;34m:\u001b[0m\u001b[0;34m\u001b[0m\u001b[0;34m\u001b[0m\u001b[0m\n",
      "\u001b[0;32m/usr/local/lib/python3.10/dist-packages/dask_expr/_core.py\u001b[0m in \u001b[0;36m__getattr__\u001b[0;34m(self, key)\u001b[0m\n\u001b[1;32m    490\u001b[0m             \u001b[0mlink\u001b[0m \u001b[0;34m=\u001b[0m \u001b[0;34m\"https://github.com/dask-contrib/dask-expr/blob/main/README.md#api-coverage\"\u001b[0m\u001b[0;34m\u001b[0m\u001b[0;34m\u001b[0m\u001b[0m\n\u001b[0;32m--> 491\u001b[0;31m             raise AttributeError(\n\u001b[0m\u001b[1;32m    492\u001b[0m                 \u001b[0;34mf\"{err}\\n\\n\"\u001b[0m\u001b[0;34m\u001b[0m\u001b[0;34m\u001b[0m\u001b[0m\n",
      "\u001b[0;31mAttributeError\u001b[0m: 'FromPandas' object has no attribute 'T'\n\nThis often means that you are attempting to use an unsupported API function. Current API coverage is documented here: https://github.com/dask-contrib/dask-expr/blob/main/README.md#api-coverage.",
      "\nDuring handling of the above exception, another exception occurred:\n",
      "\u001b[0;31mAttributeError\u001b[0m                            Traceback (most recent call last)",
      "\u001b[0;32m<ipython-input-101-90c42514cfd1>\u001b[0m in \u001b[0;36m<cell line: 1>\u001b[0;34m()\u001b[0m\n\u001b[0;32m----> 1\u001b[0;31m \u001b[0mddf\u001b[0m\u001b[0;34m.\u001b[0m\u001b[0mT\u001b[0m\u001b[0;34m\u001b[0m\u001b[0;34m\u001b[0m\u001b[0m\n\u001b[0m",
      "\u001b[0;32m/usr/local/lib/python3.10/dist-packages/dask_expr/_collection.py\u001b[0m in \u001b[0;36m__getattr__\u001b[0;34m(self, key)\u001b[0m\n\u001b[1;32m   3074\u001b[0m             \u001b[0;32mexcept\u001b[0m \u001b[0mAttributeError\u001b[0m\u001b[0;34m:\u001b[0m\u001b[0;34m\u001b[0m\u001b[0;34m\u001b[0m\u001b[0m\n\u001b[1;32m   3075\u001b[0m                 \u001b[0;31m# Fall back to `BaseFrame.__getattr__`\u001b[0m\u001b[0;34m\u001b[0m\u001b[0;34m\u001b[0m\u001b[0m\n\u001b[0;32m-> 3076\u001b[0;31m                 \u001b[0;32mreturn\u001b[0m \u001b[0msuper\u001b[0m\u001b[0;34m(\u001b[0m\u001b[0;34m)\u001b[0m\u001b[0;34m.\u001b[0m\u001b[0m__getattr__\u001b[0m\u001b[0;34m(\u001b[0m\u001b[0mkey\u001b[0m\u001b[0;34m)\u001b[0m\u001b[0;34m\u001b[0m\u001b[0;34m\u001b[0m\u001b[0m\n\u001b[0m\u001b[1;32m   3077\u001b[0m \u001b[0;34m\u001b[0m\u001b[0m\n\u001b[1;32m   3078\u001b[0m     \u001b[0;32mdef\u001b[0m \u001b[0m__dir__\u001b[0m\u001b[0;34m(\u001b[0m\u001b[0mself\u001b[0m\u001b[0;34m)\u001b[0m\u001b[0;34m:\u001b[0m\u001b[0;34m\u001b[0m\u001b[0;34m\u001b[0m\u001b[0m\n",
      "\u001b[0;32m/usr/local/lib/python3.10/dist-packages/dask_expr/_collection.py\u001b[0m in \u001b[0;36m__getattr__\u001b[0;34m(self, key)\u001b[0m\n\u001b[1;32m    624\u001b[0m             \u001b[0;32mexcept\u001b[0m \u001b[0mAttributeError\u001b[0m\u001b[0;34m:\u001b[0m\u001b[0;34m\u001b[0m\u001b[0;34m\u001b[0m\u001b[0m\n\u001b[1;32m    625\u001b[0m                 \u001b[0;31m# Raise original error\u001b[0m\u001b[0;34m\u001b[0m\u001b[0;34m\u001b[0m\u001b[0m\n\u001b[0;32m--> 626\u001b[0;31m                 \u001b[0;32mraise\u001b[0m \u001b[0merr\u001b[0m\u001b[0;34m\u001b[0m\u001b[0;34m\u001b[0m\u001b[0m\n\u001b[0m\u001b[1;32m    627\u001b[0m \u001b[0;34m\u001b[0m\u001b[0m\n\u001b[1;32m    628\u001b[0m     \u001b[0;32mdef\u001b[0m \u001b[0mvisualize\u001b[0m\u001b[0;34m(\u001b[0m\u001b[0mself\u001b[0m\u001b[0;34m,\u001b[0m \u001b[0mtasks\u001b[0m\u001b[0;34m:\u001b[0m \u001b[0mbool\u001b[0m \u001b[0;34m=\u001b[0m \u001b[0;32mFalse\u001b[0m\u001b[0;34m,\u001b[0m \u001b[0;34m**\u001b[0m\u001b[0mkwargs\u001b[0m\u001b[0;34m)\u001b[0m\u001b[0;34m:\u001b[0m\u001b[0;34m\u001b[0m\u001b[0;34m\u001b[0m\u001b[0m\n",
      "\u001b[0;32m/usr/local/lib/python3.10/dist-packages/dask_expr/_collection.py\u001b[0m in \u001b[0;36m__getattr__\u001b[0;34m(self, key)\u001b[0m\n\u001b[1;32m    613\u001b[0m         \u001b[0;32mtry\u001b[0m\u001b[0;34m:\u001b[0m\u001b[0;34m\u001b[0m\u001b[0;34m\u001b[0m\u001b[0m\n\u001b[1;32m    614\u001b[0m             \u001b[0;31m# Prioritize `FrameBase` attributes\u001b[0m\u001b[0;34m\u001b[0m\u001b[0;34m\u001b[0m\u001b[0m\n\u001b[0;32m--> 615\u001b[0;31m             \u001b[0;32mreturn\u001b[0m \u001b[0mobject\u001b[0m\u001b[0;34m.\u001b[0m\u001b[0m__getattribute__\u001b[0m\u001b[0;34m(\u001b[0m\u001b[0mself\u001b[0m\u001b[0;34m,\u001b[0m \u001b[0mkey\u001b[0m\u001b[0;34m)\u001b[0m\u001b[0;34m\u001b[0m\u001b[0;34m\u001b[0m\u001b[0m\n\u001b[0m\u001b[1;32m    616\u001b[0m         \u001b[0;32mexcept\u001b[0m \u001b[0mAttributeError\u001b[0m \u001b[0;32mas\u001b[0m \u001b[0merr\u001b[0m\u001b[0;34m:\u001b[0m\u001b[0;34m\u001b[0m\u001b[0;34m\u001b[0m\u001b[0m\n\u001b[1;32m    617\u001b[0m             \u001b[0;32mtry\u001b[0m\u001b[0;34m:\u001b[0m\u001b[0;34m\u001b[0m\u001b[0;34m\u001b[0m\u001b[0m\n",
      "\u001b[0;31mAttributeError\u001b[0m: 'DataFrame' object has no attribute 'T'"
     ]
    }
   ],
   "source": [
    "ddf.T"
   ]
  },
  {
   "cell_type": "code",
   "execution_count": null,
   "metadata": {
    "colab": {
     "base_uri": "https://localhost:8080/",
     "height": 112
    },
    "id": "QTGO0PQeoVMP",
    "outputId": "9318b2f5-5b96-4b5b-f9a3-e8a48f666b9e"
   },
   "outputs": [
    {
     "data": {
      "text/html": [
       "<div>\n",
       "<style scoped>\n",
       "    .dataframe tbody tr th:only-of-type {\n",
       "        vertical-align: middle;\n",
       "    }\n",
       "\n",
       "    .dataframe tbody tr th {\n",
       "        vertical-align: top;\n",
       "    }\n",
       "\n",
       "    .dataframe thead th {\n",
       "        text-align: right;\n",
       "    }\n",
       "</style>\n",
       "<table border=\"1\" class=\"dataframe\">\n",
       "  <thead>\n",
       "    <tr style=\"text-align: right;\">\n",
       "      <th></th>\n",
       "      <th>0</th>\n",
       "      <th>1</th>\n",
       "      <th>2</th>\n",
       "      <th>3</th>\n",
       "      <th>4</th>\n",
       "      <th>5</th>\n",
       "      <th>6</th>\n",
       "      <th>7</th>\n",
       "      <th>8</th>\n",
       "      <th>9</th>\n",
       "    </tr>\n",
       "  </thead>\n",
       "  <tbody>\n",
       "    <tr>\n",
       "      <th>a</th>\n",
       "      <td>-0.691674</td>\n",
       "      <td>0.480099</td>\n",
       "      <td>-0.47337</td>\n",
       "      <td>0.067479</td>\n",
       "      <td>-0.970850</td>\n",
       "      <td>0.837494</td>\n",
       "      <td>0.801430</td>\n",
       "      <td>-0.933157</td>\n",
       "      <td>0.913899</td>\n",
       "      <td>-0.725581</td>\n",
       "    </tr>\n",
       "    <tr>\n",
       "      <th>b</th>\n",
       "      <td>-0.432343</td>\n",
       "      <td>0.212166</td>\n",
       "      <td>0.88845</td>\n",
       "      <td>0.705471</td>\n",
       "      <td>-0.995482</td>\n",
       "      <td>0.042452</td>\n",
       "      <td>0.104075</td>\n",
       "      <td>-0.029245</td>\n",
       "      <td>0.536268</td>\n",
       "      <td>-0.678566</td>\n",
       "    </tr>\n",
       "  </tbody>\n",
       "</table>\n",
       "</div>"
      ],
      "text/plain": [
       "          0         1        2         3         4         5         6  \\\n",
       "a -0.691674  0.480099 -0.47337  0.067479 -0.970850  0.837494  0.801430   \n",
       "b -0.432343  0.212166  0.88845  0.705471 -0.995482  0.042452  0.104075   \n",
       "\n",
       "          7         8         9  \n",
       "a -0.933157  0.913899 -0.725581  \n",
       "b -0.029245  0.536268 -0.678566  "
      ]
     },
     "execution_count": 102,
     "metadata": {},
     "output_type": "execute_result"
    }
   ],
   "source": [
    "ddf.compute().T"
   ]
  },
  {
   "cell_type": "markdown",
   "metadata": {
    "id": "ia-6r8EUoqSb"
   },
   "source": [
    "# Polars"
   ]
  },
  {
   "cell_type": "code",
   "execution_count": 1,
   "metadata": {
    "id": "yK2GI1naosCn"
   },
   "outputs": [],
   "source": [
    "import polars as pl"
   ]
  },
  {
   "cell_type": "markdown",
   "metadata": {
    "id": "CrmPYTECp2V6"
   },
   "source": [
    "Тут нет GPU вычислений"
   ]
  },
  {
   "cell_type": "code",
   "execution_count": 2,
   "metadata": {
    "id": "3o-LYqj1p5FP"
   },
   "outputs": [],
   "source": [
    "df_pl = pl.read_parquet('covid.gzip')"
   ]
  },
  {
   "cell_type": "code",
   "execution_count": 3,
   "metadata": {
    "colab": {
     "base_uri": "https://localhost:8080/",
     "height": 443
    },
    "id": "o0EqmTneqAwy",
    "outputId": "59bf775e-14d4-4289-b2ea-266e2ec1b6f9"
   },
   "outputs": [
    {
     "data": {
      "text/html": [
       "<div><style>\n",
       ".dataframe > thead > tr,\n",
       ".dataframe > tbody > tr {\n",
       "  text-align: right;\n",
       "  white-space: pre-wrap;\n",
       "}\n",
       "</style>\n",
       "<small>shape: (8_405_079, 8)</small><table border=\"1\" class=\"dataframe\"><thead><tr><th>current_status</th><th>sex</th><th>age_group</th><th>Race and ethnicity (combined)</th><th>hosp_yn</th><th>icu_yn</th><th>death_yn</th><th>medcond_yn</th></tr><tr><td>str</td><td>str</td><td>str</td><td>str</td><td>str</td><td>str</td><td>str</td><td>str</td></tr></thead><tbody><tr><td>&quot;Laboratory-confirmed case&quot;</td><td>&quot;Male&quot;</td><td>&quot;10 - 19 Years&quot;</td><td>&quot;Black, Non-Hispanic&quot;</td><td>&quot;No&quot;</td><td>&quot;Unknown&quot;</td><td>&quot;No&quot;</td><td>&quot;No&quot;</td></tr><tr><td>&quot;Laboratory-confirmed case&quot;</td><td>&quot;Male&quot;</td><td>&quot;10 - 19 Years&quot;</td><td>&quot;Black, Non-Hispanic&quot;</td><td>&quot;No&quot;</td><td>&quot;No&quot;</td><td>&quot;No&quot;</td><td>&quot;No&quot;</td></tr><tr><td>&quot;Laboratory-confirmed case&quot;</td><td>&quot;Male&quot;</td><td>&quot;10 - 19 Years&quot;</td><td>&quot;Black, Non-Hispanic&quot;</td><td>&quot;No&quot;</td><td>&quot;No&quot;</td><td>&quot;No&quot;</td><td>&quot;No&quot;</td></tr><tr><td>&quot;Laboratory-confirmed case&quot;</td><td>&quot;Male&quot;</td><td>&quot;10 - 19 Years&quot;</td><td>&quot;Black, Non-Hispanic&quot;</td><td>&quot;Missing&quot;</td><td>&quot;Missing&quot;</td><td>&quot;No&quot;</td><td>&quot;Missing&quot;</td></tr><tr><td>&quot;Laboratory-confirmed case&quot;</td><td>&quot;Male&quot;</td><td>&quot;10 - 19 Years&quot;</td><td>&quot;Black, Non-Hispanic&quot;</td><td>&quot;No&quot;</td><td>&quot;No&quot;</td><td>&quot;No&quot;</td><td>&quot;Yes&quot;</td></tr><tr><td>&hellip;</td><td>&hellip;</td><td>&hellip;</td><td>&hellip;</td><td>&hellip;</td><td>&hellip;</td><td>&hellip;</td><td>&hellip;</td></tr><tr><td>&quot;Probable Case&quot;</td><td>&quot;Missing&quot;</td><td>&quot;30 - 39 Years&quot;</td><td>&quot;Unknown&quot;</td><td>&quot;No&quot;</td><td>&quot;Unknown&quot;</td><td>&quot;No&quot;</td><td>&quot;Missing&quot;</td></tr><tr><td>&quot;Laboratory-confirmed case&quot;</td><td>&quot;Missing&quot;</td><td>&quot;30 - 39 Years&quot;</td><td>&quot;Unknown&quot;</td><td>&quot;Missing&quot;</td><td>&quot;Missing&quot;</td><td>&quot;Missing&quot;</td><td>&quot;Missing&quot;</td></tr><tr><td>&quot;Laboratory-confirmed case&quot;</td><td>&quot;Missing&quot;</td><td>&quot;30 - 39 Years&quot;</td><td>&quot;Unknown&quot;</td><td>&quot;Missing&quot;</td><td>&quot;Missing&quot;</td><td>&quot;Missing&quot;</td><td>&quot;Missing&quot;</td></tr><tr><td>&quot;Laboratory-confirmed case&quot;</td><td>&quot;Missing&quot;</td><td>&quot;30 - 39 Years&quot;</td><td>&quot;Unknown&quot;</td><td>&quot;Missing&quot;</td><td>&quot;Missing&quot;</td><td>&quot;Missing&quot;</td><td>&quot;Missing&quot;</td></tr><tr><td>&quot;Laboratory-confirmed case&quot;</td><td>&quot;Missing&quot;</td><td>&quot;30 - 39 Years&quot;</td><td>&quot;Unknown&quot;</td><td>&quot;No&quot;</td><td>&quot;Unknown&quot;</td><td>&quot;No&quot;</td><td>&quot;Missing&quot;</td></tr></tbody></table></div>"
      ],
      "text/plain": [
       "shape: (8_405_079, 8)\n",
       "┌────────────────┬─────────┬───────────┬───────────────┬─────────┬─────────┬──────────┬────────────┐\n",
       "│ current_status ┆ sex     ┆ age_group ┆ Race and      ┆ hosp_yn ┆ icu_yn  ┆ death_yn ┆ medcond_yn │\n",
       "│ ---            ┆ ---     ┆ ---       ┆ ethnicity     ┆ ---     ┆ ---     ┆ ---      ┆ ---        │\n",
       "│ str            ┆ str     ┆ str       ┆ (combined)    ┆ str     ┆ str     ┆ str      ┆ str        │\n",
       "│                ┆         ┆           ┆ ---           ┆         ┆         ┆          ┆            │\n",
       "│                ┆         ┆           ┆ str           ┆         ┆         ┆          ┆            │\n",
       "╞════════════════╪═════════╪═══════════╪═══════════════╪═════════╪═════════╪══════════╪════════════╡\n",
       "│ Laboratory-con ┆ Male    ┆ 10 - 19   ┆ Black,        ┆ No      ┆ Unknown ┆ No       ┆ No         │\n",
       "│ firmed case    ┆         ┆ Years     ┆ Non-Hispanic  ┆         ┆         ┆          ┆            │\n",
       "│ Laboratory-con ┆ Male    ┆ 10 - 19   ┆ Black,        ┆ No      ┆ No      ┆ No       ┆ No         │\n",
       "│ firmed case    ┆         ┆ Years     ┆ Non-Hispanic  ┆         ┆         ┆          ┆            │\n",
       "│ Laboratory-con ┆ Male    ┆ 10 - 19   ┆ Black,        ┆ No      ┆ No      ┆ No       ┆ No         │\n",
       "│ firmed case    ┆         ┆ Years     ┆ Non-Hispanic  ┆         ┆         ┆          ┆            │\n",
       "│ Laboratory-con ┆ Male    ┆ 10 - 19   ┆ Black,        ┆ Missing ┆ Missing ┆ No       ┆ Missing    │\n",
       "│ firmed case    ┆         ┆ Years     ┆ Non-Hispanic  ┆         ┆         ┆          ┆            │\n",
       "│ Laboratory-con ┆ Male    ┆ 10 - 19   ┆ Black,        ┆ No      ┆ No      ┆ No       ┆ Yes        │\n",
       "│ firmed case    ┆         ┆ Years     ┆ Non-Hispanic  ┆         ┆         ┆          ┆            │\n",
       "│ …              ┆ …       ┆ …         ┆ …             ┆ …       ┆ …       ┆ …        ┆ …          │\n",
       "│ Probable Case  ┆ Missing ┆ 30 - 39   ┆ Unknown       ┆ No      ┆ Unknown ┆ No       ┆ Missing    │\n",
       "│                ┆         ┆ Years     ┆               ┆         ┆         ┆          ┆            │\n",
       "│ Laboratory-con ┆ Missing ┆ 30 - 39   ┆ Unknown       ┆ Missing ┆ Missing ┆ Missing  ┆ Missing    │\n",
       "│ firmed case    ┆         ┆ Years     ┆               ┆         ┆         ┆          ┆            │\n",
       "│ Laboratory-con ┆ Missing ┆ 30 - 39   ┆ Unknown       ┆ Missing ┆ Missing ┆ Missing  ┆ Missing    │\n",
       "│ firmed case    ┆         ┆ Years     ┆               ┆         ┆         ┆          ┆            │\n",
       "│ Laboratory-con ┆ Missing ┆ 30 - 39   ┆ Unknown       ┆ Missing ┆ Missing ┆ Missing  ┆ Missing    │\n",
       "│ firmed case    ┆         ┆ Years     ┆               ┆         ┆         ┆          ┆            │\n",
       "│ Laboratory-con ┆ Missing ┆ 30 - 39   ┆ Unknown       ┆ No      ┆ Unknown ┆ No       ┆ Missing    │\n",
       "│ firmed case    ┆         ┆ Years     ┆               ┆         ┆         ┆          ┆            │\n",
       "└────────────────┴─────────┴───────────┴───────────────┴─────────┴─────────┴──────────┴────────────┘"
      ]
     },
     "execution_count": 3,
     "metadata": {},
     "output_type": "execute_result"
    }
   ],
   "source": [
    "df_pl"
   ]
  },
  {
   "cell_type": "markdown",
   "metadata": {
    "id": "XgYt8m5oqDYE"
   },
   "source": [
    "А вот тут уже есть потенциал для работы с GPU"
   ]
  },
  {
   "cell_type": "code",
   "execution_count": 4,
   "metadata": {
    "id": "ZcM4zc5dqHd_"
   },
   "outputs": [],
   "source": [
    "df_pl = pl.scan_parquet('covid.gzip')"
   ]
  },
  {
   "cell_type": "code",
   "execution_count": 5,
   "metadata": {
    "colab": {
     "base_uri": "https://localhost:8080/",
     "height": 148
    },
    "id": "SnGte1YpqPJu",
    "outputId": "c1b47beb-7d4a-4458-a648-fbf82a8e02c3"
   },
   "outputs": [
    {
     "data": {
      "text/html": [
       "<h4>NAIVE QUERY PLAN</h4><p>run <b>LazyFrame.show_graph()</b> to see the optimized version</p><?xml version=\"1.0\" encoding=\"UTF-8\" standalone=\"no\"?>\n",
       "<!DOCTYPE svg PUBLIC \"-//W3C//DTD SVG 1.1//EN\"\n",
       " \"http://www.w3.org/Graphics/SVG/1.1/DTD/svg11.dtd\">\n",
       "<!-- Generated by graphviz version 2.43.0 (0)\n",
       " -->\n",
       "<!-- Title: polars_query Pages: 1 -->\n",
       "<svg width=\"175pt\" height=\"46pt\"\n",
       " viewBox=\"0.00 0.00 175.00 46.00\" xmlns=\"http://www.w3.org/2000/svg\" xmlns:xlink=\"http://www.w3.org/1999/xlink\">\n",
       "<g id=\"graph0\" class=\"graph\" transform=\"scale(1 1) rotate(0) translate(4 42)\">\n",
       "<title>polars_query</title>\n",
       "<polygon fill=\"white\" stroke=\"transparent\" points=\"-4,4 -4,-42 171,-42 171,4 -4,4\"/>\n",
       "<!-- p1 -->\n",
       "<g id=\"node1\" class=\"node\">\n",
       "<title>p1</title>\n",
       "<polygon fill=\"none\" stroke=\"black\" points=\"167,-38 0,-38 0,0 167,0 167,-38\"/>\n",
       "<text text-anchor=\"middle\" x=\"83.5\" y=\"-22.8\" font-family=\"Times,serif\" font-size=\"14.00\">Parquet SCAN [covid.gzip]</text>\n",
       "<text text-anchor=\"middle\" x=\"83.5\" y=\"-7.8\" font-family=\"Times,serif\" font-size=\"14.00\">π */8;</text>\n",
       "</g>\n",
       "</g>\n",
       "</svg>\n"
      ],
      "text/plain": [
       "<LazyFrame at 0x7E67F965BE80>"
      ]
     },
     "execution_count": 5,
     "metadata": {},
     "output_type": "execute_result"
    }
   ],
   "source": [
    "df_pl"
   ]
  },
  {
   "cell_type": "markdown",
   "metadata": {
    "id": "xvTLaHdjqTYR"
   },
   "source": [
    "CPU"
   ]
  },
  {
   "cell_type": "code",
   "execution_count": 6,
   "metadata": {
    "colab": {
     "base_uri": "https://localhost:8080/",
     "height": 255
    },
    "id": "TOLsGqSRqUN2",
    "outputId": "9e6916d3-998f-4ddb-9fb2-b5a5556d578f"
   },
   "outputs": [
    {
     "data": {
      "text/html": [
       "<div><style>\n",
       ".dataframe > thead > tr,\n",
       ".dataframe > tbody > tr {\n",
       "  text-align: right;\n",
       "  white-space: pre-wrap;\n",
       "}\n",
       "</style>\n",
       "<small>shape: (5, 8)</small><table border=\"1\" class=\"dataframe\"><thead><tr><th>current_status</th><th>sex</th><th>age_group</th><th>Race and ethnicity (combined)</th><th>hosp_yn</th><th>icu_yn</th><th>death_yn</th><th>medcond_yn</th></tr><tr><td>str</td><td>str</td><td>str</td><td>str</td><td>str</td><td>str</td><td>str</td><td>str</td></tr></thead><tbody><tr><td>&quot;Laboratory-confirmed case&quot;</td><td>&quot;Male&quot;</td><td>&quot;10 - 19 Years&quot;</td><td>&quot;Black, Non-Hispanic&quot;</td><td>&quot;No&quot;</td><td>&quot;Unknown&quot;</td><td>&quot;No&quot;</td><td>&quot;No&quot;</td></tr><tr><td>&quot;Laboratory-confirmed case&quot;</td><td>&quot;Male&quot;</td><td>&quot;10 - 19 Years&quot;</td><td>&quot;Black, Non-Hispanic&quot;</td><td>&quot;No&quot;</td><td>&quot;No&quot;</td><td>&quot;No&quot;</td><td>&quot;No&quot;</td></tr><tr><td>&quot;Laboratory-confirmed case&quot;</td><td>&quot;Male&quot;</td><td>&quot;10 - 19 Years&quot;</td><td>&quot;Black, Non-Hispanic&quot;</td><td>&quot;No&quot;</td><td>&quot;No&quot;</td><td>&quot;No&quot;</td><td>&quot;No&quot;</td></tr><tr><td>&quot;Laboratory-confirmed case&quot;</td><td>&quot;Male&quot;</td><td>&quot;10 - 19 Years&quot;</td><td>&quot;Black, Non-Hispanic&quot;</td><td>&quot;Missing&quot;</td><td>&quot;Missing&quot;</td><td>&quot;No&quot;</td><td>&quot;Missing&quot;</td></tr><tr><td>&quot;Laboratory-confirmed case&quot;</td><td>&quot;Male&quot;</td><td>&quot;10 - 19 Years&quot;</td><td>&quot;Black, Non-Hispanic&quot;</td><td>&quot;No&quot;</td><td>&quot;No&quot;</td><td>&quot;No&quot;</td><td>&quot;Yes&quot;</td></tr></tbody></table></div>"
      ],
      "text/plain": [
       "shape: (5, 8)\n",
       "┌───────────────┬──────┬───────────────┬───────────────┬─────────┬─────────┬──────────┬────────────┐\n",
       "│ current_statu ┆ sex  ┆ age_group     ┆ Race and      ┆ hosp_yn ┆ icu_yn  ┆ death_yn ┆ medcond_yn │\n",
       "│ s             ┆ ---  ┆ ---           ┆ ethnicity     ┆ ---     ┆ ---     ┆ ---      ┆ ---        │\n",
       "│ ---           ┆ str  ┆ str           ┆ (combined)    ┆ str     ┆ str     ┆ str      ┆ str        │\n",
       "│ str           ┆      ┆               ┆ ---           ┆         ┆         ┆          ┆            │\n",
       "│               ┆      ┆               ┆ str           ┆         ┆         ┆          ┆            │\n",
       "╞═══════════════╪══════╪═══════════════╪═══════════════╪═════════╪═════════╪══════════╪════════════╡\n",
       "│ Laboratory-co ┆ Male ┆ 10 - 19 Years ┆ Black,        ┆ No      ┆ Unknown ┆ No       ┆ No         │\n",
       "│ nfirmed case  ┆      ┆               ┆ Non-Hispanic  ┆         ┆         ┆          ┆            │\n",
       "│ Laboratory-co ┆ Male ┆ 10 - 19 Years ┆ Black,        ┆ No      ┆ No      ┆ No       ┆ No         │\n",
       "│ nfirmed case  ┆      ┆               ┆ Non-Hispanic  ┆         ┆         ┆          ┆            │\n",
       "│ Laboratory-co ┆ Male ┆ 10 - 19 Years ┆ Black,        ┆ No      ┆ No      ┆ No       ┆ No         │\n",
       "│ nfirmed case  ┆      ┆               ┆ Non-Hispanic  ┆         ┆         ┆          ┆            │\n",
       "│ Laboratory-co ┆ Male ┆ 10 - 19 Years ┆ Black,        ┆ Missing ┆ Missing ┆ No       ┆ Missing    │\n",
       "│ nfirmed case  ┆      ┆               ┆ Non-Hispanic  ┆         ┆         ┆          ┆            │\n",
       "│ Laboratory-co ┆ Male ┆ 10 - 19 Years ┆ Black,        ┆ No      ┆ No      ┆ No       ┆ Yes        │\n",
       "│ nfirmed case  ┆      ┆               ┆ Non-Hispanic  ┆         ┆         ┆          ┆            │\n",
       "└───────────────┴──────┴───────────────┴───────────────┴─────────┴─────────┴──────────┴────────────┘"
      ]
     },
     "execution_count": 6,
     "metadata": {},
     "output_type": "execute_result"
    }
   ],
   "source": [
    "df_pl.head(5).collect()"
   ]
  },
  {
   "cell_type": "markdown",
   "metadata": {
    "id": "N4yp8ISvqage"
   },
   "source": [
    "GPU"
   ]
  },
  {
   "cell_type": "code",
   "execution_count": 7,
   "metadata": {
    "id": "es77PLBCqbPo"
   },
   "outputs": [],
   "source": [
    "gpu_engine = pl.GPUEngine(\n",
    "    device=0,\n",
    "    raise_on_fail=True #Упадет, если нельзя сделать расчет на GPU\n",
    ")"
   ]
  },
  {
   "cell_type": "code",
   "execution_count": 8,
   "metadata": {
    "colab": {
     "base_uri": "https://localhost:8080/",
     "height": 255
    },
    "id": "RS-3YB5nqsKH",
    "outputId": "2e390668-33db-4944-f35e-0f9e04f877aa"
   },
   "outputs": [
    {
     "data": {
      "text/html": [
       "<div><style>\n",
       ".dataframe > thead > tr,\n",
       ".dataframe > tbody > tr {\n",
       "  text-align: right;\n",
       "  white-space: pre-wrap;\n",
       "}\n",
       "</style>\n",
       "<small>shape: (5, 8)</small><table border=\"1\" class=\"dataframe\"><thead><tr><th>current_status</th><th>sex</th><th>age_group</th><th>Race and ethnicity (combined)</th><th>hosp_yn</th><th>icu_yn</th><th>death_yn</th><th>medcond_yn</th></tr><tr><td>str</td><td>str</td><td>str</td><td>str</td><td>str</td><td>str</td><td>str</td><td>str</td></tr></thead><tbody><tr><td>&quot;Laboratory-confirmed case&quot;</td><td>&quot;Male&quot;</td><td>&quot;10 - 19 Years&quot;</td><td>&quot;Black, Non-Hispanic&quot;</td><td>&quot;No&quot;</td><td>&quot;Unknown&quot;</td><td>&quot;No&quot;</td><td>&quot;No&quot;</td></tr><tr><td>&quot;Laboratory-confirmed case&quot;</td><td>&quot;Male&quot;</td><td>&quot;10 - 19 Years&quot;</td><td>&quot;Black, Non-Hispanic&quot;</td><td>&quot;No&quot;</td><td>&quot;No&quot;</td><td>&quot;No&quot;</td><td>&quot;No&quot;</td></tr><tr><td>&quot;Laboratory-confirmed case&quot;</td><td>&quot;Male&quot;</td><td>&quot;10 - 19 Years&quot;</td><td>&quot;Black, Non-Hispanic&quot;</td><td>&quot;No&quot;</td><td>&quot;No&quot;</td><td>&quot;No&quot;</td><td>&quot;No&quot;</td></tr><tr><td>&quot;Laboratory-confirmed case&quot;</td><td>&quot;Male&quot;</td><td>&quot;10 - 19 Years&quot;</td><td>&quot;Black, Non-Hispanic&quot;</td><td>&quot;Missing&quot;</td><td>&quot;Missing&quot;</td><td>&quot;No&quot;</td><td>&quot;Missing&quot;</td></tr><tr><td>&quot;Laboratory-confirmed case&quot;</td><td>&quot;Male&quot;</td><td>&quot;10 - 19 Years&quot;</td><td>&quot;Black, Non-Hispanic&quot;</td><td>&quot;No&quot;</td><td>&quot;No&quot;</td><td>&quot;No&quot;</td><td>&quot;Yes&quot;</td></tr></tbody></table></div>"
      ],
      "text/plain": [
       "shape: (5, 8)\n",
       "┌───────────────┬──────┬───────────────┬───────────────┬─────────┬─────────┬──────────┬────────────┐\n",
       "│ current_statu ┆ sex  ┆ age_group     ┆ Race and      ┆ hosp_yn ┆ icu_yn  ┆ death_yn ┆ medcond_yn │\n",
       "│ s             ┆ ---  ┆ ---           ┆ ethnicity     ┆ ---     ┆ ---     ┆ ---      ┆ ---        │\n",
       "│ ---           ┆ str  ┆ str           ┆ (combined)    ┆ str     ┆ str     ┆ str      ┆ str        │\n",
       "│ str           ┆      ┆               ┆ ---           ┆         ┆         ┆          ┆            │\n",
       "│               ┆      ┆               ┆ str           ┆         ┆         ┆          ┆            │\n",
       "╞═══════════════╪══════╪═══════════════╪═══════════════╪═════════╪═════════╪══════════╪════════════╡\n",
       "│ Laboratory-co ┆ Male ┆ 10 - 19 Years ┆ Black,        ┆ No      ┆ Unknown ┆ No       ┆ No         │\n",
       "│ nfirmed case  ┆      ┆               ┆ Non-Hispanic  ┆         ┆         ┆          ┆            │\n",
       "│ Laboratory-co ┆ Male ┆ 10 - 19 Years ┆ Black,        ┆ No      ┆ No      ┆ No       ┆ No         │\n",
       "│ nfirmed case  ┆      ┆               ┆ Non-Hispanic  ┆         ┆         ┆          ┆            │\n",
       "│ Laboratory-co ┆ Male ┆ 10 - 19 Years ┆ Black,        ┆ No      ┆ No      ┆ No       ┆ No         │\n",
       "│ nfirmed case  ┆      ┆               ┆ Non-Hispanic  ┆         ┆         ┆          ┆            │\n",
       "│ Laboratory-co ┆ Male ┆ 10 - 19 Years ┆ Black,        ┆ Missing ┆ Missing ┆ No       ┆ Missing    │\n",
       "│ nfirmed case  ┆      ┆               ┆ Non-Hispanic  ┆         ┆         ┆          ┆            │\n",
       "│ Laboratory-co ┆ Male ┆ 10 - 19 Years ┆ Black,        ┆ No      ┆ No      ┆ No       ┆ Yes        │\n",
       "│ nfirmed case  ┆      ┆               ┆ Non-Hispanic  ┆         ┆         ┆          ┆            │\n",
       "└───────────────┴──────┴───────────────┴───────────────┴─────────┴─────────┴──────────┴────────────┘"
      ]
     },
     "execution_count": 8,
     "metadata": {},
     "output_type": "execute_result"
    }
   ],
   "source": [
    "df_pl.head(5).collect(engine=gpu_engine)"
   ]
  },
  {
   "cell_type": "code",
   "execution_count": 9,
   "metadata": {
    "id": "dP2SvgX2qz2f"
   },
   "outputs": [],
   "source": [
    "df_pl = df_pl.drop_nulls()"
   ]
  },
  {
   "cell_type": "code",
   "execution_count": 10,
   "metadata": {
    "colab": {
     "base_uri": "https://localhost:8080/",
     "height": 264
    },
    "id": "puR9mryhq5sF",
    "outputId": "36bcd568-8254-43b7-dcc7-bc27a888cd63"
   },
   "outputs": [
    {
     "data": {
      "text/html": [
       "<h4>NAIVE QUERY PLAN</h4><p>run <b>LazyFrame.show_graph()</b> to see the optimized version</p><?xml version=\"1.0\" encoding=\"UTF-8\" standalone=\"no\"?>\n",
       "<!DOCTYPE svg PUBLIC \"-//W3C//DTD SVG 1.1//EN\"\n",
       " \"http://www.w3.org/Graphics/SVG/1.1/DTD/svg11.dtd\">\n",
       "<!-- Generated by graphviz version 2.43.0 (0)\n",
       " -->\n",
       "<!-- Title: polars_query Pages: 1 -->\n",
       "<svg width=\"1825pt\" height=\"118pt\"\n",
       " viewBox=\"0.00 0.00 1825.00 118.00\" xmlns=\"http://www.w3.org/2000/svg\" xmlns:xlink=\"http://www.w3.org/1999/xlink\">\n",
       "<g id=\"graph0\" class=\"graph\" transform=\"scale(1 1) rotate(0) translate(4 114)\">\n",
       "<title>polars_query</title>\n",
       "<polygon fill=\"white\" stroke=\"transparent\" points=\"-4,4 -4,-114 1821,-114 1821,4 -4,4\"/>\n",
       "<!-- p1 -->\n",
       "<g id=\"node1\" class=\"node\">\n",
       "<title>p1</title>\n",
       "<polygon fill=\"none\" stroke=\"black\" points=\"1817,-110 0,-110 0,-74 1817,-74 1817,-110\"/>\n",
       "<text text-anchor=\"middle\" x=\"908.5\" y=\"-88.3\" font-family=\"Times,serif\" font-size=\"14.00\">FILTER BY [([([([([([([(col(&quot;current_status&quot;).is_not_null()) &amp; (col(&quot;sex&quot;).is_not_null())]) &amp; (col(&quot;age_group&quot;).is_not_null())]) &amp; (col(&quot;Race and ethnicity (combined)&quot;).is_not_null())]) &amp; (col(&quot;hosp_yn&quot;).is_not_null())]) &amp; (col(&quot;icu_yn&quot;).is_not_null())]) &amp; (col(&quot;death_yn&quot;).is_not_null())]) &amp; (col(&quot;medcond_yn&quot;).is_not_null())]</text>\n",
       "</g>\n",
       "<!-- p2 -->\n",
       "<g id=\"node2\" class=\"node\">\n",
       "<title>p2</title>\n",
       "<polygon fill=\"none\" stroke=\"black\" points=\"992,-38 825,-38 825,0 992,0 992,-38\"/>\n",
       "<text text-anchor=\"middle\" x=\"908.5\" y=\"-22.8\" font-family=\"Times,serif\" font-size=\"14.00\">Parquet SCAN [covid.gzip]</text>\n",
       "<text text-anchor=\"middle\" x=\"908.5\" y=\"-7.8\" font-family=\"Times,serif\" font-size=\"14.00\">π */8;</text>\n",
       "</g>\n",
       "<!-- p1&#45;&#45;p2 -->\n",
       "<g id=\"edge1\" class=\"edge\">\n",
       "<title>p1&#45;&#45;p2</title>\n",
       "<path fill=\"none\" stroke=\"black\" d=\"M908.5,-73.81C908.5,-62.98 908.5,-49.01 908.5,-38.02\"/>\n",
       "</g>\n",
       "</g>\n",
       "</svg>\n"
      ],
      "text/plain": [
       "<LazyFrame at 0x7E6742D59D50>"
      ]
     },
     "execution_count": 10,
     "metadata": {},
     "output_type": "execute_result"
    }
   ],
   "source": [
    "df_pl"
   ]
  },
  {
   "cell_type": "code",
   "execution_count": 11,
   "metadata": {
    "id": "2CzyueOzrAHg"
   },
   "outputs": [],
   "source": [
    "#Важно сделать alias\n",
    "\n",
    "male_pl = df_pl.filter(pl.col('sex')=='Male')\\\n",
    "               .group_by('age_group')\\\n",
    "               .agg(pl.col('age_group').count().alias('count'))\\\n",
    "               .sort(by='count', descending=True)\n",
    "\n",
    "male_pl = male_pl.with_columns(percent=pl.col('count') / pl.col('count').sum() * 100)"
   ]
  },
  {
   "cell_type": "code",
   "execution_count": 12,
   "metadata": {
    "colab": {
     "base_uri": "https://localhost:8080/",
     "height": 670
    },
    "id": "zjFbaBqJr7fB",
    "outputId": "b04fa406-eb11-4647-f550-04025d4b5ef2"
   },
   "outputs": [
    {
     "data": {
      "text/html": [
       "<h4>NAIVE QUERY PLAN</h4><p>run <b>LazyFrame.show_graph()</b> to see the optimized version</p><?xml version=\"1.0\" encoding=\"UTF-8\" standalone=\"no\"?>\n",
       "<!DOCTYPE svg PUBLIC \"-//W3C//DTD SVG 1.1//EN\"\n",
       " \"http://www.w3.org/Graphics/SVG/1.1/DTD/svg11.dtd\">\n",
       "<!-- Generated by graphviz version 2.43.0 (0)\n",
       " -->\n",
       "<!-- Title: polars_query Pages: 1 -->\n",
       "<svg width=\"1825pt\" height=\"423pt\"\n",
       " viewBox=\"0.00 0.00 1825.00 423.00\" xmlns=\"http://www.w3.org/2000/svg\" xmlns:xlink=\"http://www.w3.org/1999/xlink\">\n",
       "<g id=\"graph0\" class=\"graph\" transform=\"scale(1 1) rotate(0) translate(4 419)\">\n",
       "<title>polars_query</title>\n",
       "<polygon fill=\"white\" stroke=\"transparent\" points=\"-4,4 -4,-419 1821,-419 1821,4 -4,4\"/>\n",
       "<!-- p1 -->\n",
       "<g id=\"node1\" class=\"node\">\n",
       "<title>p1</title>\n",
       "<polygon fill=\"none\" stroke=\"black\" points=\"1161.5,-415 655.5,-415 655.5,-379 1161.5,-379 1161.5,-415\"/>\n",
       "<text text-anchor=\"middle\" x=\"908.5\" y=\"-393.3\" font-family=\"Times,serif\" font-size=\"14.00\">WITH COLUMNS [[([(col(&quot;count&quot;)) / (col(&quot;count&quot;).sum())]) * (100.0)].alias(&quot;percent&quot;)]</text>\n",
       "</g>\n",
       "<!-- p2 -->\n",
       "<g id=\"node2\" class=\"node\">\n",
       "<title>p2</title>\n",
       "<polygon fill=\"none\" stroke=\"black\" points=\"985,-343 832,-343 832,-307 985,-307 985,-343\"/>\n",
       "<text text-anchor=\"middle\" x=\"908.5\" y=\"-321.3\" font-family=\"Times,serif\" font-size=\"14.00\">SORT BY [col(&quot;count&quot;)]</text>\n",
       "</g>\n",
       "<!-- p1&#45;&#45;p2 -->\n",
       "<g id=\"edge1\" class=\"edge\">\n",
       "<title>p1&#45;&#45;p2</title>\n",
       "<path fill=\"none\" stroke=\"black\" d=\"M908.5,-378.7C908.5,-367.85 908.5,-353.92 908.5,-343.1\"/>\n",
       "</g>\n",
       "<!-- p3 -->\n",
       "<g id=\"node3\" class=\"node\">\n",
       "<title>p3</title>\n",
       "<polygon fill=\"none\" stroke=\"black\" points=\"1046,-271 771,-271 771,-218 1046,-218 1046,-271\"/>\n",
       "<text text-anchor=\"middle\" x=\"908.5\" y=\"-255.8\" font-family=\"Times,serif\" font-size=\"14.00\">AGG [col(&quot;age_group&quot;).count().alias(&quot;count&quot;)]</text>\n",
       "<text text-anchor=\"middle\" x=\"908.5\" y=\"-240.8\" font-family=\"Times,serif\" font-size=\"14.00\">BY</text>\n",
       "<text text-anchor=\"middle\" x=\"908.5\" y=\"-225.8\" font-family=\"Times,serif\" font-size=\"14.00\">[col(&quot;age_group&quot;)]</text>\n",
       "</g>\n",
       "<!-- p2&#45;&#45;p3 -->\n",
       "<g id=\"edge2\" class=\"edge\">\n",
       "<title>p2&#45;&#45;p3</title>\n",
       "<path fill=\"none\" stroke=\"black\" d=\"M908.5,-306.97C908.5,-296.51 908.5,-282.9 908.5,-271.16\"/>\n",
       "</g>\n",
       "<!-- p4 -->\n",
       "<g id=\"node4\" class=\"node\">\n",
       "<title>p4</title>\n",
       "<polygon fill=\"none\" stroke=\"black\" points=\"1041,-182 776,-182 776,-146 1041,-146 1041,-182\"/>\n",
       "<text text-anchor=\"middle\" x=\"908.5\" y=\"-160.3\" font-family=\"Times,serif\" font-size=\"14.00\">FILTER BY [(col(&quot;sex&quot;)) == (String(Male))]</text>\n",
       "</g>\n",
       "<!-- p3&#45;&#45;p4 -->\n",
       "<g id=\"edge3\" class=\"edge\">\n",
       "<title>p3&#45;&#45;p4</title>\n",
       "<path fill=\"none\" stroke=\"black\" d=\"M908.5,-217.8C908.5,-206.17 908.5,-192.74 908.5,-182.33\"/>\n",
       "</g>\n",
       "<!-- p5 -->\n",
       "<g id=\"node5\" class=\"node\">\n",
       "<title>p5</title>\n",
       "<polygon fill=\"none\" stroke=\"black\" points=\"1817,-110 0,-110 0,-74 1817,-74 1817,-110\"/>\n",
       "<text text-anchor=\"middle\" x=\"908.5\" y=\"-88.3\" font-family=\"Times,serif\" font-size=\"14.00\">FILTER BY [([([([([([([(col(&quot;current_status&quot;).is_not_null()) &amp; (col(&quot;sex&quot;).is_not_null())]) &amp; (col(&quot;age_group&quot;).is_not_null())]) &amp; (col(&quot;Race and ethnicity (combined)&quot;).is_not_null())]) &amp; (col(&quot;hosp_yn&quot;).is_not_null())]) &amp; (col(&quot;icu_yn&quot;).is_not_null())]) &amp; (col(&quot;death_yn&quot;).is_not_null())]) &amp; (col(&quot;medcond_yn&quot;).is_not_null())]</text>\n",
       "</g>\n",
       "<!-- p4&#45;&#45;p5 -->\n",
       "<g id=\"edge4\" class=\"edge\">\n",
       "<title>p4&#45;&#45;p5</title>\n",
       "<path fill=\"none\" stroke=\"black\" d=\"M908.5,-145.7C908.5,-134.85 908.5,-120.92 908.5,-110.1\"/>\n",
       "</g>\n",
       "<!-- p6 -->\n",
       "<g id=\"node6\" class=\"node\">\n",
       "<title>p6</title>\n",
       "<polygon fill=\"none\" stroke=\"black\" points=\"992,-38 825,-38 825,0 992,0 992,-38\"/>\n",
       "<text text-anchor=\"middle\" x=\"908.5\" y=\"-22.8\" font-family=\"Times,serif\" font-size=\"14.00\">Parquet SCAN [covid.gzip]</text>\n",
       "<text text-anchor=\"middle\" x=\"908.5\" y=\"-7.8\" font-family=\"Times,serif\" font-size=\"14.00\">π */8;</text>\n",
       "</g>\n",
       "<!-- p5&#45;&#45;p6 -->\n",
       "<g id=\"edge5\" class=\"edge\">\n",
       "<title>p5&#45;&#45;p6</title>\n",
       "<path fill=\"none\" stroke=\"black\" d=\"M908.5,-73.81C908.5,-62.98 908.5,-49.01 908.5,-38.02\"/>\n",
       "</g>\n",
       "</g>\n",
       "</svg>\n"
      ],
      "text/plain": [
       "<LazyFrame at 0x7E670D528190>"
      ]
     },
     "execution_count": 12,
     "metadata": {},
     "output_type": "execute_result"
    }
   ],
   "source": [
    "male_pl"
   ]
  },
  {
   "cell_type": "code",
   "execution_count": 13,
   "metadata": {
    "colab": {
     "base_uri": "https://localhost:8080/",
     "height": 449
    },
    "id": "B774tYKqsEGS",
    "outputId": "565d7597-8034-4322-fd10-ba67daac7945"
   },
   "outputs": [
    {
     "name": "stdout",
     "output_type": "stream",
     "text": [
      "CPU times: user 554 ms, sys: 1.3 s, total: 1.85 s\n",
      "Wall time: 1.07 s\n"
     ]
    },
    {
     "data": {
      "text/html": [
       "<div><style>\n",
       ".dataframe > thead > tr,\n",
       ".dataframe > tbody > tr {\n",
       "  text-align: right;\n",
       "  white-space: pre-wrap;\n",
       "}\n",
       "</style>\n",
       "<small>shape: (10, 3)</small><table border=\"1\" class=\"dataframe\"><thead><tr><th>age_group</th><th>count</th><th>percent</th></tr><tr><td>str</td><td>u32</td><td>f64</td></tr></thead><tbody><tr><td>&quot;20 - 29 Years&quot;</td><td>760896</td><td>19.163293</td></tr><tr><td>&quot;30 - 39 Years&quot;</td><td>657692</td><td>16.564083</td></tr><tr><td>&quot;40 - 49 Years&quot;</td><td>600508</td><td>15.123895</td></tr><tr><td>&quot;50 - 59 Years&quot;</td><td>590246</td><td>14.865444</td></tr><tr><td>&quot;60 - 69 Years&quot;</td><td>423136</td><td>10.656751</td></tr><tr><td>&quot;10 - 19 Years&quot;</td><td>398220</td><td>10.029237</td></tr><tr><td>&quot;70 - 79 Years&quot;</td><td>233081</td><td>5.870184</td></tr><tr><td>&quot;0 - 9 Years&quot;</td><td>151635</td><td>3.818953</td></tr><tr><td>&quot;80+ Years&quot;</td><td>141096</td><td>3.553526</td></tr><tr><td>&quot;Unknown&quot;</td><td>14081</td><td>0.354632</td></tr></tbody></table></div>"
      ],
      "text/plain": [
       "shape: (10, 3)\n",
       "┌───────────────┬────────┬───────────┐\n",
       "│ age_group     ┆ count  ┆ percent   │\n",
       "│ ---           ┆ ---    ┆ ---       │\n",
       "│ str           ┆ u32    ┆ f64       │\n",
       "╞═══════════════╪════════╪═══════════╡\n",
       "│ 20 - 29 Years ┆ 760896 ┆ 19.163293 │\n",
       "│ 30 - 39 Years ┆ 657692 ┆ 16.564083 │\n",
       "│ 40 - 49 Years ┆ 600508 ┆ 15.123895 │\n",
       "│ 50 - 59 Years ┆ 590246 ┆ 14.865444 │\n",
       "│ 60 - 69 Years ┆ 423136 ┆ 10.656751 │\n",
       "│ 10 - 19 Years ┆ 398220 ┆ 10.029237 │\n",
       "│ 70 - 79 Years ┆ 233081 ┆ 5.870184  │\n",
       "│ 0 - 9 Years   ┆ 151635 ┆ 3.818953  │\n",
       "│ 80+ Years     ┆ 141096 ┆ 3.553526  │\n",
       "│ Unknown       ┆ 14081  ┆ 0.354632  │\n",
       "└───────────────┴────────┴───────────┘"
      ]
     },
     "execution_count": 13,
     "metadata": {},
     "output_type": "execute_result"
    }
   ],
   "source": [
    "%%time\n",
    "\n",
    "male_pl.collect()"
   ]
  },
  {
   "cell_type": "code",
   "execution_count": 16,
   "metadata": {
    "colab": {
     "base_uri": "https://localhost:8080/",
     "height": 449
    },
    "id": "RUvqCUcEsIos",
    "outputId": "0d7d3981-a300-4c71-9533-cebc10f59c0d"
   },
   "outputs": [
    {
     "name": "stdout",
     "output_type": "stream",
     "text": [
      "CPU times: user 434 ms, sys: 350 µs, total: 434 ms\n",
      "Wall time: 421 ms\n"
     ]
    },
    {
     "data": {
      "text/html": [
       "<div><style>\n",
       ".dataframe > thead > tr,\n",
       ".dataframe > tbody > tr {\n",
       "  text-align: right;\n",
       "  white-space: pre-wrap;\n",
       "}\n",
       "</style>\n",
       "<small>shape: (10, 3)</small><table border=\"1\" class=\"dataframe\"><thead><tr><th>age_group</th><th>count</th><th>percent</th></tr><tr><td>str</td><td>u32</td><td>f64</td></tr></thead><tbody><tr><td>&quot;20 - 29 Years&quot;</td><td>760896</td><td>19.163293</td></tr><tr><td>&quot;30 - 39 Years&quot;</td><td>657692</td><td>16.564083</td></tr><tr><td>&quot;40 - 49 Years&quot;</td><td>600508</td><td>15.123895</td></tr><tr><td>&quot;50 - 59 Years&quot;</td><td>590246</td><td>14.865444</td></tr><tr><td>&quot;60 - 69 Years&quot;</td><td>423136</td><td>10.656751</td></tr><tr><td>&quot;10 - 19 Years&quot;</td><td>398220</td><td>10.029237</td></tr><tr><td>&quot;70 - 79 Years&quot;</td><td>233081</td><td>5.870184</td></tr><tr><td>&quot;0 - 9 Years&quot;</td><td>151635</td><td>3.818953</td></tr><tr><td>&quot;80+ Years&quot;</td><td>141096</td><td>3.553526</td></tr><tr><td>&quot;Unknown&quot;</td><td>14081</td><td>0.354632</td></tr></tbody></table></div>"
      ],
      "text/plain": [
       "shape: (10, 3)\n",
       "┌───────────────┬────────┬───────────┐\n",
       "│ age_group     ┆ count  ┆ percent   │\n",
       "│ ---           ┆ ---    ┆ ---       │\n",
       "│ str           ┆ u32    ┆ f64       │\n",
       "╞═══════════════╪════════╪═══════════╡\n",
       "│ 20 - 29 Years ┆ 760896 ┆ 19.163293 │\n",
       "│ 30 - 39 Years ┆ 657692 ┆ 16.564083 │\n",
       "│ 40 - 49 Years ┆ 600508 ┆ 15.123895 │\n",
       "│ 50 - 59 Years ┆ 590246 ┆ 14.865444 │\n",
       "│ 60 - 69 Years ┆ 423136 ┆ 10.656751 │\n",
       "│ 10 - 19 Years ┆ 398220 ┆ 10.029237 │\n",
       "│ 70 - 79 Years ┆ 233081 ┆ 5.870184  │\n",
       "│ 0 - 9 Years   ┆ 151635 ┆ 3.818953  │\n",
       "│ 80+ Years     ┆ 141096 ┆ 3.553526  │\n",
       "│ Unknown       ┆ 14081  ┆ 0.354632  │\n",
       "└───────────────┴────────┴───────────┘"
      ]
     },
     "execution_count": 16,
     "metadata": {},
     "output_type": "execute_result"
    }
   ],
   "source": [
    "%%time\n",
    "\n",
    "male_pl.collect(engine=gpu_engine)"
   ]
  },
  {
   "cell_type": "markdown",
   "metadata": {
    "id": "EFAcwLNxgUXe"
   },
   "source": [
    "# Домашнее задание 1"
   ]
  },
  {
   "cell_type": "markdown",
   "metadata": {
    "id": "C2TP1ab4gUXe"
   },
   "source": [
    "Так как синтаксис очень похож на numpy, то ничего сложного в cupy нет.\n",
    "Придумайте какую-нибудь функцию только с использованием numpy и не в одну операцию, чтобы она несла какой-то смылс. Что-то аналогичное функции из занятия l2norm_dec:\n",
    "\n",
    "    def l2norm_dec(x):\n",
    "        return cp.sqrt(cp.sum(cp.power(x, 2), axis=1))\n",
    "        \n",
    "Можно взять норму Фробениуса для матрицы.\n",
    "\n",
    "Запишите эту же функцию при помощи cupy\n",
    "\n",
    "Третья функция - cupy + декоратор @cp.fuse()\n",
    "\n",
    "Сравните время выполнения=)"
   ]
  },
  {
   "cell_type": "markdown",
   "metadata": {
    "id": "BoAo0iqIkKi9"
   },
   "source": [
    "# Домашнее задание 2\n",
    "\n",
    "Сравните среднюю вероятность смерти мужчин и женщин по группам возрастов на основе столбца death_ind. Тоже самое проделайте для вероятности госпитализации, преобразовав переменную hosp_yn, как мы сделали с переменной death_yn. "
   ]
  },
  {
   "cell_type": "markdown",
   "metadata": {
    "id": "fcrdUQTwom9s"
   },
   "source": [
    "# Домашнее задание 3\n",
    "\n",
    "Аналогично заданию 2, но теперь при помощи dask_cudf"
   ]
  },
  {
   "cell_type": "markdown",
   "metadata": {
    "id": "wcFkyfixtcLV"
   },
   "source": [
    "# Домашнее задание 4\n",
    "\n",
    "Аналогично заданию 2, но теперь Polars c GPU"
   ]
  }
 ],
 "metadata": {
  "accelerator": "GPU",
  "colab": {
   "gpuType": "T4",
   "provenance": []
  },
  "kernelspec": {
   "display_name": "Python 3",
   "language": "python",
   "name": "python3"
  },
  "language_info": {
   "codemirror_mode": {
    "name": "ipython",
    "version": 3
   },
   "file_extension": ".py",
   "mimetype": "text/x-python",
   "name": "python",
   "nbconvert_exporter": "python",
   "pygments_lexer": "ipython3",
   "version": "3.8.8"
  }
 },
 "nbformat": 4,
 "nbformat_minor": 4
}
